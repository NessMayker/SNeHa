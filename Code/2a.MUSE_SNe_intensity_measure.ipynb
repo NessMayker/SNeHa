{
 "cells": [
  {
   "cell_type": "raw",
   "metadata": {},
   "source": [
    "This notebook converts the ra & dec coordinates of the SN sites to map pixels and measures the pixel intensity present at the SN site in the 150pc maps (1e-20 erg/s/cm2/spaxel).\n",
    "\n",
    "Intensity is pulled in 1a.MUSE_SN_mapper"
   ]
  },
  {
   "cell_type": "code",
   "execution_count": 1,
   "metadata": {},
   "outputs": [],
   "source": [
    "import warnings\n",
    "warnings.filterwarnings('ignore')"
   ]
  },
  {
   "cell_type": "code",
   "execution_count": 2,
   "metadata": {},
   "outputs": [],
   "source": [
    "#import packages and formatting statements\n",
    "\n",
    "import numpy as np\n",
    "from matplotlib import pyplot as plt\n",
    "import astropy.io.fits as pyfits\n",
    "from astropy.table import Table, join, Column\n",
    "from astropy.wcs import WCS\n",
    "from astropy.io import ascii\n",
    "import os\n",
    "\n",
    "plt.rc('text',usetex=False)\n",
    "fontsize=20\n",
    "plt.rc('xtick',labelsize=fontsize)\n",
    "plt.rc('ytick',labelsize=fontsize)"
   ]
  },
  {
   "cell_type": "code",
   "execution_count": 3,
   "metadata": {},
   "outputs": [
    {
     "data": {
      "text/html": [
       "<div><i>Table length=5</i>\n",
       "<table id=\"table140308805426384\" class=\"table-striped table-bordered table-condensed\">\n",
       "<thead><tr><th>Galaxy</th><th>Distance</th><th>Incl</th><th>Supernova</th><th>Type</th><th>Ra</th><th>Dec</th><th>MUSERes</th><th>MUSENatMap</th><th>MUSE150pcMap</th><th>MUSEHII</th><th>IRACfiles</th><th>Intensity</th><th>coptMap</th><th>InSample</th></tr></thead>\n",
       "<thead><tr><th>str7</th><th>float64</th><th>float64</th><th>str11</th><th>str12</th><th>float64</th><th>float64</th><th>float64</th><th>str71</th><th>str70</th><th>str50</th><th>str40</th><th>float64</th><th>str58</th><th>str4</th></tr></thead>\n",
       "<tr><td>NGC1087</td><td>15.85</td><td>42.9</td><td>SN1995V</td><td>II</td><td>41.61152777777777</td><td>-0.4987861111111111</td><td>0.92</td><td>../../GalaxyFiles/MUSELargeFiles/MUSE2.2_Nat/NGC1087-0.92asec_MAPS.fits</td><td>../../GalaxyFiles/MUSELargeFiles/MUSE2.2_150pc/NGC1087-150pc_MAPS.fits</td><td>../Data/HII_reg_masks/NGC1087_nebulae_mask_V2.fits</td><td>../Data/IRAC/ngc1087_irac1_atGauss4.fits</td><td>8.839672735197591e+39</td><td>../../GalaxyFiles/MUSELargeFiles/SFR/copt/NGC1087_sfr.fits</td><td>True</td></tr>\n",
       "<tr><td>NGC1300</td><td>18.99</td><td>31.8</td><td>SN2022acko</td><td>II</td><td>49.91245833333333</td><td>-19.39518888888889</td><td>0.89</td><td>../../GalaxyFiles/MUSELargeFiles/MUSE2.2_Nat/NGC1300-0.89asec_MAPS.fits</td><td>../../GalaxyFiles/MUSELargeFiles/MUSE2.2_150pc/NGC1300-150pc_MAPS.fits</td><td>../Data/HII_reg_masks/NGC1300_nebulae_mask_V2.fits</td><td>../Data/IRAC/ngc1300_irac1_atGauss4.fits</td><td>3.445745101042276e+38</td><td>../../GalaxyFiles/MUSELargeFiles/SFR/copt/NGC1300_sfr.fits</td><td>True</td></tr>\n",
       "<tr><td>NGC1365</td><td>19.57</td><td>55.4</td><td>SN1957C</td><td>Unclassified</td><td>53.38349999999999</td><td>-36.11770833333333</td><td>1.15</td><td>../../GalaxyFiles/MUSELargeFiles/MUSE2.2_Nat/NGC1365-1.15asec_MAPS.fits</td><td>../../GalaxyFiles/MUSELargeFiles/MUSE2.2_150pc/NGC1365-150pc_MAPS.fits</td><td>../Data/HII_reg_masks/NGC1365_nebulae_mask_V2.fits</td><td>../Data/IRAC/ngc1365_irac1_atGauss4.fits</td><td>2.938518960212585e+39</td><td>../../GalaxyFiles/MUSELargeFiles/SFR/copt/NGC1365_sfr.fits</td><td>True</td></tr>\n",
       "<tr><td>NGC1365</td><td>19.57</td><td>55.4</td><td>SN1983V</td><td>Ic</td><td>53.381876388888884</td><td>-36.14859166666667</td><td>1.15</td><td>../../GalaxyFiles/MUSELargeFiles/MUSE2.2_Nat/NGC1365-1.15asec_MAPS.fits</td><td>../../GalaxyFiles/MUSELargeFiles/MUSE2.2_150pc/NGC1365-150pc_MAPS.fits</td><td>../Data/HII_reg_masks/NGC1365_nebulae_mask_V2.fits</td><td>../Data/IRAC/ngc1365_irac1_atGauss4.fits</td><td>1.4845660990817182e+40</td><td>../../GalaxyFiles/MUSELargeFiles/SFR/copt/NGC1365_sfr.fits</td><td>True</td></tr>\n",
       "<tr><td>NGC1365</td><td>19.57</td><td>55.4</td><td>SN2001du</td><td>II</td><td>53.3713125</td><td>-36.142111111111106</td><td>1.15</td><td>../../GalaxyFiles/MUSELargeFiles/MUSE2.2_Nat/NGC1365-1.15asec_MAPS.fits</td><td>../../GalaxyFiles/MUSELargeFiles/MUSE2.2_150pc/NGC1365-150pc_MAPS.fits</td><td>../Data/HII_reg_masks/NGC1365_nebulae_mask_V2.fits</td><td>../Data/IRAC/ngc1365_irac1_atGauss4.fits</td><td>1.3530435354080875e+39</td><td>../../GalaxyFiles/MUSELargeFiles/SFR/copt/NGC1365_sfr.fits</td><td>True</td></tr>\n",
       "</table></div>"
      ],
      "text/plain": [
       "<Table length=5>\n",
       " Galaxy Distance ... InSample\n",
       "  str7  float64  ...   str4  \n",
       "------- -------- ... --------\n",
       "NGC1087    15.85 ...     True\n",
       "NGC1300    18.99 ...     True\n",
       "NGC1365    19.57 ...     True\n",
       "NGC1365    19.57 ...     True\n",
       "NGC1365    19.57 ...     True"
      ]
     },
     "execution_count": 3,
     "metadata": {},
     "output_type": "execute_result"
    }
   ],
   "source": [
    "# Compile galaxy and OSC objects\n",
    "# full catalog header: Name,Type,Host,RA hms,Dec dms,RA dds,Dec dds,DiscDate\n",
    "\n",
    "DataFile = '../Data/2.MUSESampleCat.csv'\n",
    "Data = Table.read(DataFile, format='csv') \n",
    "# galaxies, MUSEres, MUSENatMaps, MUSE150pcMaps = Data[\"Galaxy\"], Data[\"MUSERes\"], Data[\"MUSEmapNat\"], Data[\"MUSEmap150pc\"]\n",
    "\n",
    "Data[0:5]"
   ]
  },
  {
   "cell_type": "code",
   "execution_count": 4,
   "metadata": {},
   "outputs": [
    {
     "data": {
      "text/plain": [
       "array([0, 1, 0, 0, 1, 1, 0, 1, 1, 1, 1, 1, 0, 0, 0, 1, 1, 0, 0, 0, 1, 0,\n",
       "       0, 0, 0, 1, 1, 1, 0, 0, 1, 1, 1])"
      ]
     },
     "execution_count": 4,
     "metadata": {},
     "output_type": "execute_result"
    }
   ],
   "source": [
    "# isolate discovery year\n",
    "year = []\n",
    "for j in range(len(Data)):\n",
    "    yearDigits = [int(i) for i in Data[\"Supernova\"][j] if i.isdigit()]\n",
    "    # fix for ASAS-SN14\n",
    "    if len(yearDigits)<4:\n",
    "        yearDigits.insert(0,0)\n",
    "        yearDigits.insert(0,2)\n",
    "    yearDigits = int(''.join(map(str,yearDigits)))\n",
    "    year.append(yearDigits)\n",
    "    \n",
    "    #flag SNe since 2000\n",
    "goodSample = np.where(np.asarray(year) > 1999, 1, 0)\n",
    "goodSample\n"
   ]
  },
  {
   "cell_type": "code",
   "execution_count": 5,
   "metadata": {},
   "outputs": [],
   "source": [
    "#get intensities\n",
    "intensity = Data[\"Intensity\"]\n"
   ]
  },
  {
   "cell_type": "code",
   "execution_count": 6,
   "metadata": {},
   "outputs": [
    {
     "name": "stdout",
     "output_type": "stream",
     "text": [
      "Type\n",
      "----\n",
      "  II\n",
      "  II\n",
      "Ib/c\n",
      "Ib/c\n",
      "  II\n",
      "  Ia\n",
      "  II\n",
      " ...\n",
      "  Ia\n",
      "  II\n",
      "Ib/c\n",
      "Ib/c\n",
      "  Ia\n",
      "Ib/c\n",
      "Ib/c\n",
      "Length = 33 rows\n"
     ]
    }
   ],
   "source": [
    "# homogonize type classifications\n",
    "SNtype = Data[\"Type\"]\n",
    "for i in range(len(SNtype)):\n",
    "    if \"II\" in SNtype[i]:\n",
    "        SNtype[i] = \"II\"\n",
    "    elif \"Ia\" in SNtype[i]:\n",
    "        SNtype[i] = \"Ia\"\n",
    "    elif \"Ib\" or \"Ic\" in SNtype[i]:\n",
    "        SNtype[i] = \"Ib/c\"\n",
    "    else:\n",
    "        SNtype[i] = \"Unclassified\"\n",
    "print(SNtype)\n"
   ]
  },
  {
   "cell_type": "code",
   "execution_count": 7,
   "metadata": {},
   "outputs": [
    {
     "data": {
      "image/png": "[encoded data removed]",
      "text/plain": [
       "<Figure size 300x300 with 1 Axes>"
      ]
     },
     "metadata": {},
     "output_type": "display_data"
    }
   ],
   "source": [
    "#plot intensities \n",
    "inten = np.clip(intensity,0,np.max(intensity))\n",
    "\n",
    "import seaborn as sns\n",
    "sns.set_style(\"whitegrid\")\n",
    "## violinplot for owner\n",
    "fig = plt.figure(figsize=(3,3))\n",
    "\n",
    "sns.violinplot(y = inten,\n",
    "               x = SNtype)\n",
    "\n",
    "plt.yticks(fontsize=10)\n",
    "plt.xticks(fontsize=10)\n",
    "\n",
    "plt.ylabel(\"Intensity\", fontsize=12)\n",
    "plt.xlabel(\"SNtype\", fontsize=12)\n",
    "\n",
    "plt.show()\n",
    "fig.savefig(\"../Figures/IntensityViolin.pdf\", dpi=300)"
   ]
  },
  {
   "cell_type": "code",
   "execution_count": null,
   "metadata": {},
   "outputs": [],
   "source": []
  },
  {
   "cell_type": "code",
   "execution_count": 8,
   "metadata": {},
   "outputs": [
    {
     "name": "stdout",
     "output_type": "stream",
     "text": [
      "/bin/bash: Bug: command not found\r\n"
     ]
    }
   ],
   "source": [
    "!Bug OLD CODE MIGHT NOT NEED"
   ]
  },
  {
   "cell_type": "code",
   "execution_count": 9,
   "metadata": {},
   "outputs": [
    {
     "ename": "NameError",
     "evalue": "name 'galaxies' is not defined",
     "output_type": "error",
     "traceback": [
      "\u001b[0;31m---------------------------------------------------------------------------\u001b[0m",
      "\u001b[0;31mNameError\u001b[0m                                 Traceback (most recent call last)",
      "\u001b[0;32m/var/folders/9h/_7zlhm0d44l4v1c73f1lcr1r0000gn/T/ipykernel_25863/559768958.py\u001b[0m in \u001b[0;36m<module>\u001b[0;34m\u001b[0m\n\u001b[1;32m      4\u001b[0m     \u001b[0mprint\u001b[0m\u001b[0;34m(\u001b[0m\u001b[0;34m'#Galaxy,Supernova,Type,Ra,Dec,MUSERes,MUSENatMap,MUSE150pcMap, MUSE150pcInt'\u001b[0m\u001b[0;34m,\u001b[0m \u001b[0mfile\u001b[0m \u001b[0;34m=\u001b[0m \u001b[0mtext_file\u001b[0m\u001b[0;34m)\u001b[0m\u001b[0;34m\u001b[0m\u001b[0;34m\u001b[0m\u001b[0m\n\u001b[1;32m      5\u001b[0m \u001b[0;34m\u001b[0m\u001b[0m\n\u001b[0;32m----> 6\u001b[0;31m \u001b[0;32mfor\u001b[0m \u001b[0mi\u001b[0m \u001b[0;32min\u001b[0m \u001b[0mrange\u001b[0m\u001b[0;34m(\u001b[0m\u001b[0mlen\u001b[0m\u001b[0;34m(\u001b[0m\u001b[0mgalaxies\u001b[0m\u001b[0;34m)\u001b[0m\u001b[0;34m)\u001b[0m\u001b[0;34m:\u001b[0m\u001b[0;34m\u001b[0m\u001b[0;34m\u001b[0m\u001b[0m\n\u001b[0m\u001b[1;32m      7\u001b[0m     \u001b[0;32mif\u001b[0m \u001b[0;34m(\u001b[0m\u001b[0mMUSE150pcMaps\u001b[0m\u001b[0;34m[\u001b[0m\u001b[0mi\u001b[0m\u001b[0;34m]\u001b[0m \u001b[0;34m!=\u001b[0m \u001b[0;34m\"\"\u001b[0m \u001b[0;32mand\u001b[0m \u001b[0mos\u001b[0m\u001b[0;34m.\u001b[0m\u001b[0mpath\u001b[0m\u001b[0;34m.\u001b[0m\u001b[0misfile\u001b[0m\u001b[0;34m(\u001b[0m\u001b[0mMUSE150pcMaps\u001b[0m\u001b[0;34m[\u001b[0m\u001b[0mi\u001b[0m\u001b[0;34m]\u001b[0m\u001b[0;34m)\u001b[0m\u001b[0;34m)\u001b[0m\u001b[0;34m:\u001b[0m\u001b[0;34m\u001b[0m\u001b[0;34m\u001b[0m\u001b[0m\n\u001b[1;32m      8\u001b[0m \u001b[0;34m\u001b[0m\u001b[0m\n",
      "\u001b[0;31mNameError\u001b[0m: name 'galaxies' is not defined"
     ]
    }
   ],
   "source": [
    "# MEASURE INTENSITY and Build MUSE Catalogue That has all supernovae within PHANGS-MUSE footprint\n",
    "\n",
    "with open('../Data/2.MUSESNeInt.txt', 'w') as text_file:\n",
    "    print('#Galaxy,Supernova,Type,Ra,Dec,MUSERes,MUSENatMap,MUSE150pcMap, MUSE150pcInt', file = text_file)\n",
    "\n",
    "for i in range(len(galaxies)):\n",
    "    if (MUSE150pcMaps[i] != \"\" and os.path.isfile(MUSE150pcMaps[i])):\n",
    "    \n",
    "        intensity = []\n",
    "    \n",
    "        for k in range(len(XXX)):\n",
    "\n",
    "            xVal = int(round(x_coord[k]))\n",
    "            yVal = int(round(y_coord[k]))\n",
    "            if (yVal <= naxis2) and (xVal <= naxis1):\n",
    "                intensity.append(map[yVal, xVal])\n",
    "\n",
    "            else: \n",
    "                intensity.append(np.nan)\n",
    "\n",
    "\n",
    "        with open('../Data/2.MUSESNeInt.txt', 'a') as text_file:\n",
    "            for j in range(len(found_name)):\n",
    "                print(galaxies[i], \",\", found_name[j],\",\", found_type[j],\",\", found_ra[j], \",\",found_dec[j],\n",
    "                      \",\", MUSEres[i],\",\", MUSENatMaps[i],\",\", MUSE150pcMaps[i],\",\", intensity[j], file = text_file)\n"
   ]
  },
  {
   "cell_type": "code",
   "execution_count": null,
   "metadata": {
    "scrolled": true
   },
   "outputs": [],
   "source": [
    "# Turn files into data structure and clean\n",
    "\n",
    "MUSEdataFile = '../Data/2.MUSESNeInt.txt'\n",
    "database = Table.read(MUSEdataFile, format='ascii') \n",
    "database[0:2]"
   ]
  }
 ],
 "metadata": {
  "kernelspec": {
   "display_name": "Python 3 (ipykernel)",
   "language": "python",
   "name": "python3"
  },
  "language_info": {
   "codemirror_mode": {
    "name": "ipython",
    "version": 3
   },
   "file_extension": ".py",
   "mimetype": "text/x-python",
   "name": "python",
   "nbconvert_exporter": "python",
   "pygments_lexer": "ipython3",
   "version": "3.9.13"
  }
 },
 "nbformat": 4,
 "nbformat_minor": 2
}
