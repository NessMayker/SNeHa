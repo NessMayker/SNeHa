{
 "cells": [
  {
   "cell_type": "raw",
   "metadata": {},
   "source": [
    "This notebook converts the ra & dec coordinates of the SN sites to map pixels and measures the pixel intensity present at the SN site in the 150pc maps (1e-20 erg/s/cm2/spaxel)."
   ]
  },
  {
   "cell_type": "code",
   "execution_count": 1,
   "metadata": {},
   "outputs": [],
   "source": [
    "import warnings\n",
    "warnings.filterwarnings('ignore')"
   ]
  },
  {
   "cell_type": "code",
   "execution_count": 2,
   "metadata": {},
   "outputs": [],
   "source": [
    "#import packages and formatting statements\n",
    "\n",
    "import numpy as np\n",
    "from matplotlib import pyplot as plt\n",
    "import astropy.io.fits as pyfits\n",
    "from astropy.table import Table, join, Column\n",
    "from astropy.wcs import WCS\n",
    "from astropy.io import ascii\n",
    "import os\n",
    "\n",
    "plt.rc('text',usetex=False)\n",
    "fontsize=20\n",
    "plt.rc('xtick',labelsize=fontsize)\n",
    "plt.rc('ytick',labelsize=fontsize)"
   ]
  },
  {
   "cell_type": "code",
   "execution_count": 1,
   "metadata": {},
   "outputs": [
    {
     "ename": "SyntaxError",
     "evalue": "invalid syntax (3336651370.py, line 1)",
     "output_type": "error",
     "traceback": [
      "\u001b[0;36m  File \u001b[0;32m\"/var/folders/9h/_7zlhm0d44l4v1c73f1lcr1r0000gn/T/ipykernel_8230/3336651370.py\"\u001b[0;36m, line \u001b[0;32m1\u001b[0m\n\u001b[0;31m    BASICALLY START HERE\u001b[0m\n\u001b[0m              ^\u001b[0m\n\u001b[0;31mSyntaxError\u001b[0m\u001b[0;31m:\u001b[0m invalid syntax\n"
     ]
    }
   ],
   "source": [
    "BASICALLY START HERE"
   ]
  },
  {
   "cell_type": "code",
   "execution_count": 4,
   "metadata": {},
   "outputs": [],
   "source": [
    "# Compile galaxy and OSC objects\n",
    "# full catalog header: Name,Type,Host,RA hms,Dec dms,RA dds,Dec dds,DiscDate\n",
    "\n",
    "DataFile = '../Data/2.MUSESampleCat.csv'\n",
    "Data = Table.read(DataFile, format='csv') \n",
    "galaxies, MUSEres, MUSENatMaps, MUSE150pcMaps = Data[\"Galaxy\"], Data[\"MUSENatRes\"], Data[\"MUSEmapNat\"], Data[\"MUSEmap150pc\"]\n",
    "\n"
   ]
  },
  {
   "cell_type": "code",
   "execution_count": 6,
   "metadata": {},
   "outputs": [],
   "source": [
    "# MEASURE INTENSITY and Build MUSE Catalogue That has all supernovae within PHANGS-MUSE footprint\n",
    "\n",
    "with open('../Data/2.MUSESNeInt.txt', 'w') as text_file:\n",
    "    print('#Galaxy,Supernova,Type,Ra,Dec,MUSERes,MUSENatMap,MUSE150pcMap, MUSE150pcInt', file = text_file)\n",
    "\n",
    "for i in range(len(galaxies)):\n",
    "    if (MUSE150pcMaps[i] != \"\" and os.path.isfile(MUSE150pcMaps[i])):\n",
    "    \n",
    "        intensity = []\n",
    "    \n",
    "        for k in range(len(XXX)):\n",
    "\n",
    "            xVal = int(round(x_coord[k]))\n",
    "            yVal = int(round(y_coord[k]))\n",
    "            if (yVal <= naxis2) and (xVal <= naxis1):\n",
    "                intensity.append(map[yVal, xVal])\n",
    "\n",
    "            else: \n",
    "                intensity.append(np.nan)\n",
    "\n",
    "\n",
    "        with open('../Data/2.MUSESNeInt.txt', 'a') as text_file:\n",
    "            for j in range(len(found_name)):\n",
    "                print(galaxies[i], \",\", found_name[j],\",\", found_type[j],\",\", found_ra[j], \",\",found_dec[j],\n",
    "                      \",\", MUSEres[i],\",\", MUSENatMaps[i],\",\", MUSE150pcMaps[i],\",\", intensity[j], file = text_file)\n"
   ]
  },
  {
   "cell_type": "code",
   "execution_count": 7,
   "metadata": {
    "scrolled": true
   },
   "outputs": [
    {
     "data": {
      "text/html": [
       "<div><i>Table length=2</i>\n",
       "<table id=\"table140297143063648\" class=\"table-striped table-bordered table-condensed\">\n",
       "<thead><tr><th>Galaxy</th><th>Supernova</th><th>Type</th><th>Ra</th><th>Dec</th><th>MUSERes</th><th>MUSENatMap</th><th>MUSE150pcMap</th><th>MUSE150pcInt</th></tr></thead>\n",
       "<thead><tr><th>str7</th><th>str11</th><th>str12</th><th>float64</th><th>float64</th><th>float64</th><th>str71</th><th>str70</th><th>float64</th></tr></thead>\n",
       "<tr><td>NGC1087</td><td>SN1995V</td><td>II</td><td>41.61152777777777</td><td>-0.4987861111111111</td><td>0.92</td><td>../../GalaxyFiles/MUSELargeFiles/MUSE2.2_Nat/NGC1087-0.92asec_MAPS.fits</td><td>../../GalaxyFiles/MUSELargeFiles/MUSE2.2_150pc/NGC1087-150pc_MAPS.fits</td><td>2851.421676185079</td></tr>\n",
       "<tr><td>NGC1300</td><td>SN2022acko</td><td>II</td><td>49.91245833333333</td><td>-19.39518888888889</td><td>0.89</td><td>../../GalaxyFiles/MUSELargeFiles/MUSE2.2_Nat/NGC1300-0.89asec_MAPS.fits</td><td>../../GalaxyFiles/MUSELargeFiles/MUSE2.2_150pc/NGC1300-150pc_MAPS.fits</td><td>291.17327796533147</td></tr>\n",
       "</table></div>"
      ],
      "text/plain": [
       "<Table length=2>\n",
       " Galaxy Supernova  ...    MUSE150pcInt   \n",
       "  str7    str11    ...      float64      \n",
       "------- ---------- ... ------------------\n",
       "NGC1087    SN1995V ...  2851.421676185079\n",
       "NGC1300 SN2022acko ... 291.17327796533147"
      ]
     },
     "execution_count": 7,
     "metadata": {},
     "output_type": "execute_result"
    }
   ],
   "source": [
    "# Turn files into data structure and clean\n",
    "\n",
    "MUSEdataFile = '../Data/2.MUSESNeInt.txt'\n",
    "database = Table.read(MUSEdataFile, format='ascii') \n",
    "database[0:2]"
   ]
  }
 ],
 "metadata": {
  "kernelspec": {
   "display_name": "Python 3 (ipykernel)",
   "language": "python",
   "name": "python3"
  },
  "language_info": {
   "codemirror_mode": {
    "name": "ipython",
    "version": 3
   },
   "file_extension": ".py",
   "mimetype": "text/x-python",
   "name": "python",
   "nbconvert_exporter": "python",
   "pygments_lexer": "ipython3",
   "version": "3.9.13"
  }
 },
 "nbformat": 4,
 "nbformat_minor": 2
}
