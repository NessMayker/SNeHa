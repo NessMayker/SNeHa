{
 "cells": [
  {
   "cell_type": "raw",
   "metadata": {},
   "source": [
    "This notebook measures and saves intensities at SN sites for COPT native, 150pc and 1kpc maps."
   ]
  },
  {
   "cell_type": "code",
   "execution_count": 1,
   "metadata": {},
   "outputs": [],
   "source": [
    "import warnings\n",
    "warnings.filterwarnings('ignore')"
   ]
  },
  {
   "cell_type": "code",
   "execution_count": 2,
   "metadata": {},
   "outputs": [],
   "source": [
    "#import packages and formatting statements\n",
    "\n",
    "import numpy as np\n",
    "from matplotlib import pyplot as plt\n",
    "import astropy.io.fits as pyfits\n",
    "from astropy.table import Table, join, Column\n",
    "from astropy.wcs import WCS\n",
    "from astropy.io import ascii\n",
    "import os\n",
    "\n",
    "plt.rc('text',usetex=False)\n",
    "fontsize=20\n",
    "plt.rc('xtick',labelsize=fontsize)\n",
    "plt.rc('ytick',labelsize=fontsize)"
   ]
  },
  {
   "cell_type": "code",
   "execution_count": 3,
   "metadata": {},
   "outputs": [],
   "source": [
    "# Compile galaxy and OSC objects\n",
    "# full catalog header: Name,Type,Host,RA hms,Dec dms,RA dds,Dec dds,DiscDate\n",
    "\n",
    "DataFile = '../Data/0.MUSEdata.csv'\n",
    "Data = Table.read(DataFile, format='csv') \n",
    "galaxies, dists =  Data[\"Galaxy\"], Data[\"Distance\"]\n",
    "COPTMaps,maps150, maps1kpc = Data[\"SFRcopt\"],Data[\"maps150\"],Data[\"maps1kpc\"]\n",
    "SNe, types = np.loadtxt('../Data/1.FullCatalog.csv', dtype = str, delimiter = \",\",unpack=True, usecols = (0,1))\n",
    "ras, decs = np.loadtxt('../Data/1.FullCatalog.csv',delimiter=',', unpack = True, usecols=(5,6))\n"
   ]
  },
  {
   "cell_type": "code",
   "execution_count": 4,
   "metadata": {},
   "outputs": [],
   "source": [
    "#Checks if Supernovae are in an image and reports back their x & y coords if in map\n",
    "\n",
    "def check_in_image(SNras, SNdecs, SNnames, SNtypes, image, image_150, image_1kpc ,ext=\"HA_FLUX_CORR\"):\n",
    "    int_native, int_150, int_1kpc = [],[],[]\n",
    "    hdulist  = pyfits.open(image)\n",
    "    hdulist_150  = pyfits.open(image_150)\n",
    "    hdulist_1kpc  = pyfits.open(image_1kpc)\n",
    "    \n",
    "    map = hdulist[ext].data\n",
    "    map_150 = hdulist_150[0].data\n",
    "    map_1kpc = hdulist_1kpc[0].data\n",
    "    \n",
    "    wcs = WCS(hdulist[ext].header, naxis=2)\n",
    "    naxis = wcs._naxis #size of image\n",
    "    naxis1 = hdulist[ext].header['NAXIS1']\n",
    "    naxis2 = hdulist[ext].header['NAXIS2']\n",
    "\n",
    "    coords_arr = np.column_stack((SNras, SNdecs)) # ras and decs now [ra,dec]\n",
    "    pix_x, pix_y = wcs.wcs_world2pix(SNras,SNdecs,0)\n",
    "\n",
    "    #use world coordinates of all SNe to see if any fall in image (our version of footprint_contains)\n",
    "\n",
    "    is_in_x = (pix_x >= 0) & (pix_x <= naxis[0]-1) #because of 0-indexing\n",
    "    is_in_y = (pix_y >= 0) & (pix_y <= naxis[1]-1)\n",
    "             \n",
    "    #get the name, ra, and dec of the SNe that fall in image\n",
    "    #boolean array indexing (gives back array of Trues and Falses)\n",
    "    #we are pulling out the SNe that are True and assigning them to own arrays\n",
    "    name_in_image = np.array(SNnames)[is_in_x & is_in_y]\n",
    "    type_in_image = np.array(SNtypes)[is_in_x & is_in_y]\n",
    "    ra_in_image = np.array(SNras)[is_in_x & is_in_y]\n",
    "    dec_in_image = np.array(SNdecs)[is_in_x & is_in_y]\n",
    "\n",
    "    x_coord = np.array(pix_x)[is_in_x & is_in_y]\n",
    "    y_coord = np.array(pix_y)[is_in_x & is_in_y]\n",
    "    \n",
    "    for i in range(len(x_coord)):\n",
    "        if x_coord != \"[]\":\n",
    "            int_native.append(map[int(round(float(y_coord[i]))),int(round(float(x_coord[i])))])\n",
    "            int_150.append(map_150[int(round(float(y_coord[i]))),int(round(float(x_coord[i])))])\n",
    "            int_1kpc.append(map_1kpc[int(round(float(y_coord[i]))),int(round(float(x_coord[i])))])\n",
    "    \n",
    "    return(name_in_image, type_in_image, ra_in_image, dec_in_image, x_coord, y_coord, map, naxis1, naxis2, int_native, int_150, int_1kpc)\n"
   ]
  },
  {
   "cell_type": "code",
   "execution_count": 5,
   "metadata": {},
   "outputs": [],
   "source": [
    "# Build MUSE Catalogue That has all supernovae within PHANGS-MUSE footprint\n",
    "\n",
    "with open('../Data/2.Intensities.txt', 'w') as text_file:\n",
    "    print('Supernova, Type, Int_native, Int_150, Int_1kpc', file = text_file)\n",
    "\n",
    "for i in range(len(galaxies)):\n",
    "    if (COPTMaps[i] != \"\" and os.path.isfile(COPTMaps[i])):\n",
    "    \n",
    "        found_name, found_type, found_ra, found_dec, x_coord, y_coord, map, naxis1, naxis2, int_native, int_150, int_1kpc = check_in_image(ras, decs, SNe, types, COPTMaps[i], maps150[i], maps1kpc[i],ext=\"HA_FLUX_CORR\")\n",
    "\n",
    "        with open('../Data/2.Intensities.txt', 'a') as text_file:\n",
    "            for j in range(len(found_name)):\n",
    "                print(found_name[j],\",\", found_type[j],\",\", int_native[j], \",\", int_150[j], \",\", int_1kpc[j], file = text_file)\n"
   ]
  },
  {
   "cell_type": "code",
   "execution_count": null,
   "metadata": {},
   "outputs": [],
   "source": []
  }
 ],
 "metadata": {
  "kernelspec": {
   "display_name": "Python 3 (ipykernel)",
   "language": "python",
   "name": "python3"
  },
  "language_info": {
   "codemirror_mode": {
    "name": "ipython",
    "version": 3
   },
   "file_extension": ".py",
   "mimetype": "text/x-python",
   "name": "python",
   "nbconvert_exporter": "python",
   "pygments_lexer": "ipython3",
   "version": "3.9.13"
  }
 },
 "nbformat": 4,
 "nbformat_minor": 2
}
