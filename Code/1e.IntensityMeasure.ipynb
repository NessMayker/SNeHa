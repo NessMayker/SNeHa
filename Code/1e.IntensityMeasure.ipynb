{
 "cells": [
  {
   "cell_type": "raw",
   "metadata": {},
   "source": [
    "This notebook measures and saves intensities at SN sites for COPT native, 150pc and 1kpc maps."
   ]
  },
  {
   "cell_type": "code",
   "execution_count": 1,
   "metadata": {},
   "outputs": [],
   "source": [
    "import warnings\n",
    "warnings.filterwarnings('ignore')"
   ]
  },
  {
   "cell_type": "code",
   "execution_count": 2,
   "metadata": {},
   "outputs": [],
   "source": [
    "#import packages and formatting statements\n",
    "\n",
    "import numpy as np\n",
    "from matplotlib import pyplot as plt\n",
    "import astropy.io.fits as pyfits\n",
    "from astropy.table import Table, join, Column\n",
    "from astropy.wcs import WCS\n",
    "from astropy.io import ascii\n",
    "import os\n",
    "\n",
    "plt.rc('text',usetex=False)\n",
    "fontsize=20\n",
    "plt.rc('xtick',labelsize=fontsize)\n",
    "plt.rc('ytick',labelsize=fontsize)"
   ]
  },
  {
   "cell_type": "code",
   "execution_count": 3,
   "metadata": {},
   "outputs": [],
   "source": [
    "# Compile galaxy and OSC objects\n",
    "# full catalog header: Name,Type,Host,RA hms,Dec dms,RA dds,Dec dds,DiscDate\n",
    "\n",
    "DataFile = '../Data/0.MUSEdata.csv'\n",
    "Data = Table.read(DataFile, format='csv') \n",
    "galaxies, dists =  Data[\"Galaxy\"], Data[\"Distance\"]\n",
    "COPTMaps,maps150, maps1kpc = Data[\"SFRcopt\"],Data[\"maps150\"],Data[\"maps1kpc\"]\n",
    "SNe, types = np.loadtxt('../Data/1.FullCatalog.csv', dtype = str, delimiter = \",\",unpack=True, usecols = (0,1))\n",
    "ras, decs = np.loadtxt('../Data/1.FullCatalog.csv',delimiter=',', unpack = True, usecols=(5,6))\n"
   ]
  },
  {
   "cell_type": "code",
   "execution_count": 4,
   "metadata": {},
   "outputs": [
    {
     "data": {
      "text/html": [
       "<div><i>Table length=19</i>\n",
       "<table id=\"table140224115424512\" class=\"table-striped table-bordered table-condensed\">\n",
       "<thead><tr><th>Galaxy</th><th>Distance</th><th>GalRa</th><th>GalDec</th><th>PosAng</th><th>Incl</th><th>MUSENatRes</th><th>MUSEPhysRes</th><th>MUSEmapNat</th><th>MUSEmap150pc</th><th>MUSE_HII_reg</th><th>IRAC_files</th><th>SFRcopt</th><th>SFR15asec</th><th>maps150</th><th>maps1kpc</th><th>CO21File</th><th>eCO21File</th></tr></thead>\n",
       "<thead><tr><th>str7</th><th>float64</th><th>float64</th><th>float64</th><th>float64</th><th>float64</th><th>float64</th><th>int64</th><th>str71</th><th>str70</th><th>str50</th><th>str40</th><th>str58</th><th>str60</th><th>str64</th><th>str63</th><th>str72</th><th>str73</th></tr></thead>\n",
       "<tr><td>IC5332</td><td>9.01</td><td>353.61453</td><td>-36.10108</td><td>74.4</td><td>26.9</td><td>0.87</td><td>45</td><td>../../GalaxyFiles/MUSELargeFiles/MUSE2.2_Nat/IC5332-0.87asec_MAPS.fits</td><td>../../GalaxyFiles/MUSELargeFiles/MUSE2.2_150pc/IC5332-150pc_MAPS.fits</td><td>../Data/HII_reg_masks/IC5332_nebulae_mask_V2.fits</td><td>../Data/IRAC/ic5332_irac1_atGauss4.fits</td><td>../../GalaxyFiles/MUSELargeFiles/SFR/copt/IC5332_sfr.fits</td><td>../../GalaxyFiles/MUSELargeFiles/SFR/15asec/IC5332_sfr.fits</td><td>../../GalaxyFiles/MUSELargeFiles/SFR/copt/IC5332_sfr_150pc.fits</td><td>../../GalaxyFiles/MUSELargeFiles/SFR/copt/IC5332_sfr_1kpc.fits</td><td>../../GalaxyFiles/ALMACO2-1/ic5332_12m+7m+tp_co21_150pc_broad_mom0.fits</td><td>../../GalaxyFiles/ALMACO2-1/ic5332_12m+7m+tp_co21_150pc_broad_emom0.fits</td></tr>\n",
       "<tr><td>NGC0628</td><td>9.84</td><td>24.173855</td><td>15.783643</td><td>20.7</td><td>8.9</td><td>0.92</td><td>71</td><td>../../GalaxyFiles/MUSELargeFiles/MUSE2.2_Nat/NGC0628-0.92asec_MAPS.fits</td><td>../../GalaxyFiles/MUSELargeFiles/MUSE2.2_150pc/NGC0628-150pc_MAPS.fits</td><td>../Data/HII_reg_masks/NGC0628_nebulae_mask_V2.fits</td><td>../Data/IRAC/ngc0628_irac1_atGauss4.fits</td><td>../../GalaxyFiles/MUSELargeFiles/SFR/copt/NGC0628_sfr.fits</td><td>../../GalaxyFiles/MUSELargeFiles/SFR/15asec/NGC0628_sfr.fits</td><td>../../GalaxyFiles/MUSELargeFiles/SFR/copt/NGC0628_sfr_150pc.fits</td><td>../../GalaxyFiles/MUSELargeFiles/SFR/copt/NGC0628_sfr_1kpc.fits</td><td>../../GalaxyFiles/ALMACO2-1/ngc0628_12m+7m+tp_co21_150pc_broad_mom0.fits</td><td>../../GalaxyFiles/ALMACO2-1/ngc0628_12m+7m+tp_co21_150pc_broad_emom0.fits</td></tr>\n",
       "<tr><td>NGC1087</td><td>15.85</td><td>41.60492</td><td>-0.498717</td><td>359.1</td><td>42.9</td><td>0.92</td><td>84</td><td>../../GalaxyFiles/MUSELargeFiles/MUSE2.2_Nat/NGC1087-0.92asec_MAPS.fits</td><td>../../GalaxyFiles/MUSELargeFiles/MUSE2.2_150pc/NGC1087-150pc_MAPS.fits</td><td>../Data/HII_reg_masks/NGC1087_nebulae_mask_V2.fits</td><td>../Data/IRAC/ngc1087_irac1_atGauss4.fits</td><td>../../GalaxyFiles/MUSELargeFiles/SFR/copt/NGC1087_sfr.fits</td><td>../../GalaxyFiles/MUSELargeFiles/SFR/15asec/NGC1087_sfr.fits</td><td>../../GalaxyFiles/MUSELargeFiles/SFR/copt/NGC1087_sfr_150pc.fits</td><td>../../GalaxyFiles/MUSELargeFiles/SFR/copt/NGC1087_sfr_1kpc.fits</td><td>../../GalaxyFiles/ALMACO2-1/ngc1087_12m+7m+tp_co21_150pc_broad_mom0.fits</td><td>../../GalaxyFiles/ALMACO2-1/ngc1087_12m+7m+tp_co21_150pc_broad_emom0.fits</td></tr>\n",
       "<tr><td>NGC1300</td><td>18.99</td><td>49.920815</td><td>-19.411114</td><td>278.0</td><td>31.8</td><td>0.89</td><td>83</td><td>../../GalaxyFiles/MUSELargeFiles/MUSE2.2_Nat/NGC1300-0.89asec_MAPS.fits</td><td>../../GalaxyFiles/MUSELargeFiles/MUSE2.2_150pc/NGC1300-150pc_MAPS.fits</td><td>../Data/HII_reg_masks/NGC1300_nebulae_mask_V2.fits</td><td>../Data/IRAC/ngc1300_irac1_atGauss4.fits</td><td>../../GalaxyFiles/MUSELargeFiles/SFR/copt/NGC1300_sfr.fits</td><td>../../GalaxyFiles/MUSELargeFiles/SFR/15asec/NGC1300_sfr.fits</td><td>../../GalaxyFiles/MUSELargeFiles/SFR/copt/NGC1300_sfr_150pc.fits</td><td>../../GalaxyFiles/MUSELargeFiles/SFR/copt/NGC1300_sfr_1kpc.fits</td><td>../../GalaxyFiles/ALMACO2-1/ngc1300_12m+7m+tp_co21_150pc_broad_mom0.fits</td><td>../../GalaxyFiles/ALMACO2-1/ngc1300_12m+7m+tp_co21_150pc_broad_emom0.fits</td></tr>\n",
       "<tr><td>NGC1365</td><td>19.57</td><td>53.40152</td><td>-36.140404</td><td>201.1</td><td>55.4</td><td>1.15</td><td>76</td><td>../../GalaxyFiles/MUSELargeFiles/MUSE2.2_Nat/NGC1365-1.15asec_MAPS.fits</td><td>../../GalaxyFiles/MUSELargeFiles/MUSE2.2_150pc/NGC1365-150pc_MAPS.fits</td><td>../Data/HII_reg_masks/NGC1365_nebulae_mask_V2.fits</td><td>../Data/IRAC/ngc1365_irac1_atGauss4.fits</td><td>../../GalaxyFiles/MUSELargeFiles/SFR/copt/NGC1365_sfr.fits</td><td>../../GalaxyFiles/MUSELargeFiles/SFR/15asec/NGC1365_sfr.fits</td><td>../../GalaxyFiles/MUSELargeFiles/SFR/copt/NGC1365_sfr_150pc.fits</td><td>../../GalaxyFiles/MUSELargeFiles/SFR/copt/NGC1365_sfr_1kpc.fits</td><td>../../GalaxyFiles/ALMACO2-1/ngc1365_12m+7m+tp_co21_150pc_broad_mom0.fits</td><td>../../GalaxyFiles/ALMACO2-1/ngc1365_12m+7m+tp_co21_150pc_broad_emom0.fits</td></tr>\n",
       "<tr><td>NGC1385</td><td>17.22</td><td>54.369015</td><td>-24.501162</td><td>181.3</td><td>44.0</td><td>0.77</td><td>33</td><td>../../GalaxyFiles/MUSELargeFiles/MUSE2.2_Nat/NGC1385-0.77asec_MAPS.fits</td><td>../../GalaxyFiles/MUSELargeFiles/MUSE2.2_150pc/NGC1385-150pc_MAPS.fits</td><td>../Data/HII_reg_masks/NGC1385_nebulae_mask_V2.fits</td><td>../Data/IRAC/ngc1385_irac1_atGauss4.fits</td><td>../../GalaxyFiles/MUSELargeFiles/SFR/copt/NGC1385_sfr.fits</td><td>../../GalaxyFiles/MUSELargeFiles/SFR/15asec/NGC1385_sfr.fits</td><td>../../GalaxyFiles/MUSELargeFiles/SFR/copt/NGC1385_sfr_150pc.fits</td><td>../../GalaxyFiles/MUSELargeFiles/SFR/copt/NGC1385_sfr_1kpc.fits</td><td>../../GalaxyFiles/ALMACO2-1/ngc1385_12m+7m+tp_co21_150pc_broad_mom0.fits</td><td>../../GalaxyFiles/ALMACO2-1/ngc1385_12m+7m+tp_co21_150pc_broad_emom0.fits</td></tr>\n",
       "<tr><td>...</td><td>...</td><td>...</td><td>...</td><td>...</td><td>...</td><td>...</td><td>...</td><td>...</td><td>...</td><td>...</td><td>...</td><td>...</td><td>...</td><td>...</td><td>...</td><td>...</td><td>...</td></tr>\n",
       "<tr><td>NGC3627</td><td>11.32</td><td>170.06252</td><td>12.9915</td><td>173.1</td><td>57.3</td><td>1.05</td><td>96</td><td>../../GalaxyFiles/MUSELargeFiles/MUSE2.2_Nat/NGC3627-1.05asec_MAPS.fits</td><td>../../GalaxyFiles/MUSELargeFiles/MUSE2.2_150pc/NGC3627-150pc_MAPS.fits</td><td>../Data/HII_reg_masks/NGC3627_nebulae_mask_V2.fits</td><td>../Data/IRAC/ngc3627_irac1_atGauss4.fits</td><td>../../GalaxyFiles/MUSELargeFiles/SFR/copt/NGC3627_sfr.fits</td><td>../../GalaxyFiles/MUSELargeFiles/SFR/15asec/NGC3627_sfr.fits</td><td>../../GalaxyFiles/MUSELargeFiles/SFR/copt/NGC3627_sfr_150pc.fits</td><td>../../GalaxyFiles/MUSELargeFiles/SFR/copt/NGC3627_sfr_1kpc.fits</td><td>../../GalaxyFiles/ALMACO2-1/ngc3627_12m+7m+tp_co21_150pc_broad_mom0.fits</td><td>../../GalaxyFiles/ALMACO2-1/ngc3627_12m+7m+tp_co21_150pc_broad_emom0.fits</td></tr>\n",
       "<tr><td>NGC4254</td><td>13.1</td><td>184.7068</td><td>14.416412</td><td>68.1</td><td>34.4</td><td>0.89</td><td>96</td><td>../../GalaxyFiles/MUSELargeFiles/MUSE2.2_Nat/NGC4254-0.89asec_MAPS.fits</td><td>../../GalaxyFiles/MUSELargeFiles/MUSE2.2_150pc/NGC4254-150pc_MAPS.fits</td><td>../Data/HII_reg_masks/NGC4254_nebulae_mask_V2.fits</td><td>../Data/IRAC/ngc4254_irac1_atGauss4.fits</td><td>../../GalaxyFiles/MUSELargeFiles/SFR/copt/NGC4254_sfr.fits</td><td>../../GalaxyFiles/MUSELargeFiles/SFR/15asec/NGC4254_sfr.fits</td><td>../../GalaxyFiles/MUSELargeFiles/SFR/copt/NGC4254_sfr_150pc.fits</td><td>../../GalaxyFiles/MUSELargeFiles/SFR/copt/NGC4254_sfr_1kpc.fits</td><td>../../GalaxyFiles/ALMACO2-1/ngc4254_12m+7m+tp_co21_150pc_broad_mom0.fits</td><td>../../GalaxyFiles/ALMACO2-1/ngc4254_12m+7m+tp_co21_150pc_broad_emom0.fits</td></tr>\n",
       "<tr><td>NGC4303</td><td>16.99</td><td>185.47888</td><td>4.473744</td><td>312.4</td><td>23.5</td><td>0.78</td><td>73</td><td>../../GalaxyFiles/MUSELargeFiles/MUSE2.2_Nat/NGC4303-0.78asec_MAPS.fits</td><td>../../GalaxyFiles/MUSELargeFiles/MUSE2.2_150pc/NGC4303-150pc_MAPS.fits</td><td>../Data/HII_reg_masks/NGC4303_nebulae_mask_V2.fits</td><td>../Data/IRAC/ngc4303_irac1_atGauss4.fits</td><td>../../GalaxyFiles/MUSELargeFiles/SFR/copt/NGC4303_sfr.fits</td><td>../../GalaxyFiles/MUSELargeFiles/SFR/15asec/NGC4303_sfr.fits</td><td>../../GalaxyFiles/MUSELargeFiles/SFR/copt/NGC4303_sfr_150pc.fits</td><td>../../GalaxyFiles/MUSELargeFiles/SFR/copt/NGC4303_sfr_1kpc.fits</td><td>../../GalaxyFiles/ALMACO2-1/ngc4303_12m+7m+tp_co21_150pc_broad_mom0.fits</td><td>../../GalaxyFiles/ALMACO2-1/ngc4303_12m+7m+tp_co21_150pc_broad_emom0.fits</td></tr>\n",
       "<tr><td>NGC4321</td><td>15.21</td><td>185.72887</td><td>15.822304</td><td>156.2</td><td>38.5</td><td>1.16</td><td>43</td><td>../../GalaxyFiles/MUSELargeFiles/MUSE2.2_Nat/NGC4321-1.16asec_MAPS.fits</td><td>../../GalaxyFiles/MUSELargeFiles/MUSE2.2_150pc/NGC4321-150pc_MAPS.fits</td><td>../Data/HII_reg_masks/NGC4321_nebulae_mask_V2.fits</td><td>../Data/IRAC/ngc4321_irac1_atGauss4.fits</td><td>../../GalaxyFiles/MUSELargeFiles/SFR/copt/NGC4321_sfr.fits</td><td>../../GalaxyFiles/MUSELargeFiles/SFR/15asec/NGC4321_sfr.fits</td><td>../../GalaxyFiles/MUSELargeFiles/SFR/copt/NGC4321_sfr_150pc.fits</td><td>../../GalaxyFiles/MUSELargeFiles/SFR/copt/NGC4321_sfr_1kpc.fits</td><td>../../GalaxyFiles/ALMACO2-1/ngc4321_12m+7m+tp_co21_150pc_broad_mom0.fits</td><td>../../GalaxyFiles/ALMACO2-1/ngc4321_12m+7m+tp_co21_150pc_broad_emom0.fits</td></tr>\n",
       "<tr><td>NGC4535</td><td>15.77</td><td>188.5846</td><td>8.197973</td><td>179.7</td><td>44.7</td><td>0.56</td><td>61</td><td>../../GalaxyFiles/MUSELargeFiles/MUSE2.2_Nat/NGC4535-0.56asec_MAPS.fits</td><td>../../GalaxyFiles/MUSELargeFiles/MUSE2.2_150pc/NGC4535-150pc_MAPS.fits</td><td>../Data/HII_reg_masks/NGC4535_nebulae_mask_V2.fits</td><td>../Data/IRAC/ngc4535_irac1_atGauss4.fits</td><td>../../GalaxyFiles/MUSELargeFiles/SFR/copt/NGC4535_sfr.fits</td><td>../../GalaxyFiles/MUSELargeFiles/SFR/15asec/NGC4535_sfr.fits</td><td>../../GalaxyFiles/MUSELargeFiles/SFR/copt/NGC4535_sfr_150pc.fits</td><td>../../GalaxyFiles/MUSELargeFiles/SFR/copt/NGC4535_sfr_1kpc.fits</td><td>../../GalaxyFiles/ALMACO2-1/ngc4535_12m+7m+tp_co21_150pc_broad_mom0.fits</td><td>../../GalaxyFiles/ALMACO2-1/ngc4535_12m+7m+tp_co21_150pc_broad_emom0.fits</td></tr>\n",
       "<tr><td>NGC5068</td><td>5.2</td><td>199.72807</td><td>-21.038744</td><td>342.4</td><td>35.7</td><td>1.04</td><td>59</td><td>../../GalaxyFiles/MUSELargeFiles/MUSE2.2_Nat/NGC5068-1.04asec_MAPS.fits</td><td>../../GalaxyFiles/MUSELargeFiles/MUSE2.2_150pc/NGC5068-150pc_MAPS.fits</td><td>../Data/HII_reg_masks/NGC5068_nebulae_mask_V2.fits</td><td>../Data/IRAC/ngc5068_irac1_atGauss4.fits</td><td>../../GalaxyFiles/MUSELargeFiles/SFR/copt/NGC5068_sfr.fits</td><td>../../GalaxyFiles/MUSELargeFiles/SFR/15asec/NGC5068_sfr.fits</td><td>../../GalaxyFiles/MUSELargeFiles/SFR/copt/NGC5068_sfr_150pc.fits</td><td>../../GalaxyFiles/MUSELargeFiles/SFR/copt/NGC5068_sfr_1kpc.fits</td><td>../../GalaxyFiles/ALMACO2-1/ngc5068_12m+7m+tp_co21_150pc_broad_mom0.fits</td><td>../../GalaxyFiles/ALMACO2-1/ngc5068_12m+7m+tp_co21_150pc_broad_emom0.fits</td></tr>\n",
       "<tr><td>NGC7496</td><td>18.72</td><td>347.44702</td><td>-43.42785</td><td>193.7</td><td>35.9</td><td>0.89</td><td>23</td><td>../../GalaxyFiles/MUSELargeFiles/MUSE2.2_Nat/NGC7496-0.89asec_MAPS.fits</td><td>../../GalaxyFiles/MUSELargeFiles/MUSE2.2_150pc/NGC7496-150pc_MAPS.fits</td><td>../Data/HII_reg_masks/NGC7496_nebulae_mask_V2.fits</td><td>../Data/IRAC/ngc7496_irac1_atGauss4.fits</td><td>../../GalaxyFiles/MUSELargeFiles/SFR/copt/NGC7496_sfr.fits</td><td>../../GalaxyFiles/MUSELargeFiles/SFR/15asec/NGC7496_sfr.fits</td><td>../../GalaxyFiles/MUSELargeFiles/SFR/copt/NGC7496_sfr_150pc.fits</td><td>../../GalaxyFiles/MUSELargeFiles/SFR/copt/NGC7496_sfr_1kpc.fits</td><td>../../GalaxyFiles/ALMACO2-1/ngc7496_12m+7m+tp_co21_150pc_broad_mom0.fits</td><td>../../GalaxyFiles/ALMACO2-1/ngc7496_12m+7m+tp_co21_150pc_broad_emom0.fits</td></tr>\n",
       "</table></div>"
      ],
      "text/plain": [
       "<Table length=19>\n",
       " Galaxy ...\n",
       "  str7  ...\n",
       "------- ...\n",
       " IC5332 ...\n",
       "NGC0628 ...\n",
       "NGC1087 ...\n",
       "NGC1300 ...\n",
       "NGC1365 ...\n",
       "NGC1385 ...\n",
       "    ... ...\n",
       "NGC3627 ...\n",
       "NGC4254 ...\n",
       "NGC4303 ...\n",
       "NGC4321 ...\n",
       "NGC4535 ...\n",
       "NGC5068 ...\n",
       "NGC7496 ..."
      ]
     },
     "execution_count": 4,
     "metadata": {},
     "output_type": "execute_result"
    }
   ],
   "source": [
    "Data"
   ]
  },
  {
   "cell_type": "code",
   "execution_count": null,
   "metadata": {},
   "outputs": [],
   "source": []
  },
  {
   "cell_type": "code",
   "execution_count": 5,
   "metadata": {},
   "outputs": [],
   "source": [
    "#Checks if Supernovae are in an image and reports back their x & y coords if in map\n",
    "\n",
    "def check_in_image(SNras, SNdecs, SNnames, SNtypes, image, image_150, image_1kpc ,ext=\"HA_FLUX\"):\n",
    "    int_native, int_150, int_1kpc = [],[],[]\n",
    "    hdulist  = pyfits.open(image)\n",
    "    hdulist_150  = pyfits.open(image_150)\n",
    "    hdulist_1kpc  = pyfits.open(image_1kpc)\n",
    "    \n",
    "    map = hdulist[1].data\n",
    "    map_150 = hdulist_150[0].data\n",
    "    map_1kpc = hdulist_1kpc[0].data\n",
    "    \n",
    "    wcs = WCS(hdulist[ext].header, naxis=2)\n",
    "    naxis = wcs._naxis #size of image\n",
    "    naxis1 = hdulist[ext].header['NAXIS1']\n",
    "    naxis2 = hdulist[ext].header['NAXIS2']\n",
    "\n",
    "    coords_arr = np.column_stack((SNras, SNdecs)) # ras and decs now [ra,dec]\n",
    "    pix_x, pix_y = wcs.wcs_world2pix(SNras,SNdecs,0)\n",
    "\n",
    "    #use world coordinates of all SNe to see if any fall in image (our version of footprint_contains)\n",
    "\n",
    "    is_in_x = (pix_x >= 0) & (pix_x <= naxis[0]-1) #because of 0-indexing\n",
    "    is_in_y = (pix_y >= 0) & (pix_y <= naxis[1]-1)\n",
    "             \n",
    "    #get the name, ra, and dec of the SNe that fall in image\n",
    "    #boolean array indexing (gives back array of Trues and Falses)\n",
    "    #we are pulling out the SNe that are True and assigning them to own arrays\n",
    "    name_in_image = np.array(SNnames)[is_in_x & is_in_y]\n",
    "    type_in_image = np.array(SNtypes)[is_in_x & is_in_y]\n",
    "    ra_in_image = np.array(SNras)[is_in_x & is_in_y]\n",
    "    dec_in_image = np.array(SNdecs)[is_in_x & is_in_y]\n",
    "\n",
    "    x_coord = np.array(pix_x)[is_in_x & is_in_y]\n",
    "    y_coord = np.array(pix_y)[is_in_x & is_in_y]\n",
    "    \n",
    "    for i in range(len(x_coord)):\n",
    "        if x_coord != \"[]\":\n",
    "            int_native.append(map[int(round(float(y_coord[i]))),int(round(float(x_coord[i])))])\n",
    "            int_150.append(map_150[int(round(float(y_coord[i]))),int(round(float(x_coord[i])))])\n",
    "            int_1kpc.append(map_1kpc[int(round(float(y_coord[i]))),int(round(float(x_coord[i])))])\n",
    "    \n",
    "    return(name_in_image, type_in_image, ra_in_image, dec_in_image, x_coord, y_coord, map, naxis1, naxis2, int_native, int_150, int_1kpc)\n"
   ]
  },
  {
   "cell_type": "code",
   "execution_count": 6,
   "metadata": {},
   "outputs": [],
   "source": [
    "# Build MUSE Catalogue That has all supernovae within PHANGS-MUSE footprint\n",
    "\n",
    "with open('../Data/2.Intensities.csv', 'w') as text_file:\n",
    "    print('Supernova,Type,Int_native,Int_150,Int_1kpc', file = text_file)\n",
    "\n",
    "for i in range(len(galaxies)):\n",
    "    if (COPTMaps[i] != \"\" and os.path.isfile(COPTMaps[i])):\n",
    "    \n",
    "        found_name, found_type, found_ra, found_dec, x_coord, y_coord, map, naxis1, naxis2, int_native, int_150, int_1kpc = check_in_image(ras, decs, SNe, types, COPTMaps[i], maps150[i], maps1kpc[i],ext=\"HA_FLUX_CORR\")\n",
    "\n",
    "        with open('../Data/2.Intensities.csv', 'a') as text_file:\n",
    "            for j in range(len(found_name)):\n",
    "                print(found_name[j].strip(),\",\", found_type[j],\",\", int_native[j], \",\", int_150[j], \",\", int_1kpc[j], file = text_file)\n"
   ]
  },
  {
   "cell_type": "code",
   "execution_count": null,
   "metadata": {},
   "outputs": [],
   "source": []
  },
  {
   "cell_type": "code",
   "execution_count": null,
   "metadata": {},
   "outputs": [],
   "source": []
  }
 ],
 "metadata": {
  "kernelspec": {
   "display_name": "Python 3 (ipykernel)",
   "language": "python",
   "name": "python3"
  },
  "language_info": {
   "codemirror_mode": {
    "name": "ipython",
    "version": 3
   },
   "file_extension": ".py",
   "mimetype": "text/x-python",
   "name": "python",
   "nbconvert_exporter": "python",
   "pygments_lexer": "ipython3",
   "version": "3.9.13"
  }
 },
 "nbformat": 4,
 "nbformat_minor": 2
}
