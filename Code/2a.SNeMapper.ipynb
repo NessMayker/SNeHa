{
 "cells": [
  {
   "cell_type": "raw",
   "metadata": {},
   "source": [
    "This notebook reads in the full SN catalog (1.FullCatalog.csv') and searches through ESO & MUSE map images, looking for OSC objects that have gone off in their footprint. \n",
    "\n",
    "It then converts the ra & dec coordinates to map pixels and measures the pixel intensity there.\n",
    "\n",
    "This notebook prints the OSC Object data on the '2.SNeHaMasterCat.txt'. \n",
    "\n",
    "This notebook then turns the 2.SNeHaMasterCat.txt file into a dataframe, where the non SN objects are removed and then the cleaned table is printed to '2.SNeHaMasterCatClean.csv'.\n",
    "\n",
    "This cleaned table is used to plot all of the galaxy images and their respective SNe in ../Figures/2.ESO_Galaxy_Images & 2.ESO_SNe_Galaxy_Images, ../Figures/2.MUSE_Galaxy_Images & 2.MUSE_SNe_Galaxy_Images"
   ]
  },
  {
   "cell_type": "code",
   "execution_count": 34,
   "metadata": {},
   "outputs": [],
   "source": [
    "#import packages and formatting statements\n",
    "\n",
    "import numpy as np\n",
    "from matplotlib import pyplot as plt\n",
    "import astropy.io.fits as pyfits\n",
    "from astropy.table import Table, join, Column\n",
    "from astropy.wcs import WCS\n",
    "from astropy.io import ascii\n",
    "import os\n",
    "\n",
    "plt.rc('text',usetex=False)\n",
    "fontsize=20\n",
    "plt.rc('xtick',labelsize=fontsize)\n",
    "plt.rc('ytick',labelsize=fontsize)"
   ]
  },
  {
   "cell_type": "code",
   "execution_count": 35,
   "metadata": {},
   "outputs": [],
   "source": [
    "# Compile galaxy and OSC objects\n",
    "DataFile = '../Data/1.ProjectTable.csv'\n",
    "Data = Table.read(DataFile, format='csv') \n",
    "galaxies, ESOmaps, MUSEres, MUSEmaps = Data[\"Galaxy\"], Data[\"ESO-MPG_Hasub_wcomb_corr\"], Data[\"MUSENatRes\"], Data[\"MUSEmapNat\"]\n",
    "SNe = np.loadtxt('../Data/1.FullCatalog.csv', dtype = str, delimiter = \",\",unpack=True, usecols = 0)\n",
    "ras = np.loadtxt('../Data/1.FullCatalog.csv',delimiter=',', unpack = True, usecols=4)\n",
    "decs = np.loadtxt('../Data/1.FullCatalog.csv',delimiter=',',unpack = True, usecols = (5))\n",
    "types = np.loadtxt('../Data/1.FullCatalog.csv', dtype=str,delimiter=',', unpack=True, usecols=6)\n",
    "\n",
    "#SNData = Table.read('../Data/1.FullCatalog.csv', format='csv') \n",
    "#SNe, ras, decs, types = SNData[\"Name\"], np.float(SNData[\"RA\"]), np.float(SNData[\"Dec\"]), SNData[\"Type\"]\n"
   ]
  },
  {
   "cell_type": "code",
   "execution_count": 36,
   "metadata": {},
   "outputs": [],
   "source": [
    "#print(ESOmaps)\n",
    "    \n",
    "# types = [x.replace('',\"Unclassified\") for x in types]\n",
    "\n",
    "# for i in range(len(types)):\n",
    "#     print(types[i])"
   ]
  },
  {
   "cell_type": "code",
   "execution_count": 37,
   "metadata": {},
   "outputs": [],
   "source": [
    "#Checks if Supernovae are in an image and reports back their x & y coords if in map\n",
    "\n",
    "def check_in_image(SNras, SNdecs, SNnames, SNtypes, image, maptype = \"MUSE\"):\n",
    "    \n",
    "    hdulist  = pyfits.open(image)\n",
    "    \n",
    "    if maptype == \"MUSE\":\n",
    "        map = hdulist[\"HA6562_FLUX\"].data\n",
    "        #emap = hdulist[\"HA6562_FLUX_ERR\"].data     \n",
    "        wcs = WCS(hdulist[\"HA6562_FLUX\"].header, naxis=2)\n",
    "        naxis = wcs._naxis #size of image\n",
    "        naxis1 = hdulist[\"HA6562_FLUX\"].header['NAXIS1']\n",
    "        naxis2 = hdulist[\"HA6562_FLUX\"].header['NAXIS2']\n",
    "    else:\n",
    "        map = hdulist[0].data\n",
    "        #emap = \"find a way to use RMS from galaxy for these\"\n",
    "        wcs = WCS(hdulist[0].header, naxis=2)\n",
    "        #beamsize = hdulist[0].header[\"BEAM\"]\n",
    "        naxis = wcs._naxis #size of image\n",
    "        naxis1 = hdulist[0].header['NAXIS1']\n",
    "        naxis2 = hdulist[0].header['NAXIS2']\n",
    "        \n",
    "    coords_arr = np.column_stack((SNras, SNdecs)) # ras and decs now [ra,dec]\n",
    "    pix_x, pix_y = wcs.wcs_world2pix(SNras,SNdecs,0)\n",
    "\n",
    "    #use world coordinates of all SNe to see if any fall in image (our version of footprint_contains)\n",
    "\n",
    "    is_in_x = (pix_x >= 0) & (pix_x <= naxis[0]-1) #because of 0-indexing\n",
    "    is_in_y = (pix_y >= 0) & (pix_y <= naxis[1]-1)\n",
    "             \n",
    "    #get the name, ra, and dec of the SNe that fall in image\n",
    "    #boolean array indexing (gives back array of Trues and Falses)\n",
    "    #we are pulling out the SNe that are True and assigning them to own arrays\n",
    "    name_in_image = np.array(SNnames)[is_in_x & is_in_y]\n",
    "    type_in_image = np.array(SNtypes)[is_in_x & is_in_y]\n",
    "    ra_in_image = np.array(SNras)[is_in_x & is_in_y]\n",
    "    dec_in_image = np.array(SNdecs)[is_in_x & is_in_y]\n",
    "\n",
    "    x_coord = np.array(pix_x)[is_in_x & is_in_y]\n",
    "    y_coord = np.array(pix_y)[is_in_x & is_in_y]\n",
    "    \n",
    "    return(name_in_image, type_in_image, ra_in_image, dec_in_image, x_coord, y_coord, map, naxis1, naxis2)\n",
    "    #print(name_in_image, type_in_image, ra_in_image, dec_in_image, x_coord, y_coord)\n"
   ]
  },
  {
   "cell_type": "code",
   "execution_count": 38,
   "metadata": {},
   "outputs": [],
   "source": [
    "# Build MUSE Catalogue That has all supernovae within PHANGS-MUSE footprint\n",
    "\n",
    "with open('../Data/2.SNeHa_MUSE_Cat.txt', 'w') as text_file:\n",
    "    print('#Galaxy,Supernova,Ra,Dec,MUSE_xCoord,MUSE_yCoord,Type,MUSE_Intensity', file = text_file)\n",
    "\n",
    "for i in range(len(galaxies)):\n",
    "    if (MUSEmaps[i] != \"\" and os.path.isfile(MUSEmaps[i])):\n",
    "    \n",
    "        found_name, found_type, found_ra, found_dec, x_coord, y_coord, map, naxis1, naxis2 = check_in_image(ras, decs, SNe, types, MUSEmaps[i])\n",
    "        intensity = []\n",
    "    \n",
    "        for k in range(len(found_type)):\n",
    "\n",
    "            xVal = int(round(x_coord[k]))\n",
    "            yVal = int(round(y_coord[k]))\n",
    "            if (yVal <= naxis2) and (xVal <= naxis1):\n",
    "                intensity.append(map[yVal, xVal])\n",
    "\n",
    "            else: \n",
    "                intensity.append(np.nan)\n",
    "\n",
    "\n",
    "        with open('../Data/2.SNeHa_MUSE_Cat.txt', 'a') as text_file:\n",
    "            for j in range(len(found_name)):\n",
    "                print(galaxies[i], \",\", found_name[j],\",\", found_ra[j], \",\",found_dec[j],\",\", x_coord[j],\",\",y_coord[j],\",\", found_type[j],\",\", intensity[j], file = text_file)\n"
   ]
  },
  {
   "cell_type": "code",
   "execution_count": 39,
   "metadata": {},
   "outputs": [
    {
     "name": "stderr",
     "output_type": "stream",
     "text": [
      "WARNING: FITSFixedWarning: RADECSYS= 'ICRS ' / Reference frame \n",
      "the RADECSYS keyword is deprecated, use RADESYSa. [astropy.wcs.wcs]\n"
     ]
    }
   ],
   "source": [
    "# Build ESO-MPG Catalogue That has all OSC entries within PHANGS-ESO-MPG footprint\n",
    "\n",
    "with open('../Data/2.SNeHa_ESO_Cat.txt', 'w') as text_file:\n",
    "    print('#Galaxy,Supernova,Ra,Dec,ESO_xCoord,ESO_yCoord,Type,ESO_Intensity', file = text_file)\n",
    "\n",
    "for i in range(len(galaxies)):\n",
    "    if (ESOmaps[i] != \"\" and os.path.isfile(ESOmaps[i])):\n",
    "    \n",
    "        found_name, found_type, found_ra, found_dec, x_coord, y_coord, map, naxis1, naxis2 = check_in_image(ras, decs, SNe, types, ESOmaps[i], maptype=\"ESO\") \n",
    "        intensity = []\n",
    "    \n",
    "        for k in range(len(found_type)):\n",
    "\n",
    "            xVal = int(round(x_coord[k]))\n",
    "            yVal = int(round(y_coord[k]))\n",
    "            if (yVal <= naxis2) and (xVal <= naxis1):\n",
    "                intensity.append(map[yVal, xVal])\n",
    "\n",
    "            else: \n",
    "                intensity.append(np.nan)\n",
    "\n",
    "\n",
    "        with open('../Data/2.SNeHa_ESO_Cat.txt', 'a') as text_file:\n",
    "            for j in range(len(found_name)):\n",
    "                print(galaxies[i], \",\", found_name[j],\",\", found_ra[j], \",\",found_dec[j],\",\", x_coord[j],\",\",y_coord[j],\",\", found_type[j],\",\", intensity[j], file = text_file)\n"
   ]
  },
  {
   "cell_type": "code",
   "execution_count": 40,
   "metadata": {
    "scrolled": true
   },
   "outputs": [],
   "source": [
    "# Turn files into data structure and clean\n",
    "\n",
    "ESOdataFile = '../Data/2.SNeHa_ESO_Cat.txt'\n",
    "MUSEdataFile = '../Data/2.SNeHa_MUSE_Cat.txt'\n",
    "ESOTable = Table.read(ESOdataFile, format='ascii') \n",
    "MUSETable = Table.read(MUSEdataFile, format='ascii') \n",
    "\n",
    "database = join(ESOTable, MUSETable, keys=('Galaxy', \"Supernova\", \"Ra\", \"Dec\", \"Type\"), join_type=\"outer\")\n",
    "database = join(database, Data, keys=('Galaxy'))\n",
    "\n",
    "database\n",
    "ascii.write(database, '../Data/2.SNeHaMasterCat.csv', format='csv', fast_writer=False, overwrite=True)  \n"
   ]
  },
  {
   "cell_type": "code",
   "execution_count": 41,
   "metadata": {},
   "outputs": [
    {
     "name": "stdout",
     "output_type": "stream",
     "text": [
      " Galaxy Supernova         Ra           Dec       ESO_xCoord         ESO_yCoord    Type ESO_Intensity MUSE_xCoord MUSE_yCoord MUSE_Intensity                                 ESO-MPG_Hasub_wcomb_corr                                 MUSENatRes MUSEmapNat MUSEmap150pc MUSEmap15asec\n",
      "------- --------- ------------------ ------- ------------------ ----------------- ---- ------------- ----------- ----------- -------------- ---------------------------------------------------------------------------------------- ---------- ---------- ------------ -------------\n",
      "NGC6744  SN2005at 287.47320833333333 -63.823 3720.6960332891404 4473.218647211148   Ic     3.1171134          --          --             -- /home/maykerchen.1/Desktop/SNeHaLargeData/HaSUB_wcomb_corr/NGC6744_Hasub_flux_corrs.fits         --         --           --            --\n"
     ]
    }
   ],
   "source": [
    "print(database[-1])"
   ]
  },
  {
   "cell_type": "code",
   "execution_count": 42,
   "metadata": {},
   "outputs": [],
   "source": [
    "# database[\"Type\"]"
   ]
  },
  {
   "cell_type": "code",
   "execution_count": 43,
   "metadata": {},
   "outputs": [],
   "source": [
    "\n",
    "SN_name = [x[2:-2] for x in database[\"Supernova\"]]\n",
    "\n",
    "# Here we are going to filter out our undesired OSC entries:\n",
    "    # One is a double counted SN named \"PTSS-19clju\", any LRNs or LBVs or IIns, and any candidates\n",
    "\n",
    "flags = []\n",
    "flag1 = database['Supernova'] == \"PTSS-19clju\" \n",
    "flag3 = database['Supernova'] == \"Gaia21fml\" \n",
    "flag5 = database['Supernova'] == \"Gaia21cum\"\n",
    "\n",
    "flag2 = []\n",
    "\n",
    "for i in range(len(SN_name)):\n",
    "    if (\"LRN\" in database['Type'][i] or \"LBV\" in database['Type'][i] or \"IIn\" in database['Type'][i] or \"Candidate\" in database['Type'][i]):\n",
    "        flag2.append(True)\n",
    "    else:\n",
    "        flag2.append(False)\n",
    "\n",
    "for i in range(len(flag1)):\n",
    "    if flag1[i] == True or flag2[i] == True or flag3[i] == True or flag5[i] == True:\n",
    "        flags.append(True)\n",
    "    else:\n",
    "        flags.append(False)\n",
    "        \n",
    "flagsArr = np.array(flags)\n",
    "\n",
    "c = Column(data=flags, name='Removed')\n",
    "database.add_column(c)\n",
    "ascii.write(database, '../Data/2.SNeHaMasterCat.csv', format='csv', fast_writer=False, overwrite = True) \n",
    "\n",
    "cleanData = database[flagsArr==False]\n",
    "\n",
    "cleanData\n",
    "\n",
    "ascii.write(cleanData, '../Data/2.SNeHaMasterCatClean.csv', format='csv', fast_writer=False, overwrite = True)  "
   ]
  },
  {
   "cell_type": "code",
   "execution_count": 44,
   "metadata": {
    "scrolled": true
   },
   "outputs": [
    {
     "data": {
      "text/html": [
       "<i>Table length=54</i>\n",
       "<table id=\"table140079533108912\" class=\"table-striped table-bordered table-condensed\">\n",
       "<thead><tr><th>Galaxy</th><th>Supernova</th><th>Ra</th><th>Dec</th><th>ESO_xCoord</th><th>ESO_yCoord</th><th>Type</th><th>ESO_Intensity</th><th>MUSE_xCoord</th><th>MUSE_yCoord</th><th>MUSE_Intensity</th><th>ESO-MPG_Hasub_wcomb_corr</th><th>MUSENatRes</th><th>MUSEmapNat</th><th>MUSEmap150pc</th><th>MUSEmap15asec</th><th>Removed</th></tr></thead>\n",
       "<thead><tr><th>str8</th><th>str24</th><th>float64</th><th>float64</th><th>float64</th><th>float64</th><th>str12</th><th>float64</th><th>float64</th><th>float64</th><th>float64</th><th>str89</th><th>float64</th><th>str80</th><th>str78</th><th>str80</th><th>bool</th></tr></thead>\n",
       "<tr><td>NGC0628</td><td>M74SNRJ013642400+1544163</td><td>24.17666666666667</td><td>15.73786111111111</td><td>2450.13904696686</td><td>1798.00193904955</td><td>Unclassified</td><td>0.35310355</td><td>--</td><td>--</td><td>--</td><td>/home/maykerchen.1/Desktop/SNeHaLargeData/HaSUB_wcomb_corr/NGC0628_Hasub_flux_corrs.fits</td><td>0.92</td><td>/data/fourier/sun.1608/PHANGS/MUSE/DR2.2/MUSEDAP/copt/NGC0628-0.92asec_MAPS.fits</td><td>/data/fourier/sun.1608/PHANGS/MUSE/DR2.2/MUSEDAP/150pc/NGC0628-150pc_MAPS.fits</td><td>/data/fourier/sun.1608/PHANGS/MUSE/DR2.2/MUSEDAP/15asec/NGC0628-15asec_MAPS.fits</td><td>False</td></tr>\n",
       "<tr><td>NGC0628</td><td>SN2013ej</td><td>24.200670833333334</td><td>15.758611111111112</td><td>2100.1343887503876</td><td>2112.55973726534</td><td>II</td><td>0.09700711</td><td>243.11885674825174</td><td>305.29330284886476</td><td>nan</td><td>/home/maykerchen.1/Desktop/SNeHaLargeData/HaSUB_wcomb_corr/NGC0628_Hasub_flux_corrs.fits</td><td>0.92</td><td>/data/fourier/sun.1608/PHANGS/MUSE/DR2.2/MUSEDAP/copt/NGC0628-0.92asec_MAPS.fits</td><td>/data/fourier/sun.1608/PHANGS/MUSE/DR2.2/MUSEDAP/150pc/NGC0628-150pc_MAPS.fits</td><td>/data/fourier/sun.1608/PHANGS/MUSE/DR2.2/MUSEDAP/15asec/NGC0628-15asec_MAPS.fits</td><td>False</td></tr>\n",
       "<tr><td>NGC0628</td><td>SN2002ap</td><td>24.09937916666667</td><td>15.753669444444444</td><td>3577.4210468967017</td><td>2037.470947756881</td><td>Ic</td><td>-0.17532486</td><td>--</td><td>--</td><td>--</td><td>/home/maykerchen.1/Desktop/SNeHaLargeData/HaSUB_wcomb_corr/NGC0628_Hasub_flux_corrs.fits</td><td>0.92</td><td>/data/fourier/sun.1608/PHANGS/MUSE/DR2.2/MUSEDAP/copt/NGC0628-0.92asec_MAPS.fits</td><td>/data/fourier/sun.1608/PHANGS/MUSE/DR2.2/MUSEDAP/150pc/NGC0628-150pc_MAPS.fits</td><td>/data/fourier/sun.1608/PHANGS/MUSE/DR2.2/MUSEDAP/15asec/NGC0628-15asec_MAPS.fits</td><td>False</td></tr>\n",
       "<tr><td>NGC0628</td><td>PS15blm</td><td>24.258708333333335</td><td>15.777000000000001</td><td>1253.8697326978763</td><td>2391.66186884759</td><td>Unclassified</td><td>6.3913784</td><td>--</td><td>--</td><td>--</td><td>/home/maykerchen.1/Desktop/SNeHaLargeData/HaSUB_wcomb_corr/NGC0628_Hasub_flux_corrs.fits</td><td>0.92</td><td>/data/fourier/sun.1608/PHANGS/MUSE/DR2.2/MUSEDAP/copt/NGC0628-0.92asec_MAPS.fits</td><td>/data/fourier/sun.1608/PHANGS/MUSE/DR2.2/MUSEDAP/150pc/NGC0628-150pc_MAPS.fits</td><td>/data/fourier/sun.1608/PHANGS/MUSE/DR2.2/MUSEDAP/15asec/NGC0628-15asec_MAPS.fits</td><td>False</td></tr>\n",
       "<tr><td>NGC0628</td><td>SN2003gd</td><td>24.17770833333333</td><td>15.739138888888888</td><td>2434.9505648694476</td><td>1817.369414243681</td><td>II</td><td>-0.12983386</td><td>--</td><td>--</td><td>--</td><td>/home/maykerchen.1/Desktop/SNeHaLargeData/HaSUB_wcomb_corr/NGC0628_Hasub_flux_corrs.fits</td><td>0.92</td><td>/data/fourier/sun.1608/PHANGS/MUSE/DR2.2/MUSEDAP/copt/NGC0628-0.92asec_MAPS.fits</td><td>/data/fourier/sun.1608/PHANGS/MUSE/DR2.2/MUSEDAP/150pc/NGC0628-150pc_MAPS.fits</td><td>/data/fourier/sun.1608/PHANGS/MUSE/DR2.2/MUSEDAP/15asec/NGC0628-15asec_MAPS.fits</td><td>False</td></tr>\n",
       "<tr><td>NGC1087</td><td>SN1995V</td><td>41.61154166666667</td><td>-0.49878055555555556</td><td>648.5505421656521</td><td>748.0751125890881</td><td>II</td><td>5.0002465</td><td>182.8499455412301</td><td>450.8200411854245</td><td>2663.371834437333</td><td>/home/maykerchen.1/Desktop/SNeHaLargeData/HaSUB_wcomb_corr/NGC1087_Hasub_flux_corrs.fits</td><td>0.92</td><td>/data/fourier/sun.1608/PHANGS/MUSE/DR2.2/MUSEDAP/copt/NGC1087-0.92asec_MAPS.fits</td><td>/data/fourier/sun.1608/PHANGS/MUSE/DR2.2/MUSEDAP/150pc/NGC1087-150pc_MAPS.fits</td><td>/data/fourier/sun.1608/PHANGS/MUSE/DR2.2/MUSEDAP/15asec/NGC1087-15asec_MAPS.fits</td><td>False</td></tr>\n",
       "<tr><td>NGC1300</td><td>LSQ14dtr</td><td>49.96679166666666</td><td>-19.478694444444443</td><td>841.190251571016</td><td>472.6653386793862</td><td>Ia</td><td>-0.06859025</td><td>--</td><td>--</td><td>--</td><td>/home/maykerchen.1/Desktop/SNeHaLargeData/HaSUB_wcomb_corr/NGC1300_Hasub_flux_corrs.fits</td><td>0.89</td><td>/data/fourier/sun.1608/PHANGS/MUSE/DR2.2/MUSEDAP/copt/NGC1300-0.89asec_MAPS.fits</td><td>/data/fourier/sun.1608/PHANGS/MUSE/DR2.2/MUSEDAP/150pc/NGC1300-150pc_MAPS.fits</td><td>/data/fourier/sun.1608/PHANGS/MUSE/DR2.2/MUSEDAP/15asec/NGC1300-15asec_MAPS.fits</td><td>False</td></tr>\n",
       "<tr><td>NGC1365</td><td>SN1983V</td><td>53.38192083333333</td><td>-36.148580555555554</td><td>3270.0796929140615</td><td>2906.7780980507987</td><td>II</td><td>11.953729</td><td>1027.2635595498382</td><td>309.94409754595245</td><td>5996.363596675533</td><td>/home/maykerchen.1/Desktop/SNeHaLargeData/HaSUB_wcomb_corr/NGC1365_Hasub_flux_corrs.fits</td><td>1.15</td><td>/data/fourier/sun.1608/PHANGS/MUSE/DR2.2/MUSEDAP/copt/NGC1365-1.15asec_MAPS.fits</td><td>/data/fourier/sun.1608/PHANGS/MUSE/DR2.2/MUSEDAP/150pc/NGC1365-150pc_MAPS.fits</td><td>/data/fourier/sun.1608/PHANGS/MUSE/DR2.2/MUSEDAP/15asec/NGC1365-15asec_MAPS.fits</td><td>False</td></tr>\n",
       "<tr><td>NGC1365</td><td>SN2001du</td><td>53.371249999999996</td><td>-36.142</td><td>3400.610028004022</td><td>3006.6009602140175</td><td>IIP</td><td>0.82873183</td><td>1182.399513237841</td><td>428.35378352364773</td><td>771.0272731680817</td><td>/home/maykerchen.1/Desktop/SNeHaLargeData/HaSUB_wcomb_corr/NGC1365_Hasub_flux_corrs.fits</td><td>1.15</td><td>/data/fourier/sun.1608/PHANGS/MUSE/DR2.2/MUSEDAP/copt/NGC1365-1.15asec_MAPS.fits</td><td>/data/fourier/sun.1608/PHANGS/MUSE/DR2.2/MUSEDAP/150pc/NGC1365-150pc_MAPS.fits</td><td>/data/fourier/sun.1608/PHANGS/MUSE/DR2.2/MUSEDAP/15asec/NGC1365-15asec_MAPS.fits</td><td>False</td></tr>\n",
       "<tr><td>NGC1365</td><td>SN2012fr</td><td>53.39995833333333</td><td>-36.12713888888889</td><td>3049.0333831792045</td><td>3231.5656161742586</td><td>Ia</td><td>0.47282246</td><td>765.0991888576729</td><td>695.9235141161663</td><td>98.56839169106574</td><td>/home/maykerchen.1/Desktop/SNeHaLargeData/HaSUB_wcomb_corr/NGC1365_Hasub_flux_corrs.fits</td><td>1.15</td><td>/data/fourier/sun.1608/PHANGS/MUSE/DR2.2/MUSEDAP/copt/NGC1365-1.15asec_MAPS.fits</td><td>/data/fourier/sun.1608/PHANGS/MUSE/DR2.2/MUSEDAP/150pc/NGC1365-150pc_MAPS.fits</td><td>/data/fourier/sun.1608/PHANGS/MUSE/DR2.2/MUSEDAP/15asec/NGC1365-15asec_MAPS.fits</td><td>False</td></tr>\n",
       "<tr><td>...</td><td>...</td><td>...</td><td>...</td><td>...</td><td>...</td><td>...</td><td>...</td><td>...</td><td>...</td><td>...</td><td>...</td><td>...</td><td>...</td><td>...</td><td>...</td><td>...</td></tr>\n",
       "<tr><td>NGC4321</td><td>SN2020oi</td><td>185.72887500000002</td><td>15.823599999999999</td><td>1535.5203526823702</td><td>1555.2264619973816</td><td>Ic</td><td>38.274704</td><td>584.5705293190107</td><td>477.473449256827</td><td>17928.96914852764</td><td>/home/maykerchen.1/Desktop/SNeHaLargeData/HaSUB_wcomb_corr/NGC4321_Hasub_flux_corrs.fits</td><td>1.16</td><td>/data/fourier/sun.1608/PHANGS/MUSE/DR2.2/MUSEDAP/copt/NGC4321-1.16asec_MAPS.fits</td><td>/data/fourier/sun.1608/PHANGS/MUSE/DR2.2/MUSEDAP/150pc/NGC4321-150pc_MAPS.fits</td><td>/data/fourier/sun.1608/PHANGS/MUSE/DR2.2/MUSEDAP/15asec/NGC4321-15asec_MAPS.fits</td><td>False</td></tr>\n",
       "<tr><td>NGC4321</td><td>SN2006X</td><td>185.72495833333335</td><td>15.80918888888889</td><td>1592.573880105478</td><td>1336.8309173771245</td><td>Ia</td><td>1.0231339</td><td>652.4108996458007</td><td>218.07592520832188</td><td>227.19847645678135</td><td>/home/maykerchen.1/Desktop/SNeHaLargeData/HaSUB_wcomb_corr/NGC4321_Hasub_flux_corrs.fits</td><td>1.16</td><td>/data/fourier/sun.1608/PHANGS/MUSE/DR2.2/MUSEDAP/copt/NGC4321-1.16asec_MAPS.fits</td><td>/data/fourier/sun.1608/PHANGS/MUSE/DR2.2/MUSEDAP/150pc/NGC4321-150pc_MAPS.fits</td><td>/data/fourier/sun.1608/PHANGS/MUSE/DR2.2/MUSEDAP/15asec/NGC4321-15asec_MAPS.fits</td><td>False</td></tr>\n",
       "<tr><td>NGC4496A</td><td>SN1988M</td><td>187.92041666666668</td><td>3.9225</td><td>745.6658442936118</td><td>590.9802382396861</td><td>II</td><td>1.0867594</td><td>--</td><td>--</td><td>--</td><td>/home/maykerchen.1/Desktop/SNeHaLargeData/HaSUB_wcomb_corr/NGC4496A_Hasub_flux_corrs.fits</td><td>--</td><td>--</td><td>--</td><td>--</td><td>False</td></tr>\n",
       "<tr><td>NGC4496A</td><td>SN1960F</td><td>187.92520833333333</td><td>3.9466111111111113</td><td>673.2508729703404</td><td>956.3886831158611</td><td>Ia</td><td>0.08794757</td><td>--</td><td>--</td><td>--</td><td>/home/maykerchen.1/Desktop/SNeHaLargeData/HaSUB_wcomb_corr/NGC4496A_Hasub_flux_corrs.fits</td><td>--</td><td>--</td><td>--</td><td>--</td><td>False</td></tr>\n",
       "<tr><td>NGC4540</td><td>SN2001Z</td><td>188.73279166666669</td><td>15.56875</td><td>248.2832050375166</td><td>810.5737968154358</td><td>II</td><td>0.14385411</td><td>--</td><td>--</td><td>--</td><td>/home/maykerchen.1/Desktop/SNeHaLargeData/HaSUB_wcomb_corr/NGC4540_Hasub_flux_corrs.fits</td><td>--</td><td>--</td><td>--</td><td>--</td><td>False</td></tr>\n",
       "<tr><td>NGC4569</td><td>PTF13bdl</td><td>189.23391666666666</td><td>13.129305555555556</td><td>1909.6093998444371</td><td>1789.5119187751075</td><td>Unclassified</td><td>-0.69260997</td><td>--</td><td>--</td><td>--</td><td>/home/maykerchen.1/Desktop/SNeHaLargeData/HaSUB_wcomb_corr/NGC4569_Hasub_flux_corrs.fits</td><td>--</td><td>--</td><td>--</td><td>--</td><td>False</td></tr>\n",
       "<tr><td>NGC4569</td><td>COVET-090220F</td><td>189.07716666666667</td><td>13.247194444444444</td><td>4222.628996946725</td><td>3575.897797392368</td><td>Unclassified</td><td>-0.20874038</td><td>--</td><td>--</td><td>--</td><td>/home/maykerchen.1/Desktop/SNeHaLargeData/HaSUB_wcomb_corr/NGC4569_Hasub_flux_corrs.fits</td><td>--</td><td>--</td><td>--</td><td>--</td><td>False</td></tr>\n",
       "<tr><td>NGC4571</td><td>PSNJ12364391+1416186</td><td>189.18291666666667</td><td>14.271833333333333</td><td>1661.6926518307346</td><td>1723.4371226951607</td><td>Unclassified</td><td>-0.23887062</td><td>--</td><td>--</td><td>--</td><td>/home/maykerchen.1/Desktop/SNeHaLargeData/HaSUB_wcomb_corr/NGC4571_Hasub_flux_corrs.fits</td><td>--</td><td>--</td><td>--</td><td>--</td><td>False</td></tr>\n",
       "<tr><td>NGC6744</td><td>GRB940118</td><td>287.7</td><td>-63.94</td><td>2213.3999974946305</td><td>2693.2162329539333</td><td>LGRB</td><td>0.17727846</td><td>--</td><td>--</td><td>--</td><td>/home/maykerchen.1/Desktop/SNeHaLargeData/HaSUB_wcomb_corr/NGC6744_Hasub_flux_corrs.fits</td><td>--</td><td>--</td><td>--</td><td>--</td><td>False</td></tr>\n",
       "<tr><td>NGC6744</td><td>SN2005at</td><td>287.47320833333333</td><td>-63.823</td><td>3720.6960332891404</td><td>4473.218647211148</td><td>Ic</td><td>3.1171134</td><td>--</td><td>--</td><td>--</td><td>/home/maykerchen.1/Desktop/SNeHaLargeData/HaSUB_wcomb_corr/NGC6744_Hasub_flux_corrs.fits</td><td>--</td><td>--</td><td>--</td><td>--</td><td>False</td></tr>\n",
       "</table>"
      ],
      "text/plain": [
       "<Table length=54>\n",
       " Galaxy         Supernova         ... Removed\n",
       "  str8            str24           ...   bool \n",
       "-------- ------------------------ ... -------\n",
       " NGC0628 M74SNRJ013642400+1544163 ...   False\n",
       " NGC0628                 SN2013ej ...   False\n",
       " NGC0628                 SN2002ap ...   False\n",
       " NGC0628                  PS15blm ...   False\n",
       " NGC0628                 SN2003gd ...   False\n",
       " NGC1087                  SN1995V ...   False\n",
       " NGC1300                 LSQ14dtr ...   False\n",
       " NGC1365                  SN1983V ...   False\n",
       " NGC1365                 SN2001du ...   False\n",
       " NGC1365                 SN2012fr ...   False\n",
       "     ...                      ... ...     ...\n",
       " NGC4321                 SN2020oi ...   False\n",
       " NGC4321                  SN2006X ...   False\n",
       "NGC4496A                  SN1988M ...   False\n",
       "NGC4496A                  SN1960F ...   False\n",
       " NGC4540                  SN2001Z ...   False\n",
       " NGC4569                 PTF13bdl ...   False\n",
       " NGC4569            COVET-090220F ...   False\n",
       " NGC4571     PSNJ12364391+1416186 ...   False\n",
       " NGC6744                GRB940118 ...   False\n",
       " NGC6744                 SN2005at ...   False"
      ]
     },
     "execution_count": 44,
     "metadata": {},
     "output_type": "execute_result"
    }
   ],
   "source": [
    "cleanData"
   ]
  },
  {
   "cell_type": "code",
   "execution_count": 12,
   "metadata": {},
   "outputs": [],
   "source": [
    "# for i in range(len(galaxies)):\n",
    "#     print(data[\"Galaxy\"][i], data[\"ESO-MPG_Hasub_wcomb_corr\"][i])"
   ]
  },
  {
   "cell_type": "code",
   "execution_count": 45,
   "metadata": {
    "scrolled": true
   },
   "outputs": [
    {
     "name": "stderr",
     "output_type": "stream",
     "text": [
      "<ipython-input-45-b6b9cd9477f5>:12: RuntimeWarning: invalid value encountered in log10\n",
      "  logmap = np.log10(map)\n",
      "<ipython-input-45-b6b9cd9477f5>:12: RuntimeWarning: divide by zero encountered in log10\n",
      "  logmap = np.log10(map)\n"
     ]
    }
   ],
   "source": [
    "# Plot ESO Galaxy Files with SNe\n",
    "\n",
    "data = ascii.read('../Data/2.SNeHaMasterCatClean.csv')\n",
    "\n",
    "for i in range(len(data[\"Galaxy\"])):\n",
    "    \n",
    "    if (data[\"ESO-MPG_Hasub_wcomb_corr\"][i] != \"\" and os.path.isfile(data[\"ESO-MPG_Hasub_wcomb_corr\"][i])):     \n",
    "    \n",
    "        found_name, found_type, found_ra, found_dec, x_coord, y_coord, map, naxis1, naxis2 = check_in_image(data['Ra'], data['Dec'], data['Supernova'], data['Type'], data[\"ESO-MPG_Hasub_wcomb_corr\"][i], maptype = \"ESO\")\n",
    "    \n",
    "        plt.figure(figsize=(7, 7))\n",
    "        logmap = np.log10(map)\n",
    "        plt.imshow(logmap, origin='lower', interpolation='nearest', zorder=1)\n",
    "\n",
    "        for k in range(len(found_name)):\n",
    "\n",
    "            string = found_name[k]\n",
    "\n",
    "            if (len(found_type[k])>1):\n",
    "                if found_type[k][1] == \"I\":\n",
    "                    #colorCode = 'chartreuse'\n",
    "                    colorCode = 'black'\n",
    "                    mkr = '*'\n",
    "                elif found_type[k][1] == \"b\" or found_type[k][1] == \"c\":\n",
    "                    #colorCode = 'salmon'\n",
    "                    colorCode = 'darkblue'\n",
    "                    mkr = '^'\n",
    "                elif found_type[k][1] == \"a\":\n",
    "                    #colorCode = 'deeppink'\n",
    "                    colorCode = 'indigo'\n",
    "                    mkr = 'o'\n",
    "                else:\n",
    "                    colorCode = 'magenta'\n",
    "                    mkr = '>'\n",
    "            else:\n",
    "                #colorCode = 'cyan'\n",
    "                colorCode = 'maroon'\n",
    "                mkr='s'\n",
    "\n",
    "            plt.plot(x_coord[k], y_coord[k], marker=mkr, ms=10, color=colorCode, zorder=10)\n",
    "            plt.text(x_coord[k]-20, y_coord[k]+8, string, fontsize=12, color=colorCode)\n",
    "\n",
    "        plt.axis('off')\n",
    "        plt.title(data[\"Galaxy\"][i], fontsize=24, fontweight='bold')\n",
    "        plt.tight_layout()\n",
    "        plt.savefig('../Figures/2.ESO_Galaxy_Images/' + data[\"Galaxy\"][i] + '.png')\n",
    "        if (len(found_name) > 0):\n",
    "            plt.savefig('../Figures/2.ESO_SNe_Galaxy_Images/' + data[\"Galaxy\"][i] + '.png')\n",
    "        plt.close()"
   ]
  },
  {
   "cell_type": "code",
   "execution_count": 47,
   "metadata": {},
   "outputs": [
    {
     "name": "stdout",
     "output_type": "stream",
     "text": [
      "NGC0628\n",
      "NGC0628\n",
      "NGC0628\n",
      "NGC0628\n",
      "NGC0628\n",
      "NGC1087\n",
      "NGC1300\n",
      "NGC1365\n",
      "NGC1365\n",
      "NGC1365\n",
      "NGC1365\n",
      "NGC1433\n",
      "NGC1512\n",
      "NGC1566\n",
      "NGC1566\n",
      "NGC1566\n",
      "NGC1672\n",
      "NGC1672\n",
      "NGC2997\n",
      "NGC2997\n",
      "NGC3351\n",
      "NGC3627\n",
      "NGC3627\n",
      "NGC3627\n",
      "NGC3627\n",
      "NGC4254\n",
      "NGC4254\n",
      "NGC4254\n",
      "NGC4254\n",
      "NGC4293\n",
      "NGC4298\n",
      "NGC4303\n",
      "NGC4303\n",
      "NGC4303\n",
      "NGC4303\n",
      "NGC4303\n",
      "NGC4303\n",
      "NGC4303\n",
      "NGC4303\n",
      "NGC4321\n",
      "NGC4321\n",
      "NGC4321\n",
      "NGC4321\n",
      "NGC4321\n",
      "NGC4321\n",
      "NGC4321\n",
      "NGC4496A\n",
      "NGC4496A\n",
      "NGC4540\n",
      "NGC4569\n",
      "NGC4569\n",
      "NGC4571\n",
      "NGC6744\n",
      "NGC6744\n"
     ]
    }
   ],
   "source": [
    "for i in range(len(data)):\n",
    "    print(data[\"Galaxy\"][i])"
   ]
  },
  {
   "cell_type": "code",
   "execution_count": 46,
   "metadata": {},
   "outputs": [
    {
     "name": "stderr",
     "output_type": "stream",
     "text": [
      "<ipython-input-46-baab7ee40c08>:11: RuntimeWarning: divide by zero encountered in log10\n",
      "  logmap = np.log10(map)\n"
     ]
    }
   ],
   "source": [
    "# Plot MUSE Galaxy Files with SNe\n",
    "inMuse = []\n",
    "\n",
    "for i in range(len(data[\"Galaxy\"])):\n",
    "    \n",
    "    if (data[\"MUSEmapNat\"][i] != \"\" and os.path.isfile(data[\"MUSEmapNat\"][i])):     \n",
    "    \n",
    "        found_name, found_type, found_ra, found_dec, x_coord, y_coord, map, naxis1, naxis2 = check_in_image(data['Ra'], data['Dec'], data['Supernova'], data['Type'], data[\"MUSEmapNat\"][i])\n",
    "    \n",
    "        plt.figure(figsize=(7, 7))\n",
    "        logmap = np.log10(map)\n",
    "        plt.imshow(logmap, origin='lower', interpolation='nearest', zorder=1)\n",
    "\n",
    "        for k in range(len(found_name)):\n",
    "            inMuse.append(found_name[k])\n",
    "            string = found_name[k]\n",
    "\n",
    "            if (len(found_type[k])>1):\n",
    "                if found_type[k][1] == \"I\":\n",
    "                    #colorCode = 'chartreuse'\n",
    "                    colorCode = 'black'\n",
    "                    mkr = '*'\n",
    "                elif found_type[k][1] == \"b\" or found_type[k][1] == \"c\":\n",
    "                    #colorCode = 'salmon'\n",
    "                    colorCode = 'darkblue'\n",
    "                    mkr = '^'\n",
    "                elif found_type[k][1] == \"a\":\n",
    "                    #colorCode = 'deeppink'\n",
    "                    colorCode = 'indigo'\n",
    "                    mkr = 'o'\n",
    "                else:\n",
    "                    colorCode = 'magenta'\n",
    "                    mkr = '>'\n",
    "            else:\n",
    "                #colorCode = 'cyan'\n",
    "                colorCode = 'maroon'\n",
    "                mkr='s'\n",
    "\n",
    "            plt.plot(x_coord[k], y_coord[k], marker=mkr, ms=10, color=colorCode, zorder=10)\n",
    "            plt.text(x_coord[k]-20, y_coord[k]+8, string, fontsize=12, color=colorCode)\n",
    "\n",
    "        plt.axis('off')\n",
    "        plt.title(data[\"Galaxy\"][i], fontsize=24, fontweight='bold')\n",
    "        plt.tight_layout()\n",
    "        plt.savefig('../Figures/2.MUSE_Galaxy_Images/' + data[\"Galaxy\"][i] + '.png')\n",
    "        if (len(found_name) > 0):\n",
    "            plt.savefig('../Figures/2.MUSE_SNe_Galaxy_Images/' + data[\"Galaxy\"][i] + '.png')\n",
    "        plt.close()"
   ]
  },
  {
   "cell_type": "code",
   "execution_count": 22,
   "metadata": {},
   "outputs": [],
   "source": [
    "#Organize the MUSE sample (remove repeat entries and remove those outside of maps)\n",
    "muselist = list( dict.fromkeys(inMuse) )\n",
    "\n",
    "inMuseSample = []\n",
    "\n",
    "for i in range(len(database[\"Supernova\"])):\n",
    "    #remove by hand the SNe that are just outside of MUSE maps\n",
    "    if database[\"Supernova\"][i] == \"SN2013ej\" or database[\"Supernova\"][i] == \"SN1979C\":\n",
    "        inMuseSample.append(\"False\")\n",
    "    elif database[\"Supernova\"][i] in muselist:\n",
    "        inMuseSample.append(\"True\")\n",
    "    else: \n",
    "        inMuseSample.append(\"False\")\n",
    "        \n",
    "# for i in range(len(database)):\n",
    "#     print(database[\"Supernova\"][i], inMuseSample[i])\n",
    "    "
   ]
  },
  {
   "cell_type": "code",
   "execution_count": 23,
   "metadata": {},
   "outputs": [
    {
     "name": "stderr",
     "output_type": "stream",
     "text": [
      "WARNING: AstropyDeprecationWarning: ../Data/2.museSample.csv already exists. Automatically overwriting ASCII files is deprecated. Use the argument 'overwrite=True' in the future. [astropy.io.ascii.ui]\n"
     ]
    }
   ],
   "source": [
    "# Make a table of organized MUSE sample\n",
    "museSample = Table({\"Supernova\": database[\"Supernova\"],\n",
    "                    \"InMuseSample\" : inMuseSample})\n",
    "\n",
    "museSample.write(\"../Data/2.museSample.csv\", format = \"csv\")"
   ]
  },
  {
   "cell_type": "code",
   "execution_count": 24,
   "metadata": {},
   "outputs": [
    {
     "data": {
      "text/html": [
       "<i>Table length=2</i>\n",
       "<table id=\"table140080226846992\" class=\"table-striped table-bordered table-condensed\">\n",
       "<thead><tr><th>Galaxy</th><th>Supernova</th><th>Ra</th><th>Dec</th><th>ESO_xCoord</th><th>ESO_yCoord</th><th>Type</th><th>ESO_Intensity</th><th>MUSE_xCoord</th><th>MUSE_yCoord</th><th>MUSE_Intensity</th><th>ESO-MPG_Hasub_wcomb_corr</th><th>MUSENatRes</th><th>MUSEmapNat</th><th>MUSEmap150pc</th><th>MUSEmap15asec</th><th>Removed</th></tr></thead>\n",
       "<thead><tr><th>str8</th><th>str24</th><th>float64</th><th>float64</th><th>float64</th><th>float64</th><th>str12</th><th>float64</th><th>float64</th><th>float64</th><th>float64</th><th>str89</th><th>float64</th><th>str80</th><th>str78</th><th>str80</th><th>str5</th></tr></thead>\n",
       "<tr><td>NGC0628</td><td>M74SNRJ013642400+1544163</td><td>24.17666666666667</td><td>15.73786111111111</td><td>2450.13904696686</td><td>1798.00193904955</td><td>Unclassified</td><td>0.35310355</td><td>--</td><td>--</td><td>--</td><td>/home/maykerchen.1/Desktop/SNeHaLargeData/HaSUB_wcomb_corr/NGC0628_Hasub_flux_corrs.fits</td><td>0.92</td><td>/data/fourier/sun.1608/PHANGS/MUSE/DR2.2/MUSEDAP/copt/NGC0628-0.92asec_MAPS.fits</td><td>/data/fourier/sun.1608/PHANGS/MUSE/DR2.2/MUSEDAP/150pc/NGC0628-150pc_MAPS.fits</td><td>/data/fourier/sun.1608/PHANGS/MUSE/DR2.2/MUSEDAP/15asec/NGC0628-15asec_MAPS.fits</td><td>False</td></tr>\n",
       "<tr><td>NGC0628</td><td>SN2013ej</td><td>24.200670833333334</td><td>15.758611111111112</td><td>2100.1343887503876</td><td>2112.55973726534</td><td>II</td><td>0.09700711</td><td>243.11885674825174</td><td>305.29330284886476</td><td>nan</td><td>/home/maykerchen.1/Desktop/SNeHaLargeData/HaSUB_wcomb_corr/NGC0628_Hasub_flux_corrs.fits</td><td>0.92</td><td>/data/fourier/sun.1608/PHANGS/MUSE/DR2.2/MUSEDAP/copt/NGC0628-0.92asec_MAPS.fits</td><td>/data/fourier/sun.1608/PHANGS/MUSE/DR2.2/MUSEDAP/150pc/NGC0628-150pc_MAPS.fits</td><td>/data/fourier/sun.1608/PHANGS/MUSE/DR2.2/MUSEDAP/15asec/NGC0628-15asec_MAPS.fits</td><td>False</td></tr>\n",
       "</table>"
      ],
      "text/plain": [
       "<Table length=2>\n",
       " Galaxy        Supernova         ... Removed\n",
       "  str8           str24           ...   str5 \n",
       "------- ------------------------ ... -------\n",
       "NGC0628 M74SNRJ013642400+1544163 ...   False\n",
       "NGC0628                 SN2013ej ...   False"
      ]
     },
     "execution_count": 24,
     "metadata": {},
     "output_type": "execute_result"
    }
   ],
   "source": [
    "data[0:2]"
   ]
  },
  {
   "cell_type": "code",
   "execution_count": 27,
   "metadata": {},
   "outputs": [],
   "source": [
    "#Group data by galaxy\n",
    "gal_groups = data.group_by('Galaxy')\n",
    "gals = gal_groups.groups.keys\n",
    "indices = gal_groups.groups.indices\n",
    "indices = indices.tolist()\n",
    "indices.append(0)\n",
    "\n",
    "# print(gals)\n",
    "# print(indices)\n",
    "# print(gal_groups[\"SN_name\"][4])\n",
    "\n",
    "images, name, types, ras, decs = [],[],[],[],[]\n",
    "# errfiles, dists = [],[]\n",
    "for i in range(len(indices)-2):\n",
    "    SNnames, SNtypes, SNras, SNdecs = [],[],[],[]\n",
    "    images.append(gal_groups[\"MUSEmapNat\"][indices[i]])\n",
    "    SNnames.append(gal_groups[\"Supernova\"][indices[i]])\n",
    "    SNtypes.append(gal_groups[\"Type\"][indices[i]])\n",
    "    SNras.append(gal_groups[\"Ra\"][indices[i]])\n",
    "    SNdecs.append(gal_groups[\"Dec\"][indices[i]])\n",
    "    j = 1\n",
    "    while(indices[i] + j < indices[i+1]):\n",
    "        SNnames.append(gal_groups[\"Supernova\"][indices[i]+j])\n",
    "        SNtypes.append(gal_groups[\"Type\"][indices[i]+j])\n",
    "        SNras.append(gal_groups[\"Ra\"][indices[i]+j])\n",
    "        SNdecs.append(gal_groups[\"Dec\"][indices[i]+j])\n",
    "        j += 1\n",
    "    name.append(SNnames)\n",
    "    types.append(SNtypes)\n",
    "    ras.append(SNras)\n",
    "    decs.append(SNdecs)    \n",
    "  "
   ]
  },
  {
   "cell_type": "code",
   "execution_count": 33,
   "metadata": {},
   "outputs": [
    {
     "name": "stdout",
     "output_type": "stream",
     "text": [
      "[['M74SNRJ013642400+1544163 Unclassified', 'SN2013ej Type II', 'SN2002ap Type Ic', 'PS15blm Unclassified', 'SN2003gd Type II'], ['SN1995V Type II'], ['LSQ14dtr Type Ia'], ['SN1983V Type II', 'SN2001du Type IIP', 'SN2012fr Type Ia', 'SN1957C Unclassified'], ['SN1985P Type II'], ['SN2010iv Type Ia'], ['SN2022aau Type II', 'SN2017gax Type Ib/c'], ['SN2012aw Type IIP'], ['SN1989B Type Ia', 'SN2009hd Type II', 'SN1973R Type II', 'SN2016cok Type IIP'], ['SN2014L Type Ic', 'SN1967H Type II', 'SN1972Q Type II', 'SN1986I Type II'], ['SN1926A Type II', 'SN1961I Type II', 'SN1964F Type II', 'SN2006ov Type II', 'SN2008in Type II', 'SN2014dt Type Ia-pec', 'SN2020jfo Type II', 'SN1999gn Type II'], ['SN1979C Type IIL', 'SN1959E Type I', 'SN1901B Type I', 'SN1914A Unclassified', 'SN2019ehk Type Ib', 'SN2020oi Type Ic', 'SN2006X Type Ia']]\n",
      "['NGC0628', 'NGC1087', 'NGC1300', 'NGC1365', 'NGC1433', 'NGC1512', 'NGC1672', 'NGC3351', 'NGC3627', 'NGC4254', 'NGC4303', 'NGC4321']\n",
      "12\n"
     ]
    }
   ],
   "source": [
    "# set up plots.\n",
    "import matplotlib.pyplot as plt\n",
    "SNgals, plots, wcss, legendLabels = [],[],[],[]\n",
    "# beamsizes, plotAspect, ppb, corner, scalebars = [],[],[],[],[],[],[],[],[]\n",
    "\n",
    "\n",
    "for i in range(len(gals)):\n",
    "        \n",
    "    if os.path.isfile(images[i]):\n",
    "        SNgals.append(gals[i][0])\n",
    "        img = images[i]\n",
    "        hdu = pyfits.open(img)\n",
    "        map = hdu[0].data\n",
    "        plots.append(map)\n",
    "        w = WCS(hdu[0].header, naxis=2)\n",
    "        wcss.append(w)\n",
    "        \n",
    "        legendlabel = []\n",
    "        if len(name[i]) > 1:\n",
    "            for k in range(len(name[i])):\n",
    "                if types[i][k] == 'Unclassified':\n",
    "                    typelabel = name[i][k] + ' '  + types[i][k]\n",
    "                else:\n",
    "                    typelabel = name[i][k] + ' Type '  + types[i][k]\n",
    "                legendlabel.append(typelabel)\n",
    "        else:\n",
    "            if types[i][0] == 'Unclassified':\n",
    "                legendlabel.append(name[i][0] + ' '  + types[i][0]) \n",
    "            else:        \n",
    "                legendlabel.append(name[i][0] + ' Type '  + types[i][0])\n",
    "        legendLabels.append(legendlabel)\n",
    "        \n",
    "print(legendLabels)\n",
    "print(SNgals)\n",
    "print(len(plots))"
   ]
  },
  {
   "cell_type": "code",
   "execution_count": 31,
   "metadata": {},
   "outputs": [
    {
     "name": "stderr",
     "output_type": "stream",
     "text": [
      "<ipython-input-31-aff788baf805>:8: MatplotlibDeprecationWarning: You are modifying the state of a globally registered colormap. In future versions, you will not be able to modify a registered colormap in-place. To remove this warning, you can make a copy of the colormap first. cmap = copy.copy(mpl.cm.get_cmap(\"magma\"))\n",
      "  current_cmap.set_bad(\"black\")\n"
     ]
    },
    {
     "ename": "TypeError",
     "evalue": "loop of ufunc does not support argument 0 of type NoneType which has no callable log10 method",
     "output_type": "error",
     "traceback": [
      "\u001b[0;31m---------------------------------------------------------------------------\u001b[0m",
      "\u001b[0;31mAttributeError\u001b[0m                            Traceback (most recent call last)",
      "\u001b[0;31mAttributeError\u001b[0m: 'NoneType' object has no attribute 'log10'",
      "\nThe above exception was the direct cause of the following exception:\n",
      "\u001b[0;31mTypeError\u001b[0m                                 Traceback (most recent call last)",
      "\u001b[0;32m<ipython-input-31-aff788baf805>\u001b[0m in \u001b[0;36m<module>\u001b[0;34m\u001b[0m\n\u001b[1;32m     14\u001b[0m \u001b[0;32mfor\u001b[0m \u001b[0mplot\u001b[0m \u001b[0;32min\u001b[0m \u001b[0mplots\u001b[0m\u001b[0;34m:\u001b[0m\u001b[0;34m\u001b[0m\u001b[0;34m\u001b[0m\u001b[0m\n\u001b[1;32m     15\u001b[0m     \u001b[0mxArr\u001b[0m\u001b[0;34m,\u001b[0m \u001b[0myArr\u001b[0m \u001b[0;34m=\u001b[0m \u001b[0mwcss\u001b[0m\u001b[0;34m[\u001b[0m\u001b[0mm\u001b[0m\u001b[0;34m]\u001b[0m\u001b[0;34m.\u001b[0m\u001b[0mwcs_world2pix\u001b[0m\u001b[0;34m(\u001b[0m\u001b[0mras\u001b[0m\u001b[0;34m[\u001b[0m\u001b[0mm\u001b[0m\u001b[0;34m]\u001b[0m\u001b[0;34m,\u001b[0m\u001b[0mdecs\u001b[0m\u001b[0;34m[\u001b[0m\u001b[0mm\u001b[0m\u001b[0;34m]\u001b[0m\u001b[0;34m,\u001b[0m\u001b[0;36m0\u001b[0m\u001b[0;34m)\u001b[0m\u001b[0;34m\u001b[0m\u001b[0;34m\u001b[0m\u001b[0m\n\u001b[0;32m---> 16\u001b[0;31m     \u001b[0mlogplot\u001b[0m \u001b[0;34m=\u001b[0m \u001b[0mnp\u001b[0m\u001b[0;34m.\u001b[0m\u001b[0mlog10\u001b[0m\u001b[0;34m(\u001b[0m\u001b[0mplot\u001b[0m\u001b[0;34m)\u001b[0m\u001b[0;34m\u001b[0m\u001b[0;34m\u001b[0m\u001b[0m\n\u001b[0m\u001b[1;32m     17\u001b[0m     \u001b[0maxs\u001b[0m\u001b[0;34m[\u001b[0m\u001b[0mi\u001b[0m\u001b[0;34m]\u001b[0m\u001b[0;34m[\u001b[0m\u001b[0mj\u001b[0m\u001b[0;34m]\u001b[0m\u001b[0;34m.\u001b[0m\u001b[0mimshow\u001b[0m\u001b[0;34m(\u001b[0m\u001b[0mlogplot\u001b[0m\u001b[0;34m,\u001b[0m \u001b[0mcmap\u001b[0m\u001b[0;34m=\u001b[0m\u001b[0mcurrent_cmap\u001b[0m\u001b[0;34m,\u001b[0m \u001b[0maspect\u001b[0m\u001b[0;34m=\u001b[0m\u001b[0;34m\"equal\"\u001b[0m\u001b[0;34m,\u001b[0m \u001b[0morigin\u001b[0m \u001b[0;34m=\u001b[0m \u001b[0;34m\"lower\"\u001b[0m\u001b[0;34m,\u001b[0m \u001b[0minterpolation\u001b[0m \u001b[0;34m=\u001b[0m \u001b[0;34m\"nearest\"\u001b[0m\u001b[0;34m,\u001b[0m \u001b[0mvmin\u001b[0m \u001b[0;34m=\u001b[0m \u001b[0;34m-\u001b[0m\u001b[0;36m0.5\u001b[0m\u001b[0;34m,\u001b[0m \u001b[0mvmax\u001b[0m \u001b[0;34m=\u001b[0m \u001b[0;36m2.0\u001b[0m\u001b[0;34m)\u001b[0m\u001b[0;34m\u001b[0m\u001b[0;34m\u001b[0m\u001b[0m\n\u001b[1;32m     18\u001b[0m     \u001b[0maxs\u001b[0m\u001b[0;34m[\u001b[0m\u001b[0mi\u001b[0m\u001b[0;34m]\u001b[0m\u001b[0;34m[\u001b[0m\u001b[0mj\u001b[0m\u001b[0;34m]\u001b[0m\u001b[0;34m.\u001b[0m\u001b[0mset_title\u001b[0m\u001b[0;34m(\u001b[0m\u001b[0mgals\u001b[0m\u001b[0;34m[\u001b[0m\u001b[0mm\u001b[0m\u001b[0;34m]\u001b[0m\u001b[0;34m.\u001b[0m\u001b[0mupper\u001b[0m\u001b[0;34m(\u001b[0m\u001b[0;34m)\u001b[0m\u001b[0;34m,\u001b[0m \u001b[0mfontsize\u001b[0m\u001b[0;34m=\u001b[0m\u001b[0;36m20\u001b[0m\u001b[0;34m)\u001b[0m\u001b[0;34m\u001b[0m\u001b[0;34m\u001b[0m\u001b[0m\n",
      "\u001b[0;31mTypeError\u001b[0m: loop of ufunc does not support argument 0 of type NoneType which has no callable log10 method"
     ]
    },
    {
     "data": {
      "image/png": "[encoded data removed]",
      "text/plain": [
       "<Figure size 1440x4320 with 12 Axes>"
      ]
     },
     "metadata": {
      "needs_background": "light"
     },
     "output_type": "display_data"
    }
   ],
   "source": [
    "from matplotlib.patches import Circle\n",
    "\n",
    "\n",
    "markerShapes = [\"o\", \"s\", \"*\", \"D\", \"X\", \"H\", \"v\"]\n",
    "markerSizes  = [120,120,200,120,120,120,120]\n",
    "\n",
    "current_cmap = plt.get_cmap(\"magma\")\n",
    "current_cmap.set_bad(\"black\")\n",
    "\n",
    "import math\n",
    "i,j,m=0,0,0\n",
    "PLOTS_PER_ROW = 3\n",
    "fig, axs = plt.subplots(math.ceil(len(plots)/PLOTS_PER_ROW),PLOTS_PER_ROW, figsize=(20, 60))\n",
    "for plot in plots:\n",
    "    xArr, yArr = wcss[m].wcs_world2pix(ras[m],decs[m],0)\n",
    "    logplot = np.log10(plot)\n",
    "    axs[i][j].imshow(logplot, cmap=current_cmap, aspect=\"equal\", origin = \"lower\", interpolation = \"nearest\", vmin = -0.5, vmax = 2.0)\n",
    "    axs[i][j].set_title(gals[m].upper(), fontsize=20)\n",
    "#     axs[i][j].contour(sigma[m], [3], colors = [\"white\"], linestyles = (\"-\"))\n",
    "    axs[i][j].set_xticks([])\n",
    "    axs[i][j].set_yticks([])\n",
    "    axs[i][j].add_patch(draw_circle)\n",
    "    for n in range(len(decs[m])):\n",
    "        axs[i][j].scatter(xArr[n], yArr[n], color = \"black\", marker = markerShapes[n], s = markerSizes[n]+30)\n",
    "        axs[i][j].scatter(xArr[n], yArr[n], color = \"lime\", marker = markerShapes[n], s = markerSizes[n], edgecolor=\"black\", label = legendLabels[m][n])\n",
    "    axs[i][j].legend(loc=\"best\", fontsize=14, handletextpad=0.007)\n",
    "\n",
    "    j+=1\n",
    "    if j%PLOTS_PER_ROW==0:\n",
    "        i+=1\n",
    "        j=0\n",
    "    m +=1\n",
    "plt.tight_layout(pad=0.1, w_pad=0.1, h_pad=0.1)\n",
    "plt.show()\n",
    "fig.savefig(\"../Figures/AllSNeInGalaxies.png\", dpi=300)\n",
    "   \n",
    "\n",
    "print()"
   ]
  },
  {
   "cell_type": "code",
   "execution_count": null,
   "metadata": {},
   "outputs": [],
   "source": []
  },
  {
   "cell_type": "code",
   "execution_count": null,
   "metadata": {},
   "outputs": [],
   "source": []
  },
  {
   "cell_type": "code",
   "execution_count": null,
   "metadata": {},
   "outputs": [],
   "source": []
  }
 ],
 "metadata": {
  "kernelspec": {
   "display_name": "Python 3",
   "language": "python",
   "name": "python3"
  },
  "language_info": {
   "codemirror_mode": {
    "name": "ipython",
    "version": 3
   },
   "file_extension": ".py",
   "mimetype": "text/x-python",
   "name": "python",
   "nbconvert_exporter": "python",
   "pygments_lexer": "ipython3",
   "version": "3.8.10"
  }
 },
 "nbformat": 4,
 "nbformat_minor": 2
}
