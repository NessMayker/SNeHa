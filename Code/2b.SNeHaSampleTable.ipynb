{
 "cells": [
  {
   "cell_type": "markdown",
   "metadata": {},
   "source": [
    "This notebook makes the latex table for the SNeHa sample"
   ]
  },
  {
   "cell_type": "code",
   "execution_count": 1,
   "metadata": {},
   "outputs": [],
   "source": [
    "#import packages and formatting statements\n",
    "\n",
    "import numpy as np\n",
    "from matplotlib import pyplot as plt\n",
    "import astropy.io.fits as pyfits\n",
    "from astropy.table import Table, join\n",
    "from astropy.wcs import WCS\n",
    "from astropy.io import ascii\n",
    "import os\n"
   ]
  },
  {
   "cell_type": "code",
   "execution_count": 2,
   "metadata": {
    "scrolled": true
   },
   "outputs": [
    {
     "data": {
      "text/html": [
       "<i>Table length=62</i>\n",
       "<table id=\"table140054187748944\" class=\"table-striped table-bordered table-condensed\">\n",
       "<thead><tr><th>Galaxy</th><th>Supernova</th><th>Ra</th><th>Dec</th><th>ESO_xCoord</th><th>ESO_yCoord</th><th>Type</th><th>ESO_Intensity</th><th>MUSE_xCoord</th><th>MUSE_yCoord</th><th>MUSE_Intensity</th><th>ESO-MPG_Hasub_wcomb_corr</th><th>MUSEResolution</th><th>MUSEmap</th><th>Removed</th><th>InMuseSample</th></tr></thead>\n",
       "<thead><tr><th>str8</th><th>str24</th><th>float64</th><th>float64</th><th>float64</th><th>float64</th><th>str12</th><th>float64</th><th>float64</th><th>float64</th><th>float64</th><th>str89</th><th>float64</th><th>str80</th><th>str5</th><th>str5</th></tr></thead>\n",
       "<tr><td>NGC0628</td><td>SN2002ap</td><td>24.09937916666667</td><td>15.753669444444444</td><td>3577.4210468967017</td><td>2037.470947756881</td><td>Ic</td><td>-0.17532486</td><td>--</td><td>--</td><td>--</td><td>/home/maykerchen.1/Desktop/SNeHaLargeData/HaSUB_wcomb_corr/NGC0628_Hasub_flux_corrs.fits</td><td>0.92</td><td>/data/fourier/sun.1608/PHANGS/MUSE/DR2.1/MUSEDAP/copt/NGC0628-0.92asec_MAPS.fits</td><td>False</td><td>False</td></tr>\n",
       "<tr><td>NGC0628</td><td>SN2019krl</td><td>24.2067875</td><td>15.77946388888889</td><td>2011.0536442066714</td><td>2428.5985142409477</td><td>IIn/LBV</td><td>2.2089531</td><td>137.18487193542887</td><td>680.6496794953687</td><td>447.33069091690675</td><td>/home/maykerchen.1/Desktop/SNeHaLargeData/HaSUB_wcomb_corr/NGC0628_Hasub_flux_corrs.fits</td><td>0.92</td><td>/data/fourier/sun.1608/PHANGS/MUSE/DR2.1/MUSEDAP/copt/NGC0628-0.92asec_MAPS.fits</td><td>True</td><td>False</td></tr>\n",
       "<tr><td>NGC0628</td><td>SN2013ej</td><td>24.200670833333334</td><td>15.758611111111112</td><td>2100.1343887503876</td><td>2112.55973726534</td><td>II</td><td>0.09700711</td><td>243.11885674825174</td><td>305.29330284886476</td><td>nan</td><td>/home/maykerchen.1/Desktop/SNeHaLargeData/HaSUB_wcomb_corr/NGC0628_Hasub_flux_corrs.fits</td><td>0.92</td><td>/data/fourier/sun.1608/PHANGS/MUSE/DR2.1/MUSEDAP/copt/NGC0628-0.92asec_MAPS.fits</td><td>False</td><td>False</td></tr>\n",
       "<tr><td>NGC0628</td><td>PS15blm</td><td>24.258708333333335</td><td>15.777000000000001</td><td>1253.8697326978763</td><td>2391.66186884759</td><td>Unclassified</td><td>6.3913784</td><td>--</td><td>--</td><td>--</td><td>/home/maykerchen.1/Desktop/SNeHaLargeData/HaSUB_wcomb_corr/NGC0628_Hasub_flux_corrs.fits</td><td>0.92</td><td>/data/fourier/sun.1608/PHANGS/MUSE/DR2.1/MUSEDAP/copt/NGC0628-0.92asec_MAPS.fits</td><td>False</td><td>False</td></tr>\n",
       "<tr><td>NGC0628</td><td>M74SNRJ013642400+1544163</td><td>24.17666666666667</td><td>15.73786111111111</td><td>2450.13904696686</td><td>1798.00193904955</td><td>Unclassified</td><td>0.35310355</td><td>--</td><td>--</td><td>--</td><td>/home/maykerchen.1/Desktop/SNeHaLargeData/HaSUB_wcomb_corr/NGC0628_Hasub_flux_corrs.fits</td><td>0.92</td><td>/data/fourier/sun.1608/PHANGS/MUSE/DR2.1/MUSEDAP/copt/NGC0628-0.92asec_MAPS.fits</td><td>False</td><td>False</td></tr>\n",
       "<tr><td>NGC0628</td><td>SN2003gd</td><td>24.17770833333333</td><td>15.739138888888888</td><td>2434.9505648694476</td><td>1817.369414243681</td><td>II</td><td>-0.12983386</td><td>--</td><td>--</td><td>--</td><td>/home/maykerchen.1/Desktop/SNeHaLargeData/HaSUB_wcomb_corr/NGC0628_Hasub_flux_corrs.fits</td><td>0.92</td><td>/data/fourier/sun.1608/PHANGS/MUSE/DR2.1/MUSEDAP/copt/NGC0628-0.92asec_MAPS.fits</td><td>False</td><td>False</td></tr>\n",
       "<tr><td>NGC1087</td><td>SN1995V</td><td>41.61154166666667</td><td>-0.49878055555555556</td><td>648.5505421656521</td><td>748.0751125890881</td><td>II</td><td>5.0002465</td><td>182.8499455412301</td><td>450.8200411854245</td><td>2663.371834437333</td><td>/home/maykerchen.1/Desktop/SNeHaLargeData/HaSUB_wcomb_corr/NGC1087_Hasub_flux_corrs.fits</td><td>0.92</td><td>/data/fourier/sun.1608/PHANGS/MUSE/DR2.1/MUSEDAP/copt/NGC1087-0.92asec_MAPS.fits</td><td>False</td><td>True</td></tr>\n",
       "<tr><td>NGC1300</td><td>LSQ14dtr</td><td>49.96679166666666</td><td>-19.478694444444443</td><td>841.190251571016</td><td>472.6653386793862</td><td>Ia</td><td>-0.06859025</td><td>--</td><td>--</td><td>--</td><td>/home/maykerchen.1/Desktop/SNeHaLargeData/HaSUB_wcomb_corr/NGC1300_Hasub_flux_corrs.fits</td><td>0.89</td><td>/data/fourier/sun.1608/PHANGS/MUSE/DR2.1/MUSEDAP/copt/NGC1300-0.89asec_MAPS.fits</td><td>False</td><td>False</td></tr>\n",
       "<tr><td>NGC1365</td><td>SN2001du</td><td>53.371249999999996</td><td>-36.142</td><td>3400.610028004022</td><td>3006.6009602140175</td><td>IIP</td><td>0.82873183</td><td>1182.399513237841</td><td>428.35378352364773</td><td>771.027273168136</td><td>/home/maykerchen.1/Desktop/SNeHaLargeData/HaSUB_wcomb_corr/NGC1365_Hasub_flux_corrs.fits</td><td>1.15</td><td>/data/fourier/sun.1608/PHANGS/MUSE/DR2.1/MUSEDAP/copt/NGC1365-1.15asec_MAPS.fits</td><td>False</td><td>True</td></tr>\n",
       "<tr><td>NGC1365</td><td>SN1957C</td><td>53.38349999999999</td><td>-36.11770833333333</td><td>3250.4029666345923</td><td>3374.662468105187</td><td>Unclassified</td><td>2.834359</td><td>1004.4155369313344</td><td>865.6486483514018</td><td>1697.5272118916866</td><td>/home/maykerchen.1/Desktop/SNeHaLargeData/HaSUB_wcomb_corr/NGC1365_Hasub_flux_corrs.fits</td><td>1.15</td><td>/data/fourier/sun.1608/PHANGS/MUSE/DR2.1/MUSEDAP/copt/NGC1365-1.15asec_MAPS.fits</td><td>False</td><td>True</td></tr>\n",
       "<tr><td>...</td><td>...</td><td>...</td><td>...</td><td>...</td><td>...</td><td>...</td><td>...</td><td>...</td><td>...</td><td>...</td><td>...</td><td>...</td><td>...</td><td>...</td><td>...</td></tr>\n",
       "<tr><td>NGC4496A</td><td>SN1988M</td><td>187.92041666666668</td><td>3.9225</td><td>745.6658442936118</td><td>590.9802382396861</td><td>II</td><td>1.0867594</td><td>--</td><td>--</td><td>--</td><td>/home/maykerchen.1/Desktop/SNeHaLargeData/HaSUB_wcomb_corr/NGC4496A_Hasub_flux_corrs.fits</td><td>--</td><td>--</td><td>False</td><td>False</td></tr>\n",
       "<tr><td>NGC4535</td><td>AT2020qwi</td><td>188.45333333333335</td><td>8.166277777777777</td><td>4022.7152236958814</td><td>1573.5537346982514</td><td>Candidate</td><td>0.33661184</td><td>--</td><td>--</td><td>--</td><td>/home/maykerchen.1/Desktop/SNeHaLargeData/HaSUB_wcomb_corr/NGC4535_Hasub_flux_corrs.fits</td><td>0.56</td><td>/data/fourier/sun.1608/PHANGS/MUSE/DR2.1/MUSEDAP/copt/NGC4535-0.56asec_MAPS.fits</td><td>True</td><td>False</td></tr>\n",
       "<tr><td>NGC4540</td><td>SN2001Z</td><td>188.73279166666669</td><td>15.56875</td><td>248.2832050375166</td><td>810.5737968154358</td><td>II</td><td>0.14385411</td><td>--</td><td>--</td><td>--</td><td>/home/maykerchen.1/Desktop/SNeHaLargeData/HaSUB_wcomb_corr/NGC4540_Hasub_flux_corrs.fits</td><td>--</td><td>--</td><td>False</td><td>False</td></tr>\n",
       "<tr><td>NGC4569</td><td>COVET-090220F</td><td>189.07716666666667</td><td>13.247194444444444</td><td>4222.628996946725</td><td>3575.897797392368</td><td>Unclassified</td><td>-0.20874038</td><td>--</td><td>--</td><td>--</td><td>/home/maykerchen.1/Desktop/SNeHaLargeData/HaSUB_wcomb_corr/NGC4569_Hasub_flux_corrs.fits</td><td>--</td><td>--</td><td>False</td><td>False</td></tr>\n",
       "<tr><td>NGC4569</td><td>AT2021dgs</td><td>189.20860833333333</td><td>13.27838888888889</td><td>2283.7957602360784</td><td>4048.724648531877</td><td>Candidate</td><td>-0.26653755</td><td>--</td><td>--</td><td>--</td><td>/home/maykerchen.1/Desktop/SNeHaLargeData/HaSUB_wcomb_corr/NGC4569_Hasub_flux_corrs.fits</td><td>--</td><td>--</td><td>True</td><td>False</td></tr>\n",
       "<tr><td>NGC4569</td><td>PTF13bdl</td><td>189.23391666666666</td><td>13.129305555555556</td><td>1909.6093998444371</td><td>1789.5119187751075</td><td>Unclassified</td><td>-0.69260997</td><td>--</td><td>--</td><td>--</td><td>/home/maykerchen.1/Desktop/SNeHaLargeData/HaSUB_wcomb_corr/NGC4569_Hasub_flux_corrs.fits</td><td>--</td><td>--</td><td>False</td><td>False</td></tr>\n",
       "<tr><td>NGC4571</td><td>PSNJ12364391+1416186</td><td>189.18291666666667</td><td>14.271833333333333</td><td>1661.6926518307346</td><td>1723.4371226951607</td><td>Unclassified</td><td>-0.23887062</td><td>--</td><td>--</td><td>--</td><td>/home/maykerchen.1/Desktop/SNeHaLargeData/HaSUB_wcomb_corr/NGC4571_Hasub_flux_corrs.fits</td><td>--</td><td>--</td><td>False</td><td>False</td></tr>\n",
       "<tr><td>NGC6744</td><td>SN2005at</td><td>287.47320833333333</td><td>-63.823</td><td>3720.6960332891404</td><td>4473.218647211148</td><td>Ic</td><td>3.1171134</td><td>--</td><td>--</td><td>--</td><td>/home/maykerchen.1/Desktop/SNeHaLargeData/HaSUB_wcomb_corr/NGC6744_Hasub_flux_corrs.fits</td><td>--</td><td>--</td><td>False</td><td>False</td></tr>\n",
       "<tr><td>NGC6744</td><td>GRB940118</td><td>287.7</td><td>-63.94</td><td>2213.3999974946305</td><td>2693.2162329539333</td><td>LGRB</td><td>0.17727846</td><td>--</td><td>--</td><td>--</td><td>/home/maykerchen.1/Desktop/SNeHaLargeData/HaSUB_wcomb_corr/NGC6744_Hasub_flux_corrs.fits</td><td>--</td><td>--</td><td>False</td><td>False</td></tr>\n",
       "<tr><td>NGC6744</td><td>Gaia21cum</td><td>287.049</td><td>-63.725300000000004</td><td>6565.444460729574</td><td>5951.109879084548</td><td>Unclassified</td><td>nan</td><td>--</td><td>--</td><td>--</td><td>/home/maykerchen.1/Desktop/SNeHaLargeData/HaSUB_wcomb_corr/NGC6744_Hasub_flux_corrs.fits</td><td>--</td><td>--</td><td>True</td><td>False</td></tr>\n",
       "</table>"
      ],
      "text/plain": [
       "<Table length=62>\n",
       " Galaxy         Supernova                 Ra         ... Removed InMuseSample\n",
       "  str8            str24                float64       ...   str5      str5    \n",
       "-------- ------------------------ ------------------ ... ------- ------------\n",
       " NGC0628                 SN2002ap  24.09937916666667 ...   False        False\n",
       " NGC0628                SN2019krl         24.2067875 ...    True        False\n",
       " NGC0628                 SN2013ej 24.200670833333334 ...   False        False\n",
       " NGC0628                  PS15blm 24.258708333333335 ...   False        False\n",
       " NGC0628 M74SNRJ013642400+1544163  24.17666666666667 ...   False        False\n",
       " NGC0628                 SN2003gd  24.17770833333333 ...   False        False\n",
       " NGC1087                  SN1995V  41.61154166666667 ...   False         True\n",
       " NGC1300                 LSQ14dtr  49.96679166666666 ...   False        False\n",
       " NGC1365                 SN2001du 53.371249999999996 ...   False         True\n",
       " NGC1365                  SN1957C  53.38349999999999 ...   False         True\n",
       "     ...                      ...                ... ...     ...          ...\n",
       "NGC4496A                  SN1988M 187.92041666666668 ...   False        False\n",
       " NGC4535                AT2020qwi 188.45333333333335 ...    True        False\n",
       " NGC4540                  SN2001Z 188.73279166666669 ...   False        False\n",
       " NGC4569            COVET-090220F 189.07716666666667 ...   False        False\n",
       " NGC4569                AT2021dgs 189.20860833333333 ...    True        False\n",
       " NGC4569                 PTF13bdl 189.23391666666666 ...   False        False\n",
       " NGC4571     PSNJ12364391+1416186 189.18291666666667 ...   False        False\n",
       " NGC6744                 SN2005at 287.47320833333333 ...   False        False\n",
       " NGC6744                GRB940118              287.7 ...   False        False\n",
       " NGC6744                Gaia21cum            287.049 ...    True        False"
      ]
     },
     "execution_count": 2,
     "metadata": {},
     "output_type": "execute_result"
    }
   ],
   "source": [
    "# Compile galaxy and OSC objects\n",
    "\n",
    "museSampleFile = '../Data/2.museSample.csv'\n",
    "museSample = Table.read(museSampleFile, format = \"csv\")\n",
    "museSample\n",
    "\n",
    "dataFile = '../Data/2.SNeHaMasterCat.csv'\n",
    "data = Table.read(dataFile, format = \"csv\")\n",
    "\n",
    "allData = join(data, museSample, keys=\"Supernova\", join_type=\"outer\")\n",
    "\n",
    "allData.sort('Galaxy')\n",
    "allData"
   ]
  },
  {
   "cell_type": "code",
   "execution_count": 3,
   "metadata": {},
   "outputs": [],
   "source": [
    "# make Table for Latex Table\n",
    "ra   = [float(x) for x in allData[\"Ra\"]]\n",
    "ra   = [round(x,4) for x in ra]\n",
    "dec  = [float(x) for x in allData[\"Dec\"]]\n",
    "dec  = [round(x,4) for x in dec]\n",
    "\n",
    "inSample, inESO, inMUSE, paper = [],[],[],[]\n",
    "for i in range(len(allData[\"Removed\"])):\n",
    "    paper.append(\"?\")\n",
    "    if allData[\"Removed\"][i] == \"False\":\n",
    "        inSample.append(\"\\checkmark\")\n",
    "    else: \n",
    "        inSample.append(\"-\")\n",
    "    if allData[\"InMuseSample\"][i] == \"True\":\n",
    "        inMUSE.append(\"\\checkmark\")\n",
    "    else:\n",
    "        inMUSE.append(\"-\")\n",
    "    if os.path.isfile(allData[\"ESO-MPG_Hasub_wcomb_corr\"][i]):\n",
    "        inESO.append(\"\\checkmark\")\n",
    "    else:\n",
    "        inESO.append(\"-\")        \n",
    "\n",
    "\n",
    "\n",
    "texTable = Table({\"Galaxy\"    : allData[\"Galaxy\"],\n",
    "                  \"Supernova\" : allData[\"Supernova\"],\n",
    "                  \"Type\"      : allData[\"Type\"],\n",
    "                  \"Ra\"        : ra,\n",
    "                  \"Dec\"       : dec,\n",
    "                  \"In Sample\" : inSample,\n",
    "                  \"In MUSE\"   : inMUSE,\n",
    "                  \"In ESO-MPG\": inESO,\n",
    "                  \"Reference\" : paper})"
   ]
  },
  {
   "cell_type": "code",
   "execution_count": 4,
   "metadata": {},
   "outputs": [],
   "source": [
    "ascii.write(texTable, '../Data/2.SNeHaMaster.tex', format='latex', fast_writer=False, overwrite = True)  "
   ]
  },
  {
   "cell_type": "code",
   "execution_count": 5,
   "metadata": {},
   "outputs": [],
   "source": [
    "ascii.write(allData, '../Data/2.SNeHaMaster.csv', format='csv', fast_writer=False, overwrite = True)  "
   ]
  },
  {
   "cell_type": "code",
   "execution_count": null,
   "metadata": {},
   "outputs": [],
   "source": []
  }
 ],
 "metadata": {
  "kernelspec": {
   "display_name": "Python 3",
   "language": "python",
   "name": "python3"
  },
  "language_info": {
   "codemirror_mode": {
    "name": "ipython",
    "version": 3
   },
   "file_extension": ".py",
   "mimetype": "text/x-python",
   "name": "python",
   "nbconvert_exporter": "python",
   "pygments_lexer": "ipython3",
   "version": "3.8.10"
  }
 },
 "nbformat": 4,
 "nbformat_minor": 2
}
