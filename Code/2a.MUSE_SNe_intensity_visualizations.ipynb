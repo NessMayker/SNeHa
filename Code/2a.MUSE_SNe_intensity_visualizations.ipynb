{
 "cells": [
  {
   "cell_type": "raw",
   "metadata": {},
   "source": [
    "This notebook holds the EDA for the intensity measurements at the three resolutions of interest"
   ]
  },
  {
   "cell_type": "code",
   "execution_count": 1,
   "metadata": {},
   "outputs": [],
   "source": [
    "import warnings\n",
    "warnings.filterwarnings('ignore')"
   ]
  },
  {
   "cell_type": "code",
   "execution_count": 2,
   "metadata": {},
   "outputs": [],
   "source": [
    "#import packages and formatting statements\n",
    "\n",
    "import numpy as np\n",
    "from matplotlib import pyplot as plt\n",
    "import astropy.io.fits as pyfits\n",
    "from astropy.table import Table, join, Column\n",
    "from astropy.wcs import WCS\n",
    "from astropy.io import ascii\n",
    "import os\n",
    "\n",
    "# plt.rc('text',usetex=False)\n",
    "# fontsize=20\n",
    "# plt.rc('xtick',labelsize=fontsize)\n",
    "# plt.rc('ytick',labelsize=fontsize)"
   ]
  },
  {
   "cell_type": "code",
   "execution_count": 3,
   "metadata": {},
   "outputs": [
    {
     "data": {
      "text/html": [
       "<div><i>Table length=5</i>\n",
       "<table id=\"table140541920143536\" class=\"table-striped table-bordered table-condensed\">\n",
       "<thead><tr><th>Galaxy</th><th>Distance</th><th>Incl</th><th>Supernova</th><th>Type</th><th>Ra</th><th>Dec</th><th>MUSERes</th><th>MUSENatMap</th><th>MUSE150pcMap</th><th>MUSEHII</th><th>IRACfiles</th><th>Intensity</th><th>coptMap</th><th>CO21</th><th>eCO21</th><th>InSample</th></tr></thead>\n",
       "<thead><tr><th>str7</th><th>float64</th><th>float64</th><th>str11</th><th>str12</th><th>float64</th><th>float64</th><th>float64</th><th>str71</th><th>str70</th><th>str50</th><th>str40</th><th>float64</th><th>str58</th><th>str72</th><th>str73</th><th>str4</th></tr></thead>\n",
       "<tr><td>NGC1087</td><td>15.85</td><td>42.9</td><td>SN1995V</td><td>II</td><td>41.61152777777777</td><td>-0.4987861111111111</td><td>0.92</td><td>../../GalaxyFiles/MUSELargeFiles/MUSE2.2_Nat/NGC1087-0.92asec_MAPS.fits</td><td>../../GalaxyFiles/MUSELargeFiles/MUSE2.2_150pc/NGC1087-150pc_MAPS.fits</td><td>../Data/HII_reg_masks/NGC1087_nebulae_mask_V2.fits</td><td>../Data/IRAC/ngc1087_irac1_atGauss4.fits</td><td>8.839672735197591e+39</td><td>../../GalaxyFiles/MUSELargeFiles/SFR/copt/NGC1087_sfr.fits</td><td>../../GalaxyFiles/ALMACO2-1/ngc1087_12m+7m+tp_co21_150pc_broad_mom0.fits</td><td>../../GalaxyFiles/ALMACO2-1/ngc1087_12m+7m+tp_co21_150pc_broad_emom0.fits</td><td>True</td></tr>\n",
       "<tr><td>NGC1300</td><td>18.99</td><td>31.8</td><td>SN2022acko</td><td>II</td><td>49.91245833333333</td><td>-19.39518888888889</td><td>0.89</td><td>../../GalaxyFiles/MUSELargeFiles/MUSE2.2_Nat/NGC1300-0.89asec_MAPS.fits</td><td>../../GalaxyFiles/MUSELargeFiles/MUSE2.2_150pc/NGC1300-150pc_MAPS.fits</td><td>../Data/HII_reg_masks/NGC1300_nebulae_mask_V2.fits</td><td>../Data/IRAC/ngc1300_irac1_atGauss4.fits</td><td>3.445745101042276e+38</td><td>../../GalaxyFiles/MUSELargeFiles/SFR/copt/NGC1300_sfr.fits</td><td>../../GalaxyFiles/ALMACO2-1/ngc1300_12m+7m+tp_co21_150pc_broad_mom0.fits</td><td>../../GalaxyFiles/ALMACO2-1/ngc1300_12m+7m+tp_co21_150pc_broad_emom0.fits</td><td>True</td></tr>\n",
       "<tr><td>NGC1365</td><td>19.57</td><td>55.4</td><td>SN1957C</td><td>Unclassified</td><td>53.38349999999999</td><td>-36.11770833333333</td><td>1.15</td><td>../../GalaxyFiles/MUSELargeFiles/MUSE2.2_Nat/NGC1365-1.15asec_MAPS.fits</td><td>../../GalaxyFiles/MUSELargeFiles/MUSE2.2_150pc/NGC1365-150pc_MAPS.fits</td><td>../Data/HII_reg_masks/NGC1365_nebulae_mask_V2.fits</td><td>../Data/IRAC/ngc1365_irac1_atGauss4.fits</td><td>2.938518960212585e+39</td><td>../../GalaxyFiles/MUSELargeFiles/SFR/copt/NGC1365_sfr.fits</td><td>../../GalaxyFiles/ALMACO2-1/ngc1365_12m+7m+tp_co21_150pc_broad_mom0.fits</td><td>../../GalaxyFiles/ALMACO2-1/ngc1365_12m+7m+tp_co21_150pc_broad_emom0.fits</td><td>True</td></tr>\n",
       "<tr><td>NGC1365</td><td>19.57</td><td>55.4</td><td>SN1983V</td><td>Ic</td><td>53.381876388888884</td><td>-36.14859166666667</td><td>1.15</td><td>../../GalaxyFiles/MUSELargeFiles/MUSE2.2_Nat/NGC1365-1.15asec_MAPS.fits</td><td>../../GalaxyFiles/MUSELargeFiles/MUSE2.2_150pc/NGC1365-150pc_MAPS.fits</td><td>../Data/HII_reg_masks/NGC1365_nebulae_mask_V2.fits</td><td>../Data/IRAC/ngc1365_irac1_atGauss4.fits</td><td>1.4845660990817182e+40</td><td>../../GalaxyFiles/MUSELargeFiles/SFR/copt/NGC1365_sfr.fits</td><td>../../GalaxyFiles/ALMACO2-1/ngc1365_12m+7m+tp_co21_150pc_broad_mom0.fits</td><td>../../GalaxyFiles/ALMACO2-1/ngc1365_12m+7m+tp_co21_150pc_broad_emom0.fits</td><td>True</td></tr>\n",
       "<tr><td>NGC1365</td><td>19.57</td><td>55.4</td><td>SN2001du</td><td>II</td><td>53.3713125</td><td>-36.142111111111106</td><td>1.15</td><td>../../GalaxyFiles/MUSELargeFiles/MUSE2.2_Nat/NGC1365-1.15asec_MAPS.fits</td><td>../../GalaxyFiles/MUSELargeFiles/MUSE2.2_150pc/NGC1365-150pc_MAPS.fits</td><td>../Data/HII_reg_masks/NGC1365_nebulae_mask_V2.fits</td><td>../Data/IRAC/ngc1365_irac1_atGauss4.fits</td><td>1.3530435354080875e+39</td><td>../../GalaxyFiles/MUSELargeFiles/SFR/copt/NGC1365_sfr.fits</td><td>../../GalaxyFiles/ALMACO2-1/ngc1365_12m+7m+tp_co21_150pc_broad_mom0.fits</td><td>../../GalaxyFiles/ALMACO2-1/ngc1365_12m+7m+tp_co21_150pc_broad_emom0.fits</td><td>True</td></tr>\n",
       "</table></div>"
      ],
      "text/plain": [
       "<Table length=5>\n",
       " Galaxy Distance ... InSample\n",
       "  str7  float64  ...   str4  \n",
       "------- -------- ... --------\n",
       "NGC1087    15.85 ...     True\n",
       "NGC1300    18.99 ...     True\n",
       "NGC1365    19.57 ...     True\n",
       "NGC1365    19.57 ...     True\n",
       "NGC1365    19.57 ...     True"
      ]
     },
     "execution_count": 3,
     "metadata": {},
     "output_type": "execute_result"
    }
   ],
   "source": [
    "# Compile galaxy and OSC objects\n",
    "# full catalog header: Name,Type,Host,RA hms,Dec dms,RA dds,Dec dds,DiscDate\n",
    "\n",
    "DataFile = '../Data/2.MUSESampleCat.csv'\n",
    "Data = Table.read(DataFile, format='csv') \n",
    "\n",
    "Data[0:5]"
   ]
  },
  {
   "cell_type": "code",
   "execution_count": 4,
   "metadata": {},
   "outputs": [
    {
     "data": {
      "text/html": [
       "<div><i>Table length=5</i>\n",
       "<table id=\"table140541966295344\" class=\"table-striped table-bordered table-condensed\">\n",
       "<thead><tr><th>Supernova</th><th>Type</th><th>Int_native</th><th>Int_150</th><th>Int_1kpc</th></tr></thead>\n",
       "<thead><tr><th>str11</th><th>str12</th><th>float64</th><th>float64</th><th>float64</th></tr></thead>\n",
       "<tr><td>SN2013ej</td><td>II</td><td>nan</td><td>nan</td><td>nan</td></tr>\n",
       "<tr><td>SN2019krl</td><td>IIn/LBV</td><td>5.692852417108771e+38</td><td>0.7040593491199677</td><td>32.848532102709434</td></tr>\n",
       "<tr><td>SN1995V</td><td>II</td><td>8.839672735197591e+39</td><td>6.599152737568015</td><td>233.44810259200804</td></tr>\n",
       "<tr><td>SN2022acko</td><td>II</td><td>3.445745101042276e+38</td><td>0.5202362727946092</td><td>27.16511849663822</td></tr>\n",
       "<tr><td>SN1957C</td><td>Unclassified</td><td>2.938518960212585e+39</td><td>3.036159738259367</td><td>139.56371405345993</td></tr>\n",
       "</table></div>"
      ],
      "text/plain": [
       "<Table length=5>\n",
       "Supernova      Type     ...      Int_150            Int_1kpc     \n",
       "  str11       str12     ...      float64            float64      \n",
       "---------- ------------ ... ------------------ ------------------\n",
       "  SN2013ej           II ...                nan                nan\n",
       " SN2019krl      IIn/LBV ... 0.7040593491199677 32.848532102709434\n",
       "   SN1995V           II ...  6.599152737568015 233.44810259200804\n",
       "SN2022acko           II ... 0.5202362727946092  27.16511849663822\n",
       "   SN1957C Unclassified ...  3.036159738259367 139.56371405345993"
      ]
     },
     "execution_count": 4,
     "metadata": {},
     "output_type": "execute_result"
    }
   ],
   "source": [
    "IntensityFile = '../Data/2.Intensities.txt'\n",
    "Ints = Table.read(IntensityFile, format='csv') \n",
    "Ints[0:5]"
   ]
  },
  {
   "cell_type": "code",
   "execution_count": 5,
   "metadata": {},
   "outputs": [
    {
     "data": {
      "text/html": [
       "<div><i>Table length=33</i>\n",
       "<table id=\"table140541920142720\" class=\"table-striped table-bordered table-condensed\">\n",
       "<thead><tr><th>Galaxy</th><th>Distance</th><th>Incl</th><th>Supernova</th><th>Type</th><th>Ra</th><th>Dec</th><th>MUSERes</th><th>MUSENatMap</th><th>MUSE150pcMap</th><th>MUSEHII</th><th>IRACfiles</th><th>Intensity</th><th>coptMap</th><th>CO21</th><th>eCO21</th><th>InSample</th><th>Int_native</th><th>Int_150</th><th>Int_1kpc</th></tr></thead>\n",
       "<thead><tr><th>str7</th><th>float64</th><th>float64</th><th>str11</th><th>str12</th><th>float64</th><th>float64</th><th>float64</th><th>str71</th><th>str70</th><th>str50</th><th>str40</th><th>float64</th><th>str58</th><th>str72</th><th>str73</th><th>str4</th><th>float64</th><th>float64</th><th>float64</th></tr></thead>\n",
       "<tr><td>NGC1566</td><td>17.69</td><td>29.5</td><td>ASASSN-14ha</td><td>II</td><td>65.0058875</td><td>-54.93807777777778</td><td>0.8</td><td>../../GalaxyFiles/MUSELargeFiles/MUSE2.2_Nat/NGC1566-0.80asec_MAPS.fits</td><td>../../GalaxyFiles/MUSELargeFiles/MUSE2.2_150pc/NGC1566-150pc_MAPS.fits</td><td>../Data/HII_reg_masks/NGC1566_nebulae_mask_V2.fits</td><td>../Data/IRAC/ngc1566_irac1_atGauss4.fits</td><td>6.206906305070956e+39</td><td>../../GalaxyFiles/MUSELargeFiles/SFR/copt/NGC1566_sfr.fits</td><td>../../GalaxyFiles/ALMACO2-1/ngc1566_12m+7m+tp_co21_150pc_broad_mom0.fits</td><td>../../GalaxyFiles/ALMACO2-1/ngc1566_12m+7m+tp_co21_150pc_broad_emom0.fits</td><td>True</td><td>6.206906305070956e+39</td><td>5.912910765532021</td><td>149.07327510508023</td></tr>\n",
       "<tr><td>NGC4321</td><td>15.21</td><td>38.5</td><td>SN1901B</td><td>I</td><td>185.6970833333333</td><td>15.82375</td><td>1.16</td><td>../../GalaxyFiles/MUSELargeFiles/MUSE2.2_Nat/NGC4321-1.16asec_MAPS.fits</td><td>../../GalaxyFiles/MUSELargeFiles/MUSE2.2_150pc/NGC4321-150pc_MAPS.fits</td><td>../Data/HII_reg_masks/NGC4321_nebulae_mask_V2.fits</td><td>../Data/IRAC/ngc4321_irac1_atGauss4.fits</td><td>2.1120944464704693e+39</td><td>../../GalaxyFiles/MUSELargeFiles/SFR/copt/NGC4321_sfr.fits</td><td>../../GalaxyFiles/ALMACO2-1/ngc4321_12m+7m+tp_co21_150pc_broad_mom0.fits</td><td>../../GalaxyFiles/ALMACO2-1/ngc4321_12m+7m+tp_co21_150pc_broad_emom0.fits</td><td>True</td><td>2.1120944464704693e+39</td><td>1.8626634319160764</td><td>142.5743077637517</td></tr>\n",
       "<tr><td>NGC4303</td><td>16.99</td><td>23.5</td><td>SN1926A</td><td>II</td><td>185.47536458333335</td><td>4.493354166666666</td><td>0.78</td><td>../../GalaxyFiles/MUSELargeFiles/MUSE2.2_Nat/NGC4303-0.78asec_MAPS.fits</td><td>../../GalaxyFiles/MUSELargeFiles/MUSE2.2_150pc/NGC4303-150pc_MAPS.fits</td><td>../Data/HII_reg_masks/NGC4303_nebulae_mask_V2.fits</td><td>../Data/IRAC/ngc4303_irac1_atGauss4.fits</td><td>8.237240338373292e+38</td><td>../../GalaxyFiles/MUSELargeFiles/SFR/copt/NGC4303_sfr.fits</td><td>../../GalaxyFiles/ALMACO2-1/ngc4303_12m+7m+tp_co21_150pc_broad_mom0.fits</td><td>../../GalaxyFiles/ALMACO2-1/ngc4303_12m+7m+tp_co21_150pc_broad_emom0.fits</td><td>True</td><td>8.237240338373292e+38</td><td>1.7137916507596849</td><td>121.43435581762041</td></tr>\n",
       "<tr><td>NGC1365</td><td>19.57</td><td>55.4</td><td>SN1957C</td><td>Unclassified</td><td>53.38349999999999</td><td>-36.11770833333333</td><td>1.15</td><td>../../GalaxyFiles/MUSELargeFiles/MUSE2.2_Nat/NGC1365-1.15asec_MAPS.fits</td><td>../../GalaxyFiles/MUSELargeFiles/MUSE2.2_150pc/NGC1365-150pc_MAPS.fits</td><td>../Data/HII_reg_masks/NGC1365_nebulae_mask_V2.fits</td><td>../Data/IRAC/ngc1365_irac1_atGauss4.fits</td><td>2.938518960212585e+39</td><td>../../GalaxyFiles/MUSELargeFiles/SFR/copt/NGC1365_sfr.fits</td><td>../../GalaxyFiles/ALMACO2-1/ngc1365_12m+7m+tp_co21_150pc_broad_mom0.fits</td><td>../../GalaxyFiles/ALMACO2-1/ngc1365_12m+7m+tp_co21_150pc_broad_emom0.fits</td><td>True</td><td>2.938518960212585e+39</td><td>3.036159738259367</td><td>139.56371405345993</td></tr>\n",
       "<tr><td>NGC4321</td><td>15.21</td><td>38.5</td><td>SN1959E</td><td>I</td><td>185.74543194444445</td><td>15.816989814814816</td><td>1.16</td><td>../../GalaxyFiles/MUSELargeFiles/MUSE2.2_Nat/NGC4321-1.16asec_MAPS.fits</td><td>../../GalaxyFiles/MUSELargeFiles/MUSE2.2_150pc/NGC4321-150pc_MAPS.fits</td><td>../Data/HII_reg_masks/NGC4321_nebulae_mask_V2.fits</td><td>../Data/IRAC/ngc4321_irac1_atGauss4.fits</td><td>3.606657809150872e+39</td><td>../../GalaxyFiles/MUSELargeFiles/SFR/copt/NGC4321_sfr.fits</td><td>../../GalaxyFiles/ALMACO2-1/ngc4321_12m+7m+tp_co21_150pc_broad_mom0.fits</td><td>../../GalaxyFiles/ALMACO2-1/ngc4321_12m+7m+tp_co21_150pc_broad_emom0.fits</td><td>True</td><td>3.606657809150872e+39</td><td>3.25662016729916</td><td>250.7948362963465</td></tr>\n",
       "<tr><td>NGC4303</td><td>16.99</td><td>23.5</td><td>SN1961I</td><td>II</td><td>185.50184583333336</td><td>4.47037962962963</td><td>0.78</td><td>../../GalaxyFiles/MUSELargeFiles/MUSE2.2_Nat/NGC4303-0.78asec_MAPS.fits</td><td>../../GalaxyFiles/MUSELargeFiles/MUSE2.2_150pc/NGC4303-150pc_MAPS.fits</td><td>../Data/HII_reg_masks/NGC4303_nebulae_mask_V2.fits</td><td>../Data/IRAC/ngc4303_irac1_atGauss4.fits</td><td>4.150635721869112e+39</td><td>../../GalaxyFiles/MUSELargeFiles/SFR/copt/NGC4303_sfr.fits</td><td>../../GalaxyFiles/ALMACO2-1/ngc4303_12m+7m+tp_co21_150pc_broad_mom0.fits</td><td>../../GalaxyFiles/ALMACO2-1/ngc4303_12m+7m+tp_co21_150pc_broad_emom0.fits</td><td>True</td><td>4.150635721869112e+39</td><td>6.2397444779131925</td><td>100.72224430268818</td></tr>\n",
       "<tr><td>...</td><td>...</td><td>...</td><td>...</td><td>...</td><td>...</td><td>...</td><td>...</td><td>...</td><td>...</td><td>...</td><td>...</td><td>...</td><td>...</td><td>...</td><td>...</td><td>...</td><td>...</td><td>...</td><td>...</td></tr>\n",
       "<tr><td>NGC1672</td><td>19.4</td><td>42.6</td><td>SN2017gax</td><td>Ib/c</td><td>71.45607916666667</td><td>-59.24512777777778</td><td>0.96</td><td>../../GalaxyFiles/MUSELargeFiles/MUSE2.2_Nat/NGC1672-0.96asec_MAPS.fits</td><td>../../GalaxyFiles/MUSELargeFiles/MUSE2.2_150pc/NGC1672-150pc_MAPS.fits</td><td>../Data/HII_reg_masks/NGC1672_nebulae_mask_V2.fits</td><td>../Data/IRAC/ngc1672_irac1_atGauss4.fits</td><td>4.185157273316843e+39</td><td>../../GalaxyFiles/MUSELargeFiles/SFR/copt/NGC1672_sfr.fits</td><td>../../GalaxyFiles/ALMACO2-1/ngc1672_12m+7m+tp_co21_150pc_broad_mom0.fits</td><td>../../GalaxyFiles/ALMACO2-1/ngc1672_12m+7m+tp_co21_150pc_broad_emom0.fits</td><td>True</td><td>4.185157273316843e+39</td><td>5.94440253509458</td><td>92.63588735906072</td></tr>\n",
       "<tr><td>NGC4321</td><td>15.21</td><td>38.5</td><td>SN2019ehk</td><td>Ib</td><td>185.73393055555553</td><td>15.826070370370369</td><td>1.16</td><td>../../GalaxyFiles/MUSELargeFiles/MUSE2.2_Nat/NGC4321-1.16asec_MAPS.fits</td><td>../../GalaxyFiles/MUSELargeFiles/MUSE2.2_150pc/NGC4321-150pc_MAPS.fits</td><td>../Data/HII_reg_masks/NGC4321_nebulae_mask_V2.fits</td><td>../Data/IRAC/ngc4321_irac1_atGauss4.fits</td><td>1.0400343563277594e+39</td><td>../../GalaxyFiles/MUSELargeFiles/SFR/copt/NGC4321_sfr.fits</td><td>../../GalaxyFiles/ALMACO2-1/ngc4321_12m+7m+tp_co21_150pc_broad_mom0.fits</td><td>../../GalaxyFiles/ALMACO2-1/ngc4321_12m+7m+tp_co21_150pc_broad_emom0.fits</td><td>True</td><td>1.0400343563277594e+39</td><td>0.6193577137788457</td><td>49.419701696492446</td></tr>\n",
       "<tr><td>NGC4303</td><td>16.99</td><td>23.5</td><td>SN2020jfo</td><td>II P</td><td>185.46016458333332</td><td>4.481692777777778</td><td>0.78</td><td>../../GalaxyFiles/MUSELargeFiles/MUSE2.2_Nat/NGC4303-0.78asec_MAPS.fits</td><td>../../GalaxyFiles/MUSELargeFiles/MUSE2.2_150pc/NGC4303-150pc_MAPS.fits</td><td>../Data/HII_reg_masks/NGC4303_nebulae_mask_V2.fits</td><td>../Data/IRAC/ngc4303_irac1_atGauss4.fits</td><td>2.199480578104416e+39</td><td>../../GalaxyFiles/MUSELargeFiles/SFR/copt/NGC4303_sfr.fits</td><td>../../GalaxyFiles/ALMACO2-1/ngc4303_12m+7m+tp_co21_150pc_broad_mom0.fits</td><td>../../GalaxyFiles/ALMACO2-1/ngc4303_12m+7m+tp_co21_150pc_broad_emom0.fits</td><td>True</td><td>2.199480578104416e+39</td><td>1.6024194752980703</td><td>82.58991575704295</td></tr>\n",
       "<tr><td>NGC4321</td><td>15.21</td><td>38.5</td><td>SN2020oi</td><td>Ic</td><td>185.72892708333336</td><td>15.8236125</td><td>1.16</td><td>../../GalaxyFiles/MUSELargeFiles/MUSE2.2_Nat/NGC4321-1.16asec_MAPS.fits</td><td>../../GalaxyFiles/MUSELargeFiles/MUSE2.2_150pc/NGC4321-150pc_MAPS.fits</td><td>../Data/HII_reg_masks/NGC4321_nebulae_mask_V2.fits</td><td>../Data/IRAC/ngc4321_irac1_atGauss4.fits</td><td>5.473226299514552e+40</td><td>../../GalaxyFiles/MUSELargeFiles/SFR/copt/NGC4321_sfr.fits</td><td>../../GalaxyFiles/ALMACO2-1/ngc4321_12m+7m+tp_co21_150pc_broad_mom0.fits</td><td>../../GalaxyFiles/ALMACO2-1/ngc4321_12m+7m+tp_co21_150pc_broad_emom0.fits</td><td>True</td><td>5.473226299514552e+40</td><td>49.78251306832529</td><td>1148.854740445107</td></tr>\n",
       "<tr><td>NGC1566</td><td>17.69</td><td>29.5</td><td>SN2021aefx</td><td>Ia</td><td>64.9725</td><td>-54.94808055555555</td><td>0.8</td><td>../../GalaxyFiles/MUSELargeFiles/MUSE2.2_Nat/NGC1566-0.80asec_MAPS.fits</td><td>../../GalaxyFiles/MUSELargeFiles/MUSE2.2_150pc/NGC1566-150pc_MAPS.fits</td><td>../Data/HII_reg_masks/NGC1566_nebulae_mask_V2.fits</td><td>../Data/IRAC/ngc1566_irac1_atGauss4.fits</td><td>1.263977781860364e+38</td><td>../../GalaxyFiles/MUSELargeFiles/SFR/copt/NGC1566_sfr.fits</td><td>../../GalaxyFiles/ALMACO2-1/ngc1566_12m+7m+tp_co21_150pc_broad_mom0.fits</td><td>../../GalaxyFiles/ALMACO2-1/ngc1566_12m+7m+tp_co21_150pc_broad_emom0.fits</td><td>True</td><td>1.263977781860364e+38</td><td>0.23220293881842746</td><td>12.683849008922754</td></tr>\n",
       "<tr><td>NGC1672</td><td>19.4</td><td>42.6</td><td>SN2022aau</td><td>II</td><td>71.423975</td><td>-59.245383333333336</td><td>0.96</td><td>../../GalaxyFiles/MUSELargeFiles/MUSE2.2_Nat/NGC1672-0.96asec_MAPS.fits</td><td>../../GalaxyFiles/MUSELargeFiles/MUSE2.2_150pc/NGC1672-150pc_MAPS.fits</td><td>../Data/HII_reg_masks/NGC1672_nebulae_mask_V2.fits</td><td>../Data/IRAC/ngc1672_irac1_atGauss4.fits</td><td>9.694817596411935e+40</td><td>../../GalaxyFiles/MUSELargeFiles/SFR/copt/NGC1672_sfr.fits</td><td>../../GalaxyFiles/ALMACO2-1/ngc1672_12m+7m+tp_co21_150pc_broad_mom0.fits</td><td>../../GalaxyFiles/ALMACO2-1/ngc1672_12m+7m+tp_co21_150pc_broad_emom0.fits</td><td>True</td><td>9.694817596411935e+40</td><td>29.76854206174491</td><td>1496.6770475235812</td></tr>\n",
       "<tr><td>NGC1300</td><td>18.99</td><td>31.8</td><td>SN2022acko</td><td>II</td><td>49.91245833333333</td><td>-19.39518888888889</td><td>0.89</td><td>../../GalaxyFiles/MUSELargeFiles/MUSE2.2_Nat/NGC1300-0.89asec_MAPS.fits</td><td>../../GalaxyFiles/MUSELargeFiles/MUSE2.2_150pc/NGC1300-150pc_MAPS.fits</td><td>../Data/HII_reg_masks/NGC1300_nebulae_mask_V2.fits</td><td>../Data/IRAC/ngc1300_irac1_atGauss4.fits</td><td>3.445745101042276e+38</td><td>../../GalaxyFiles/MUSELargeFiles/SFR/copt/NGC1300_sfr.fits</td><td>../../GalaxyFiles/ALMACO2-1/ngc1300_12m+7m+tp_co21_150pc_broad_mom0.fits</td><td>../../GalaxyFiles/ALMACO2-1/ngc1300_12m+7m+tp_co21_150pc_broad_emom0.fits</td><td>True</td><td>3.445745101042276e+38</td><td>0.5202362727946092</td><td>27.16511849663822</td></tr>\n",
       "</table></div>"
      ],
      "text/plain": [
       "<Table length=33>\n",
       " Galaxy Distance   Incl  ...       Int_150            Int_1kpc     \n",
       "  str7  float64  float64 ...       float64            float64      \n",
       "------- -------- ------- ... ------------------- ------------------\n",
       "NGC1566    17.69    29.5 ...   5.912910765532021 149.07327510508023\n",
       "NGC4321    15.21    38.5 ...  1.8626634319160764  142.5743077637517\n",
       "NGC4303    16.99    23.5 ...  1.7137916507596849 121.43435581762041\n",
       "NGC1365    19.57    55.4 ...   3.036159738259367 139.56371405345993\n",
       "NGC4321    15.21    38.5 ...    3.25662016729916  250.7948362963465\n",
       "NGC4303    16.99    23.5 ...  6.2397444779131925 100.72224430268818\n",
       "    ...      ...     ... ...                 ...                ...\n",
       "NGC1672     19.4    42.6 ...    5.94440253509458  92.63588735906072\n",
       "NGC4321    15.21    38.5 ...  0.6193577137788457 49.419701696492446\n",
       "NGC4303    16.99    23.5 ...  1.6024194752980703  82.58991575704295\n",
       "NGC4321    15.21    38.5 ...   49.78251306832529  1148.854740445107\n",
       "NGC1566    17.69    29.5 ... 0.23220293881842746 12.683849008922754\n",
       "NGC1672     19.4    42.6 ...   29.76854206174491 1496.6770475235812\n",
       "NGC1300    18.99    31.8 ...  0.5202362727946092  27.16511849663822"
      ]
     },
     "execution_count": 5,
     "metadata": {},
     "output_type": "execute_result"
    }
   ],
   "source": [
    "ds = join(Data,Ints,keys=[\"Supernova\",\"Type\"])\n",
    "ds"
   ]
  },
  {
   "cell_type": "code",
   "execution_count": 6,
   "metadata": {},
   "outputs": [
    {
     "data": {
      "text/plain": [
       "array([0, 1, 0, 0, 1, 1, 0, 1, 1, 1, 1, 1, 0, 0, 0, 1, 1, 0, 0, 0, 1, 0,\n",
       "       0, 0, 0, 1, 1, 1, 0, 0, 1, 1, 1])"
      ]
     },
     "execution_count": 6,
     "metadata": {},
     "output_type": "execute_result"
    }
   ],
   "source": [
    "# isolate discovery year\n",
    "year = []\n",
    "for j in range(len(Data)):\n",
    "    yearDigits = [int(i) for i in Data[\"Supernova\"][j] if i.isdigit()]\n",
    "    # fix for ASAS-SN14\n",
    "    if len(yearDigits)<4:\n",
    "        yearDigits.insert(0,0)\n",
    "        yearDigits.insert(0,2)\n",
    "    yearDigits = int(''.join(map(str,yearDigits)))\n",
    "    year.append(yearDigits)\n",
    "    \n",
    "    #flag SNe since 2000\n",
    "goodSample = np.where(np.asarray(year) > 1999, 1, 0)\n",
    "goodSample\n"
   ]
  },
  {
   "cell_type": "code",
   "execution_count": 7,
   "metadata": {},
   "outputs": [
    {
     "name": "stdout",
     "output_type": "stream",
     "text": [
      "Type\n",
      "----\n",
      "  II\n",
      "  II\n",
      "Ib/c\n",
      "Ib/c\n",
      "  II\n",
      "  Ia\n",
      "  II\n",
      " ...\n",
      "  Ia\n",
      "  II\n",
      "Ib/c\n",
      "Ib/c\n",
      "  Ia\n",
      "Ib/c\n",
      "Ib/c\n",
      "Length = 33 rows\n"
     ]
    }
   ],
   "source": [
    "# homogonize type classifications\n",
    "SNtype = Data[\"Type\"]\n",
    "for i in range(len(SNtype)):\n",
    "    if \"II\" in SNtype[i]:\n",
    "        SNtype[i] = \"II\"\n",
    "    elif \"Ia\" in SNtype[i]:\n",
    "        SNtype[i] = \"Ia\"\n",
    "    elif \"Ib\" or \"Ic\" in SNtype[i]:\n",
    "        SNtype[i] = \"Ib/c\"\n",
    "    else:\n",
    "        SNtype[i] = \"Unclassified\"\n",
    "print(SNtype)\n"
   ]
  },
  {
   "cell_type": "code",
   "execution_count": 8,
   "metadata": {},
   "outputs": [
    {
     "name": "stdout",
     "output_type": "stream",
     "text": [
      "      Int_native      \n",
      "----------------------\n",
      " 6.206906305070956e+39\n",
      "2.1120944464704693e+39\n",
      " 8.237240338373292e+38\n",
      " 2.938518960212585e+39\n",
      " 3.606657809150872e+39\n",
      " 4.150635721869112e+39\n",
      "2.9303903692530505e+38\n",
      "                   ...\n",
      " 4.185157273316843e+39\n",
      "1.0400343563277594e+39\n",
      " 2.199480578104416e+39\n",
      " 5.473226299514552e+40\n",
      " 1.263977781860364e+38\n",
      " 9.694817596411935e+40\n",
      " 3.445745101042276e+38\n",
      "Length = 33 rows       Int_150      \n",
      "-------------------\n",
      "  5.912910765532021\n",
      " 1.8626634319160764\n",
      " 1.7137916507596849\n",
      "  3.036159738259367\n",
      "   3.25662016729916\n",
      " 6.2397444779131925\n",
      " 0.5211430559124834\n",
      "                ...\n",
      "   5.94440253509458\n",
      " 0.6193577137788457\n",
      " 1.6024194752980703\n",
      "  49.78251306832529\n",
      "0.23220293881842746\n",
      "  29.76854206174491\n",
      " 0.5202362727946092\n",
      "Length = 33 rows      Int_1kpc     \n",
      "------------------\n",
      "149.07327510508023\n",
      " 142.5743077637517\n",
      "121.43435581762041\n",
      "139.56371405345993\n",
      " 250.7948362963465\n",
      "100.72224430268818\n",
      "40.424266689655006\n",
      "               ...\n",
      " 92.63588735906072\n",
      "49.419701696492446\n",
      " 82.58991575704295\n",
      " 1148.854740445107\n",
      "12.683849008922754\n",
      "1496.6770475235812\n",
      " 27.16511849663822\n",
      "Length = 33 rows\n"
     ]
    }
   ],
   "source": [
    "#get intensities\n",
    "int_nat = ds[\"Int_native\"]\n",
    "int_150 = ds[\"Int_150\"]\n",
    "int_1kpc = ds[\"Int_1kpc\"]\n",
    "\n",
    "print(int_nat, int_150, int_1kpc)"
   ]
  },
  {
   "cell_type": "code",
   "execution_count": 9,
   "metadata": {},
   "outputs": [
    {
     "name": "stdout",
     "output_type": "stream",
     "text": [
      "      Int_native     \n",
      "---------------------\n",
      "   0.0496677000225231\n",
      " 0.016900991932297747\n",
      "0.0065914444657478085\n",
      " 0.023514045653806062\n",
      " 0.028860496573380776\n",
      " 0.033213410965804324\n",
      " 0.002344900062210418\n",
      "                  ...\n",
      "   0.0334896526194309\n",
      " 0.008322360912875828\n",
      "    0.017600256261224\n",
      "  0.43796788389987673\n",
      "0.0010114357494535602\n",
      "   0.7757798627607313\n",
      "0.0027572872155783227\n",
      "Length = 33 rows       Int_150       \n",
      "--------------------\n",
      " 0.06058975161796576\n",
      "0.019086761015495925\n",
      "0.017561267971398155\n",
      "0.031111608429127198\n",
      "0.033370672224741466\n",
      " 0.06393882523649365\n",
      "0.005340166555401067\n",
      "                 ...\n",
      " 0.06091244860621196\n",
      "0.006346574729198519\n",
      "0.016420034369885386\n",
      "  0.5101227164311125\n",
      "0.002379389601139082\n",
      "  0.3050390308719302\n",
      " 0.00533087472502141\n",
      "Length = 33 rows       Int_1kpc      \n",
      "--------------------\n",
      "0.048593810730976454\n",
      " 0.04647532511570635\n",
      " 0.03958427893047879\n",
      " 0.04549395390183408\n",
      " 0.08175225773164466\n",
      "0.032832697024962616\n",
      "0.013177205391583085\n",
      "                 ...\n",
      "0.030196765812310542\n",
      "0.016109471190781065\n",
      "0.026922053813844632\n",
      " 0.37449522575540495\n",
      " 0.00413458789072295\n",
      " 0.48787578539138865\n",
      "0.008855085700503265\n",
      "Length = 33 rows\n"
     ]
    }
   ],
   "source": [
    "# normalize intensities\n",
    "int_nat = np.clip(int_nat,0,np.max(int_nat))\n",
    "int_150 = np.clip(int_150,0,np.max(int_150))\n",
    "int_1kpc = np.clip(int_1kpc,0,np.max(int_1kpc))\n",
    "\n",
    "def normalize(v):\n",
    "    norm = np.linalg.norm(v)\n",
    "    if norm == 0: \n",
    "        return v\n",
    "    return v / norm\n",
    "\n",
    "int_nat = normalize(int_nat)\n",
    "int_150 = normalize(int_150)\n",
    "int_1kpc = normalize(int_1kpc)\n",
    "\n",
    "print(int_nat, int_150, int_1kpc)"
   ]
  },
  {
   "cell_type": "code",
   "execution_count": 11,
   "metadata": {},
   "outputs": [
    {
     "data": {
      "image/png": "[encoded data removed]",
      "text/plain": [
       "<Figure size 640x480 with 3 Axes>"
      ]
     },
     "metadata": {},
     "output_type": "display_data"
    }
   ],
   "source": [
    "import seaborn as sns\n",
    "sns.set_style(\"whitegrid\")\n",
    "\n",
    "fig,ax = plt.subplots(1,3)\n",
    "\n",
    "sns.boxplot(y = int_nat, x = SNtype, ax=ax[0])\n",
    "sns.boxplot(y = int_150, x = SNtype, ax=ax[1])\n",
    "sns.boxplot(y = int_1kpc, x = SNtype, ax=ax[2])\n",
    "\n",
    "# plt.yticks(fontsize=10)\n",
    "# plt.xticks(fontsize=10)\n",
    "\n",
    "# plt.ylabel(\"Intensity\", fontsize=12)\n",
    "# plt.xlabel(\"SNtype\", fontsize=12)\n",
    "\n",
    "plt.show()\n",
    "fig.savefig(\"../Figures/IntensityViolin.pdf\", dpi=300)"
   ]
  },
  {
   "cell_type": "code",
   "execution_count": null,
   "metadata": {},
   "outputs": [],
   "source": []
  }
 ],
 "metadata": {
  "kernelspec": {
   "display_name": "Python 3 (ipykernel)",
   "language": "python",
   "name": "python3"
  },
  "language_info": {
   "codemirror_mode": {
    "name": "ipython",
    "version": 3
   },
   "file_extension": ".py",
   "mimetype": "text/x-python",
   "name": "python",
   "nbconvert_exporter": "python",
   "pygments_lexer": "ipython3",
   "version": "3.9.13"
  }
 },
 "nbformat": 4,
 "nbformat_minor": 2
}
