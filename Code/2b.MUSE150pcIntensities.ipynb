{
 "cells": [
  {
   "cell_type": "code",
   "execution_count": 1,
   "id": "013a06ac",
   "metadata": {},
   "outputs": [],
   "source": [
    "# This notebook measures the intensity at each SN site using the MUSE 150pc maps"
   ]
  },
  {
   "cell_type": "code",
   "execution_count": 2,
   "id": "dbb0acce",
   "metadata": {},
   "outputs": [],
   "source": [
    "#import packages and formatting statements\n",
    "\n",
    "import numpy as np\n",
    "from matplotlib import pyplot as plt\n",
    "import astropy.io.fits as pyfits\n",
    "from astropy.table import Table, join\n",
    "from astropy.wcs import WCS\n",
    "from astropy.io import ascii\n",
    "import os\n",
    "import warnings\n",
    "warnings.filterwarnings('ignore')"
   ]
  },
  {
   "cell_type": "code",
   "execution_count": 3,
   "id": "45adeed5",
   "metadata": {},
   "outputs": [],
   "source": [
    "dataFile = '../Data/2.SNeHaSNeInMUSE.csv'\n",
    "data = Table.read(dataFile, format = \"csv\")"
   ]
  },
  {
   "cell_type": "code",
   "execution_count": 4,
   "id": "0a924a1a",
   "metadata": {},
   "outputs": [
    {
     "data": {
      "text/html": [
       "<i>Table length=34</i>\n",
       "<table id=\"table139876286305424\" class=\"table-striped table-bordered table-condensed\">\n",
       "<thead><tr><th>Galaxy</th><th>Supernova</th><th>Ra</th><th>Dec</th><th>MUSE_xCoord</th><th>MUSE_yCoord</th><th>Type</th><th>MUSE_Intensity</th><th>MUSE_map</th><th>Removed</th><th>InMuseSample</th></tr></thead>\n",
       "<thead><tr><th>str7</th><th>str11</th><th>float64</th><th>float64</th><th>float64</th><th>float64</th><th>str12</th><th>float64</th><th>str80</th><th>str5</th><th>str5</th></tr></thead>\n",
       "<tr><td>NGC0628</td><td>SN2013ej</td><td>24.200670833333334</td><td>15.758611111111112</td><td>243.11885674825174</td><td>305.29330284886476</td><td>II</td><td>nan</td><td>/data/fourier/sun.1608/PHANGS/MUSE/DR2.2/MUSEDAP/copt/NGC0628-0.92asec_MAPS.fits</td><td>False</td><td>False</td></tr>\n",
       "<tr><td>NGC1087</td><td>SN1995V</td><td>41.61154166666667</td><td>-0.49878055555555556</td><td>182.8499455412301</td><td>450.8200411854245</td><td>II</td><td>2663.371834437333</td><td>/data/fourier/sun.1608/PHANGS/MUSE/DR2.2/MUSEDAP/copt/NGC1087-0.92asec_MAPS.fits</td><td>False</td><td>True</td></tr>\n",
       "<tr><td>NGC1365</td><td>SN1957C</td><td>53.38349999999999</td><td>-36.11770833333333</td><td>1004.4155369313344</td><td>865.6486483514018</td><td>Unclassified</td><td>1737.6042541521983</td><td>/data/fourier/sun.1608/PHANGS/MUSE/DR2.2/MUSEDAP/copt/NGC1365-1.15asec_MAPS.fits</td><td>False</td><td>True</td></tr>\n",
       "<tr><td>NGC1365</td><td>SN1983V</td><td>53.38192083333333</td><td>-36.148580555555554</td><td>1027.2635595498382</td><td>309.94409754595245</td><td>II</td><td>5996.363596675533</td><td>/data/fourier/sun.1608/PHANGS/MUSE/DR2.2/MUSEDAP/copt/NGC1365-1.15asec_MAPS.fits</td><td>False</td><td>True</td></tr>\n",
       "<tr><td>NGC1365</td><td>SN2001du</td><td>53.371249999999996</td><td>-36.142</td><td>1182.399513237841</td><td>428.35378352364773</td><td>IIP</td><td>771.0272731680817</td><td>/data/fourier/sun.1608/PHANGS/MUSE/DR2.2/MUSEDAP/copt/NGC1365-1.15asec_MAPS.fits</td><td>False</td><td>True</td></tr>\n",
       "<tr><td>NGC1365</td><td>SN2012fr</td><td>53.39995833333333</td><td>-36.12713888888889</td><td>765.0991888576729</td><td>695.9235141161663</td><td>Ia</td><td>98.56839169106574</td><td>/data/fourier/sun.1608/PHANGS/MUSE/DR2.2/MUSEDAP/copt/NGC1365-1.15asec_MAPS.fits</td><td>False</td><td>True</td></tr>\n",
       "<tr><td>NGC1433</td><td>SN1985P</td><td>55.526500000000006</td><td>-47.21</td><td>494.82229846949286</td><td>663.0629555201185</td><td>II</td><td>200.75143233198625</td><td>/data/fourier/sun.1608/PHANGS/MUSE/DR2.2/MUSEDAP/copt/NGC1433-0.91asec_MAPS.fits</td><td>False</td><td>True</td></tr>\n",
       "<tr><td>NGC1566</td><td>ASASSN-14ha</td><td>65.0058875</td><td>-54.93807777777778</td><td>408.4277260277734</td><td>443.3346781401191</td><td>II</td><td>2552.702982824482</td><td>/data/fourier/sun.1608/PHANGS/MUSE/DR2.2/MUSEDAP/copt/NGC1566-0.80asec_MAPS.fits</td><td>False</td><td>True</td></tr>\n",
       "<tr><td>NGC1566</td><td>SN2010el</td><td>64.99512083333333</td><td>-54.94403055555555</td><td>519.748049623692</td><td>336.1825431911411</td><td>Ia-pec</td><td>247.78910338751842</td><td>/data/fourier/sun.1608/PHANGS/MUSE/DR2.2/MUSEDAP/copt/NGC1566-0.80asec_MAPS.fits</td><td>False</td><td>True</td></tr>\n",
       "<tr><td>NGC1566</td><td>SN2021aefx</td><td>64.9725</td><td>-54.94808055555555</td><td>753.5891791208549</td><td>263.22228039750394</td><td>Ia</td><td>99.3203429556626</td><td>/data/fourier/sun.1608/PHANGS/MUSE/DR2.2/MUSEDAP/copt/NGC1566-0.80asec_MAPS.fits</td><td>False</td><td>True</td></tr>\n",
       "<tr><td>...</td><td>...</td><td>...</td><td>...</td><td>...</td><td>...</td><td>...</td><td>...</td><td>...</td><td>...</td><td>...</td></tr>\n",
       "<tr><td>NGC4303</td><td>SN1999gn</td><td>185.48757916666665</td><td>4.462669444444445</td><td>293.24830982453614</td><td>250.31122166681607</td><td>II</td><td>7414.512763734314</td><td>/data/fourier/sun.1608/PHANGS/MUSE/DR2.2/MUSEDAP/copt/NGC4303-0.78asec_MAPS.fits</td><td>False</td><td>True</td></tr>\n",
       "<tr><td>NGC4303</td><td>SN2006ov</td><td>185.48042083333334</td><td>4.4879694444444445</td><td>421.70864998948576</td><td>705.7103298574948</td><td>II</td><td>2040.6701510337875</td><td>/data/fourier/sun.1608/PHANGS/MUSE/DR2.2/MUSEDAP/copt/NGC4303-0.78asec_MAPS.fits</td><td>False</td><td>True</td></tr>\n",
       "<tr><td>NGC4303</td><td>SN2014dt</td><td>185.48987083333333</td><td>4.471811111111111</td><td>252.1258384341976</td><td>414.86177898786053</td><td>Ia-pec</td><td>535.934601376541</td><td>/data/fourier/sun.1608/PHANGS/MUSE/DR2.2/MUSEDAP/copt/NGC4303-0.78asec_MAPS.fits</td><td>False</td><td>True</td></tr>\n",
       "<tr><td>NGC4303</td><td>SN2020jfo</td><td>185.46033333333332</td><td>4.481680555555556</td><td>782.177858788193</td><td>592.514486842171</td><td>II</td><td>1151.901667862701</td><td>/data/fourier/sun.1608/PHANGS/MUSE/DR2.2/MUSEDAP/copt/NGC4303-0.78asec_MAPS.fits</td><td>False</td><td>True</td></tr>\n",
       "<tr><td>NGC4321</td><td>SN1901B</td><td>185.6970833333333</td><td>15.82375</td><td>1135.1351509168808</td><td>480.2301246432617</td><td>I</td><td>830.6459085009695</td><td>/data/fourier/sun.1608/PHANGS/MUSE/DR2.2/MUSEDAP/copt/NGC4321-1.16asec_MAPS.fits</td><td>False</td><td>True</td></tr>\n",
       "<tr><td>NGC4321</td><td>SN1959E</td><td>185.74543194444445</td><td>15.816989814814816</td><td>297.8328298271027</td><td>358.4935857458107</td><td>I</td><td>1266.9597513743083</td><td>/data/fourier/sun.1608/PHANGS/MUSE/DR2.2/MUSEDAP/copt/NGC4321-1.16asec_MAPS.fits</td><td>False</td><td>True</td></tr>\n",
       "<tr><td>NGC4321</td><td>SN1979C</td><td>185.74429166666667</td><td>15.797688888888889</td><td>317.56468914293606</td><td>11.07592485880076</td><td>IIL</td><td>nan</td><td>/data/fourier/sun.1608/PHANGS/MUSE/DR2.2/MUSEDAP/copt/NGC4321-1.16asec_MAPS.fits</td><td>False</td><td>False</td></tr>\n",
       "<tr><td>NGC4321</td><td>SN2006X</td><td>185.72495833333335</td><td>15.80918888888889</td><td>652.4108996458007</td><td>218.07592520832188</td><td>Ia</td><td>227.19847645678135</td><td>/data/fourier/sun.1608/PHANGS/MUSE/DR2.2/MUSEDAP/copt/NGC4321-1.16asec_MAPS.fits</td><td>False</td><td>True</td></tr>\n",
       "<tr><td>NGC4321</td><td>SN2019ehk</td><td>185.73395833333333</td><td>15.826119444444444</td><td>496.53771147548224</td><td>522.8221118348936</td><td>Ib</td><td>285.3962678952996</td><td>/data/fourier/sun.1608/PHANGS/MUSE/DR2.2/MUSEDAP/copt/NGC4321-1.16asec_MAPS.fits</td><td>False</td><td>True</td></tr>\n",
       "<tr><td>NGC4321</td><td>SN2020oi</td><td>185.72887500000002</td><td>15.823599999999999</td><td>584.5705293190107</td><td>477.473449256827</td><td>Ic</td><td>17928.96914852764</td><td>/data/fourier/sun.1608/PHANGS/MUSE/DR2.2/MUSEDAP/copt/NGC4321-1.16asec_MAPS.fits</td><td>False</td><td>True</td></tr>\n",
       "</table>"
      ],
      "text/plain": [
       "<Table length=34>\n",
       " Galaxy  Supernova          Ra         ... Removed InMuseSample\n",
       "  str7     str11         float64       ...   str5      str5    \n",
       "------- ----------- ------------------ ... ------- ------------\n",
       "NGC0628    SN2013ej 24.200670833333334 ...   False        False\n",
       "NGC1087     SN1995V  41.61154166666667 ...   False         True\n",
       "NGC1365     SN1957C  53.38349999999999 ...   False         True\n",
       "NGC1365     SN1983V  53.38192083333333 ...   False         True\n",
       "NGC1365    SN2001du 53.371249999999996 ...   False         True\n",
       "NGC1365    SN2012fr  53.39995833333333 ...   False         True\n",
       "NGC1433     SN1985P 55.526500000000006 ...   False         True\n",
       "NGC1566 ASASSN-14ha         65.0058875 ...   False         True\n",
       "NGC1566    SN2010el  64.99512083333333 ...   False         True\n",
       "NGC1566  SN2021aefx            64.9725 ...   False         True\n",
       "    ...         ...                ... ...     ...          ...\n",
       "NGC4303    SN1999gn 185.48757916666665 ...   False         True\n",
       "NGC4303    SN2006ov 185.48042083333334 ...   False         True\n",
       "NGC4303    SN2014dt 185.48987083333333 ...   False         True\n",
       "NGC4303   SN2020jfo 185.46033333333332 ...   False         True\n",
       "NGC4321     SN1901B  185.6970833333333 ...   False         True\n",
       "NGC4321     SN1959E 185.74543194444445 ...   False         True\n",
       "NGC4321     SN1979C 185.74429166666667 ...   False        False\n",
       "NGC4321     SN2006X 185.72495833333335 ...   False         True\n",
       "NGC4321   SN2019ehk 185.73395833333333 ...   False         True\n",
       "NGC4321    SN2020oi 185.72887500000002 ...   False         True"
      ]
     },
     "execution_count": 4,
     "metadata": {},
     "output_type": "execute_result"
    }
   ],
   "source": [
    "data"
   ]
  },
  {
   "cell_type": "code",
   "execution_count": null,
   "id": "4cbf2088",
   "metadata": {},
   "outputs": [],
   "source": [
    "    if(os.path.isfile(file) == True):\n",
    "\n",
    "        hdulist = pyfits.open(file)\n",
    "        map = hdulist[0].data\n",
    "\n",
    "        isInMap, xVal, yVal = IsInMap(file, ra, dec)\n",
    "\n",
    "        if isInMap == True:\n",
    "            value = map[yVal, xVal]\n",
    "        else:\n",
    "            value = float(\"nan\")\n",
    "    else:\n",
    "        value = float(\"nan\")\n",
    "\n",
    "    return(value)"
   ]
  }
 ],
 "metadata": {
  "kernelspec": {
   "display_name": "Python 3",
   "language": "python",
   "name": "python3"
  },
  "language_info": {
   "codemirror_mode": {
    "name": "ipython",
    "version": 3
   },
   "file_extension": ".py",
   "mimetype": "text/x-python",
   "name": "python",
   "nbconvert_exporter": "python",
   "pygments_lexer": "ipython3",
   "version": "3.8.10"
  }
 },
 "nbformat": 4,
 "nbformat_minor": 5
}
