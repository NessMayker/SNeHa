{
 "cells": [
  {
   "cell_type": "markdown",
   "metadata": {},
   "source": [
    "This notebook makes the latex tables for the SNeHa paper\n",
    "\n",
    "Table A1. Galaxy, Supernova, Type, RA, Dec, In Sample, Reference\n",
    "\n",
    "A2. SN name, type, Native Resolution, Ha, line width, A_v, HII, Grove identifier, SNR?, CO, metallicity [12+log(O/H) (dex)], \n",
    "R_gal (if center of galaxy, can fake rotation being big line width), galactocentric radius."
   ]
  },
  {
   "cell_type": "code",
   "execution_count": 1,
   "metadata": {},
   "outputs": [],
   "source": [
    "#import packages and formatting statements\n",
    "import numpy as np\n",
    "from matplotlib import pyplot as plt\n",
    "import astropy.io.fits as pyfits\n",
    "from astropy.table import Table, join\n",
    "from astropy.wcs import WCS\n",
    "from astropy.io import ascii\n",
    "import os\n"
   ]
  },
  {
   "cell_type": "code",
   "execution_count": 2,
   "metadata": {
    "scrolled": true
   },
   "outputs": [
    {
     "data": {
      "text/html": [
       "<div><i>Table length=2</i>\n",
       "<table id=\"table4528311312\" class=\"table-striped table-bordered table-condensed\">\n",
       "<thead><tr><th>Galaxy</th><th>Supernova</th><th>Type</th><th>SN_ra</th><th>SN_dec</th><th>In_Sample</th></tr></thead>\n",
       "<thead><tr><th>str7</th><th>str11</th><th>str12</th><th>float64</th><th>float64</th><th>str4</th></tr></thead>\n",
       "<tr><td>NGC1087</td><td>SN1995V</td><td>II</td><td>41.61152777777777</td><td>-0.4987861111111111</td><td>True</td></tr>\n",
       "<tr><td>NGC1300</td><td>SN2022acko</td><td>II</td><td>49.91245833333333</td><td>-19.39518888888889</td><td>True</td></tr>\n",
       "</table></div>"
      ],
      "text/plain": [
       "<Table length=2>\n",
       " Galaxy Supernova   Type       SN_ra              SN_dec       In_Sample\n",
       "  str7    str11    str12      float64            float64          str4  \n",
       "------- ---------- ----- ----------------- ------------------- ---------\n",
       "NGC1087    SN1995V    II 41.61152777777777 -0.4987861111111111      True\n",
       "NGC1300 SN2022acko    II 49.91245833333333  -19.39518888888889      True"
      ]
     },
     "execution_count": 2,
     "metadata": {},
     "output_type": "execute_result"
    }
   ],
   "source": [
    "# Compile galaxy and OSC objects\n",
    "data = Table.read('../Data/1.MUSE_SN_Sample.csv', format = \"csv\")\n",
    "data[0:2]\n"
   ]
  },
  {
   "cell_type": "code",
   "execution_count": 3,
   "metadata": {},
   "outputs": [
    {
     "data": {
      "text/html": [
       "<div><i>Table length=2</i>\n",
       "<table id=\"table4539470032\" class=\"table-striped table-bordered table-condensed\">\n",
       "<thead><tr><th>Supernova</th><th>sn_type</th><th>int_nat</th><th>int_150</th><th>int_1kpc</th><th>a_v</th><th>c_o</th><th>e_co</th><th>co_snr</th><th>co</th><th>halpha_lws</th><th>gcr</th><th>gcr_reff</th><th>met_theory</th></tr></thead>\n",
       "<thead><tr><th>str11</th><th>str5</th><th>float64</th><th>float64</th><th>float64</th><th>float64</th><th>float64</th><th>float64</th><th>float64</th><th>str3</th><th>float64</th><th>float64</th><th>float64</th><th>float64</th></tr></thead>\n",
       "<tr><td>SN1995V</td><td>II</td><td>8.839672735197591e+39</td><td>9.098356574390131e+39</td><td>5.626363456901733e+39</td><td>1.2788075992834158</td><td>10.1257905960083</td><td>0.9063823223114014</td><td>11.17165470123291</td><td>Yes</td><td>52.49597118323195</td><td>0.14295581272079702</td><td>3.396280301797827</td><td>8.241260378874152</td></tr>\n",
       "<tr><td>SN2022acko</td><td>II</td><td>3.445745101042276e+38</td><td>5.543860583782077e+38</td><td>7.868984950864679e+38</td><td>0.3049447396212661</td><td>-0.13982966542243958</td><td>0.7117888331413269</td><td>0.0</td><td>No</td><td>66.20645202360187</td><td>0.3791372256557472</td><td>5.349132803990211</td><td>8.194418508484775</td></tr>\n",
       "</table></div>"
      ],
      "text/plain": [
       "<Table length=2>\n",
       "Supernova  sn_type ...      gcr_reff         met_theory   \n",
       "  str11      str5  ...      float64           float64     \n",
       "---------- ------- ... ----------------- -----------------\n",
       "   SN1995V      II ... 3.396280301797827 8.241260378874152\n",
       "SN2022acko      II ... 5.349132803990211 8.194418508484775"
      ]
     },
     "execution_count": 3,
     "metadata": {},
     "output_type": "execute_result"
    }
   ],
   "source": [
    "# Compile intensities/extinctions\n",
    "ints = Table.read('../Data/1.sn_ints_exts.csv', format = \"csv\")\n",
    "ints[0:2]\n"
   ]
  },
  {
   "cell_type": "code",
   "execution_count": 4,
   "metadata": {},
   "outputs": [
    {
     "data": {
      "text/html": [
       "<div><i>Table length=2</i>\n",
       "<table id=\"table4393074576\" class=\"table-striped table-bordered table-condensed\">\n",
       "<thead><tr><th>Supernova</th><th>sn_type</th><th>in_HII</th><th>hii_dist</th><th>hii_val</th></tr></thead>\n",
       "<thead><tr><th>str11</th><th>str12</th><th>str3</th><th>float64</th><th>int64</th></tr></thead>\n",
       "<tr><td>SN1995V</td><td>II</td><td>Yes</td><td>0.1</td><td>731</td></tr>\n",
       "<tr><td>SN2022acko</td><td>II</td><td>No</td><td>130.01600444193133</td><td>-1</td></tr>\n",
       "</table></div>"
      ],
      "text/plain": [
       "<Table length=2>\n",
       "Supernova  sn_type in_HII      hii_dist      hii_val\n",
       "  str11     str12   str3       float64        int64 \n",
       "---------- ------- ------ ------------------ -------\n",
       "   SN1995V      II    Yes                0.1     731\n",
       "SN2022acko      II     No 130.01600444193133      -1"
      ]
     },
     "execution_count": 4,
     "metadata": {},
     "output_type": "execute_result"
    }
   ],
   "source": [
    "# Compile HII region data\n",
    "hii = Table.read('../Data/1.sn_hii_dists.csv', format = \"csv\")\n",
    "hii[\"sn_name\"].info.name = \"Supernova\"\n",
    "\n",
    "hii[0:2]"
   ]
  },
  {
   "cell_type": "code",
   "execution_count": 5,
   "metadata": {},
   "outputs": [
    {
     "data": {
      "text/html": [
       "<div><i>Table length=4</i>\n",
       "<table id=\"table4548323024\" class=\"table-striped table-bordered table-condensed\">\n",
       "<thead><tr><th>Galaxy</th><th>Distance</th><th>Gal_ra</th><th>Gal_dec</th><th>Pos_ang</th><th>Incl</th><th>r_eff</th><th>MUSE_nat_res</th><th>MUSE_phys_res</th><th>maps_musedap</th><th>maps_nat</th><th>maps_15asec</th><th>maps_150</th><th>maps_1kpc</th><th>maps_HII</th><th>maps_irac</th><th>maps_CO21</th><th>maps_eCO21</th><th>maps_ext</th><th>maps_vdisp</th><th>maps_HST</th><th>JWST200</th><th>JWST300</th><th>JWST335</th><th>JWST360</th><th>JWST770</th><th>JWST1000</th><th>JWST1130</th><th>JWST2100</th><th>Supernova</th><th>Type</th><th>SN_ra</th><th>SN_dec</th><th>In_Sample</th><th>sn_type_1</th><th>in_HII</th><th>hii_dist</th><th>hii_val</th><th>sn_type_2</th><th>int_nat</th><th>int_150</th><th>int_1kpc</th><th>a_v</th><th>c_o</th><th>e_co</th><th>co_snr</th><th>co</th><th>halpha_lws</th><th>gcr</th><th>gcr_reff</th><th>met_theory</th></tr></thead>\n",
       "<thead><tr><th>str7</th><th>float64</th><th>float64</th><th>float64</th><th>float64</th><th>float64</th><th>float64</th><th>float64</th><th>int64</th><th>str71</th><th>str58</th><th>str60</th><th>str64</th><th>str63</th><th>str50</th><th>str40</th><th>str72</th><th>str73</th><th>str36</th><th>str32</th><th>str45</th><th>str93</th><th>str93</th><th>str93</th><th>str93</th><th>str93</th><th>str94</th><th>str94</th><th>str94</th><th>str11</th><th>str12</th><th>float64</th><th>float64</th><th>str4</th><th>str12</th><th>str3</th><th>float64</th><th>int64</th><th>str5</th><th>float64</th><th>float64</th><th>float64</th><th>float64</th><th>float64</th><th>float64</th><th>float64</th><th>str3</th><th>float64</th><th>float64</th><th>float64</th><th>float64</th></tr></thead>\n",
       "<tr><td>NGC1566</td><td>17.69</td><td>65.00159</td><td>-54.93801</td><td>214.7</td><td>29.5</td><td>36.968307</td><td>0.8</td><td>80</td><td>../../GalaxyFiles/MUSELargeFiles/MUSE2.2_Nat/NGC1566-0.80asec_MAPS.fits</td><td>../../GalaxyFiles/MUSELargeFiles/SFR/copt/NGC1566_sfr.fits</td><td>../../GalaxyFiles/MUSELargeFiles/SFR/15asec/NGC1566_sfr.fits</td><td>../../GalaxyFiles/MUSELargeFiles/SFR/copt/NGC1566_sfr_150pc.fits</td><td>../../GalaxyFiles/MUSELargeFiles/SFR/copt/NGC1566_sfr_1kpc.fits</td><td>../Data/HII_reg_masks/NGC1566_nebulae_mask_V2.fits</td><td>../Data/IRAC/ngc1566_irac1_atGauss4.fits</td><td>../../GalaxyFiles/ALMACO2-1/ngc1566_12m+7m+tp_co21_150pc_broad_mom0.fits</td><td>../../GalaxyFiles/ALMACO2-1/ngc1566_12m+7m+tp_co21_150pc_broad_emom0.fits</td><td>../Data/SFR_v1/NGC1566_MAPS_sfr.fits</td><td>../Data/vdisp/ngc1566_vdisp.fits</td><td>../../GalaxyFiles/HST/ngc1566_hst_ha_sic.fits</td><td>../../GalaxyFiles/JWSTLargeFiles/Anchored_8.0_Gauss7.5/ngc1566_F200W_atGauss7p5_anchored.fits</td><td>../../GalaxyFiles/JWSTLargeFiles/Anchored_8.0_Gauss7.5/ngc1566_F300W_atGauss7p5_anchored.fits</td><td>../../GalaxyFiles/JWSTLargeFiles/Anchored_8.0_Gauss7.5/ngc1566_F330W_atGauss7p5_anchored.fits</td><td>../../GalaxyFiles/JWSTLargeFiles/Anchored_8.0_Gauss7.5/ngc1566_F365W_atGauss7p5_anchored.fits</td><td>../../GalaxyFiles/JWSTLargeFiles/Anchored_8.0_Gauss7.5/ngc1566_F770W_atGauss7p5_anchored.fits</td><td>../../GalaxyFiles/JWSTLargeFiles/Anchored_8.0_Gauss7.5/ngc1566_F1000W_atGauss7p5_anchored.fits</td><td>../../GalaxyFiles/JWSTLargeFiles/Anchored_8.0_Gauss7.5/ngc1566_F1130W_atGauss7p5_anchored.fits</td><td>../../GalaxyFiles/JWSTLargeFiles/Anchored_8.0_Gauss7.5/ngc1566_F2100W_atGauss7p5_anchored.fits</td><td>ASASSN-14ha</td><td>II</td><td>65.0058875</td><td>-54.93807777777778</td><td>True</td><td>II</td><td>Yes</td><td>0.1</td><td>877</td><td>II</td><td>6.206906305070956e+39</td><td>1.2762259220392566e+40</td><td>5.346720109001179e+39</td><td>0.8637144049713334</td><td>61.47018814086914</td><td>1.4010099172592163</td><td>43.87562561035156</td><td>Yes</td><td>57.169856446603866</td><td>0.04834469069591773</td><td>1.3077334240899299</td><td>8.564613863308672</td></tr>\n",
       "<tr><td>NGC4321</td><td>15.21</td><td>185.72887</td><td>15.822304</td><td>156.2</td><td>38.5</td><td>74.58043</td><td>1.16</td><td>43</td><td>../../GalaxyFiles/MUSELargeFiles/MUSE2.2_Nat/NGC4321-1.16asec_MAPS.fits</td><td>../../GalaxyFiles/MUSELargeFiles/SFR/copt/NGC4321_sfr.fits</td><td>../../GalaxyFiles/MUSELargeFiles/SFR/15asec/NGC4321_sfr.fits</td><td>../../GalaxyFiles/MUSELargeFiles/SFR/copt/NGC4321_sfr_150pc.fits</td><td>../../GalaxyFiles/MUSELargeFiles/SFR/copt/NGC4321_sfr_1kpc.fits</td><td>../Data/HII_reg_masks/NGC4321_nebulae_mask_V2.fits</td><td>../Data/IRAC/ngc4321_irac1_atGauss4.fits</td><td>../../GalaxyFiles/ALMACO2-1/ngc4321_12m+7m+tp_co21_150pc_broad_mom0.fits</td><td>../../GalaxyFiles/ALMACO2-1/ngc4321_12m+7m+tp_co21_150pc_broad_emom0.fits</td><td>../Data/SFR_v1/NGC4321_MAPS_sfr.fits</td><td>../Data/vdisp/ngc4321_vdisp.fits</td><td>../../GalaxyFiles/HST/ngc4321_hst_ha_sic.fits</td><td>../../GalaxyFiles/JWSTLargeFiles/Anchored_8.0_Gauss7.5/ngc4321_F200W_atGauss7p5_anchored.fits</td><td>../../GalaxyFiles/JWSTLargeFiles/Anchored_8.0_Gauss7.5/ngc4321_F300W_atGauss7p5_anchored.fits</td><td>../../GalaxyFiles/JWSTLargeFiles/Anchored_8.0_Gauss7.5/ngc4321_F330W_atGauss7p5_anchored.fits</td><td>../../GalaxyFiles/JWSTLargeFiles/Anchored_8.0_Gauss7.5/ngc4321_F365W_atGauss7p5_anchored.fits</td><td>../../GalaxyFiles/JWSTLargeFiles/Anchored_8.0_Gauss7.5/ngc4321_F770W_atGauss7p5_anchored.fits</td><td>../../GalaxyFiles/JWSTLargeFiles/Anchored_8.0_Gauss7.5/ngc4321_F1000W_atGauss7p5_anchored.fits</td><td>../../GalaxyFiles/JWSTLargeFiles/Anchored_8.0_Gauss7.5/ngc4321_F1130W_atGauss7p5_anchored.fits</td><td>../../GalaxyFiles/JWSTLargeFiles/Anchored_8.0_Gauss7.5/ngc4321_F2100W_atGauss7p5_anchored.fits</td><td>SN1901B</td><td>I</td><td>185.6970833333333</td><td>15.82375</td><td>True</td><td>Unclassified</td><td>No</td><td>12.603072150814626</td><td>-1</td><td>Unc</td><td>2.1120944464704693e+39</td><td>1.906234489817827e+39</td><td>4.6543019931292686e+39</td><td>0.9233767955195454</td><td>5.794000625610352</td><td>0.9782019853591919</td><td>5.923112869262695</td><td>Yes</td><td>53.37901179788239</td><td>0.5718744604389849</td><td>7.6678890218115505</td><td>8.377299107389277</td></tr>\n",
       "<tr><td>NGC4303</td><td>16.99</td><td>185.47888</td><td>4.473744</td><td>312.4</td><td>23.5</td><td>41.60867</td><td>0.78</td><td>73</td><td>../../GalaxyFiles/MUSELargeFiles/MUSE2.2_Nat/NGC4303-0.78asec_MAPS.fits</td><td>../../GalaxyFiles/MUSELargeFiles/SFR/copt/NGC4303_sfr.fits</td><td>../../GalaxyFiles/MUSELargeFiles/SFR/15asec/NGC4303_sfr.fits</td><td>../../GalaxyFiles/MUSELargeFiles/SFR/copt/NGC4303_sfr_150pc.fits</td><td>../../GalaxyFiles/MUSELargeFiles/SFR/copt/NGC4303_sfr_1kpc.fits</td><td>../Data/HII_reg_masks/NGC4303_nebulae_mask_V2.fits</td><td>../Data/IRAC/ngc4303_irac1_atGauss4.fits</td><td>../../GalaxyFiles/ALMACO2-1/ngc4303_12m+7m+tp_co21_150pc_broad_mom0.fits</td><td>../../GalaxyFiles/ALMACO2-1/ngc4303_12m+7m+tp_co21_150pc_broad_emom0.fits</td><td>../Data/SFR_v1/NGC4303_MAPS_sfr.fits</td><td>../Data/vdisp/ngc4303_vdisp.fits</td><td>../../GalaxyFiles/HST/ngc4303_hst_ha_sic.fits</td><td>../../GalaxyFiles/JWSTLargeFiles/Anchored_8.0_Gauss7.5/ngc4303_F200W_atGauss7p5_anchored.fits</td><td>../../GalaxyFiles/JWSTLargeFiles/Anchored_8.0_Gauss7.5/ngc4303_F300W_atGauss7p5_anchored.fits</td><td>../../GalaxyFiles/JWSTLargeFiles/Anchored_8.0_Gauss7.5/ngc4303_F330W_atGauss7p5_anchored.fits</td><td>../../GalaxyFiles/JWSTLargeFiles/Anchored_8.0_Gauss7.5/ngc4303_F365W_atGauss7p5_anchored.fits</td><td>../../GalaxyFiles/JWSTLargeFiles/Anchored_8.0_Gauss7.5/ngc4303_F770W_atGauss7p5_anchored.fits</td><td>../../GalaxyFiles/JWSTLargeFiles/Anchored_8.0_Gauss7.5/ngc4303_F1000W_atGauss7p5_anchored.fits</td><td>../../GalaxyFiles/JWSTLargeFiles/Anchored_8.0_Gauss7.5/ngc4303_F1130W_atGauss7p5_anchored.fits</td><td>../../GalaxyFiles/JWSTLargeFiles/Anchored_8.0_Gauss7.5/ngc4303_F2100W_atGauss7p5_anchored.fits</td><td>SN1926A</td><td>II</td><td>185.47536458333335</td><td>4.493354166666666</td><td>True</td><td>II</td><td>No</td><td>43.83215719364551</td><td>-1</td><td>II</td><td>8.237240338373292e+38</td><td>1.3527879572025055e+39</td><td>2.5296318481363346e+39</td><td>0.0</td><td>-0.9055058360099792</td><td>0.9430826902389526</td><td>0.0</td><td>No</td><td>66.63977496682482</td><td>0.3501443951096005</td><td>8.415178738219716</td><td>8.343714280376968</td></tr>\n",
       "<tr><td>NGC1365</td><td>19.57</td><td>53.40152</td><td>-36.140404</td><td>201.1</td><td>55.4</td><td>18.816</td><td>1.15</td><td>76</td><td>../../GalaxyFiles/MUSELargeFiles/MUSE2.2_Nat/NGC1365-1.15asec_MAPS.fits</td><td>../../GalaxyFiles/MUSELargeFiles/SFR/copt/NGC1365_sfr.fits</td><td>../../GalaxyFiles/MUSELargeFiles/SFR/15asec/NGC1365_sfr.fits</td><td>../../GalaxyFiles/MUSELargeFiles/SFR/copt/NGC1365_sfr_150pc.fits</td><td>../../GalaxyFiles/MUSELargeFiles/SFR/copt/NGC1365_sfr_1kpc.fits</td><td>../Data/HII_reg_masks/NGC1365_nebulae_mask_V2.fits</td><td>../Data/IRAC/ngc1365_irac1_atGauss4.fits</td><td>../../GalaxyFiles/ALMACO2-1/ngc1365_12m+7m+tp_co21_150pc_broad_mom0.fits</td><td>../../GalaxyFiles/ALMACO2-1/ngc1365_12m+7m+tp_co21_150pc_broad_emom0.fits</td><td>../Data/SFR_v1/NGC1365_MAPS_sfr.fits</td><td>../Data/vdisp/ngc1365_vdisp.fits</td><td>../../GalaxyFiles/HST/ngc1365_hst_ha_sic.fits</td><td>../../GalaxyFiles/JWSTLargeFiles/Anchored_8.0_Gauss7.5/ngc1365_F200W_atGauss7p5_anchored.fits</td><td>../../GalaxyFiles/JWSTLargeFiles/Anchored_8.0_Gauss7.5/ngc1365_F300W_atGauss7p5_anchored.fits</td><td>../../GalaxyFiles/JWSTLargeFiles/Anchored_8.0_Gauss7.5/ngc1365_F330W_atGauss7p5_anchored.fits</td><td>../../GalaxyFiles/JWSTLargeFiles/Anchored_8.0_Gauss7.5/ngc1365_F365W_atGauss7p5_anchored.fits</td><td>../../GalaxyFiles/JWSTLargeFiles/Anchored_8.0_Gauss7.5/ngc1365_F770W_atGauss7p5_anchored.fits</td><td>../../GalaxyFiles/JWSTLargeFiles/Anchored_8.0_Gauss7.5/ngc1365_F1000W_atGauss7p5_anchored.fits</td><td>../../GalaxyFiles/JWSTLargeFiles/Anchored_8.0_Gauss7.5/ngc1365_F1130W_atGauss7p5_anchored.fits</td><td>../../GalaxyFiles/JWSTLargeFiles/Anchored_8.0_Gauss7.5/ngc1365_F2100W_atGauss7p5_anchored.fits</td><td>SN1957C</td><td>Unclassified</td><td>53.38349999999999</td><td>-36.11770833333333</td><td>True</td><td>Unclassified</td><td>No</td><td>200.505604662059</td><td>-1</td><td>Unc</td><td>2.938518960212585e+39</td><td>3.591077078009263e+39</td><td>4.5113659318499504e+39</td><td>0.3792970400406018</td><td>nan</td><td>nan</td><td>nan</td><td>No</td><td>63.37777764994122</td><td>0.8122435748346881</td><td>43.167706995891166</td><td>8.524145454545454</td></tr>\n",
       "</table></div>"
      ],
      "text/plain": [
       "<Table length=4>\n",
       " Galaxy Distance   Gal_ra  ...      gcr_reff          met_theory   \n",
       "  str7  float64   float64  ...      float64            float64     \n",
       "------- -------- --------- ... ------------------ -----------------\n",
       "NGC1566    17.69  65.00159 ... 1.3077334240899299 8.564613863308672\n",
       "NGC4321    15.21 185.72887 ... 7.6678890218115505 8.377299107389277\n",
       "NGC4303    16.99 185.47888 ...  8.415178738219716 8.343714280376968\n",
       "NGC1365    19.57  53.40152 ... 43.167706995891166 8.524145454545454"
      ]
     },
     "execution_count": 5,
     "metadata": {},
     "output_type": "execute_result"
    }
   ],
   "source": [
    "# Compile muse data\n",
    "muse = Table.read('../Data/0.MUSEdata.csv', format = \"csv\")\n",
    "muse_join = join(muse, data, keys=[\"Galaxy\"])\n",
    "muse_join = join(muse_join, hii, keys = [\"Supernova\"])\n",
    "muse_join = join(muse_join, ints, keys = [\"Supernova\"])\n",
    "muse_join[0:4]\n",
    "\n"
   ]
  },
  {
   "cell_type": "code",
   "execution_count": 6,
   "metadata": {},
   "outputs": [],
   "source": [
    "# prep ra and dec, int and a_v values for table columns\n",
    "ra   = [float(x) for x in muse_join[\"SN_ra\"]]\n",
    "ra   = [round(x,4) for x in ra]\n",
    "dec  = [float(x) for x in muse_join[\"SN_dec\"]]\n",
    "dec  = [round(x,4) for x in dec]   \n",
    "int_nat  = [round(x/(10**37)) for x in muse_join[\"int_nat\"]]  \n",
    "a_v  = [round(x,2) for x in muse_join[\"a_v\"]]  \n",
    "r_kpc = [round(x,2) for x in muse_join[\"gcr\"]]  \n",
    "r_eff = [round(x,2) for x in muse_join[\"gcr_reff\"]]\n",
    "lws = [round(x) for x in muse_join[\"halpha_lws\"]]"
   ]
  },
  {
   "cell_type": "code",
   "execution_count": 7,
   "metadata": {},
   "outputs": [],
   "source": [
    "# prep in sample and paper columns \n",
    "inSample, paper = [],[]\n",
    "for i in range(len(muse_join[\"In_Sample\"])):\n",
    "    paper.append(\"?\")\n",
    "    if muse_join[\"In_Sample\"][i] == \"True\":\n",
    "        inSample.append(\"\\checkmark\")\n",
    "    else: \n",
    "        inSample.append(\"-\")  "
   ]
  },
  {
   "cell_type": "code",
   "execution_count": 8,
   "metadata": {},
   "outputs": [],
   "source": [
    "# prep native resolution column\n",
    "nat_res = []\n",
    "for i in range(len(muse_join)):\n",
    "    nat_res.append(str(muse_join[\"MUSE_nat_res\"][i]) + \" (\" + str(muse_join[\"MUSE_phys_res\"][i]) + \")\")\n"
   ]
  },
  {
   "cell_type": "code",
   "execution_count": 9,
   "metadata": {},
   "outputs": [
    {
     "data": {
      "text/html": [
       "<div><i>Table length=111</i>\n",
       "<table id=\"table4830207696\" class=\"table-striped table-bordered table-condensed\">\n",
       "<thead><tr><th>gal_name</th><th>region_ID</th><th>cen_ra</th><th>cen_dec</th><th>flag_edge</th><th>flag_star</th><th>deproj_phi</th><th>region_area</th><th>HB4861_FLUX</th><th>OIII5006_FLUX</th><th>HA6562_FLUX</th><th>NII6583_FLUX</th><th>SII6716_FLUX</th><th>SII6730_FLUX</th><th>SIII9068_FLUX</th><th>OI6300_FLUX</th><th>HB4861_FLUX_ERR</th><th>OIII5006_FLUX_ERR</th><th>HA6562_FLUX_ERR</th><th>NII6583_FLUX_ERR</th><th>SII6716_FLUX_ERR</th><th>SII6730_FLUX_ERR</th><th>SIII9068_FLUX_ERR</th><th>OI6300_FLUX_ERR</th><th>HA6562_SIGMA</th><th>NII6583_SIGMA</th><th>OIII5006_SIGMA</th><th>HA6562_VEL</th><th>NII6583_VEL</th><th>OIII5006_VEL</th><th>HA6562_SIGMA_ERR</th><th>NII6583_SIGMA_ERR</th><th>OIII5006_SIGMA_ERR</th><th>HA6562_VEL_ERR</th><th>NII6583_VEL_ERR</th><th>OIII5006_VEL_ERR</th><th>HB4861_FLUX_CORR</th><th>OIII5006_FLUX_CORR</th><th>HA6562_FLUX_CORR</th><th>NII6583_FLUX_CORR</th><th>SII6716_FLUX_CORR</th><th>SII6730_FLUX_CORR</th><th>SIII9068_FLUX_CORR</th><th>OI6300_FLUX_CORR</th><th>HB4861_FLUX_CORR_ERR</th><th>OIII5006_FLUX_CORR_ERR</th><th>HA6562_FLUX_CORR_ERR</th><th>NII6583_FLUX_CORR_ERR</th><th>SII6716_FLUX_CORR_ERR</th><th>SII6730_FLUX_CORR_ERR</th><th>SIII9068_FLUX_CORR_ERR</th><th>OI6300_FLUX_CORR_ERR</th><th>met_scal</th><th>met_scal_err</th><th>BPT_NII</th><th>BPT_SII</th><th>BPT_OI</th><th>Environment</th><th>Delta_met_scal</th><th>deproj_r_R25</th><th>deproj_r_reff</th><th>EW_HA6562_raw</th><th>EW_HA6562_raw_ERR</th><th>EW_HB4861_raw</th><th>EW_HB4861_raw_ERR</th><th>EW_HA6562_fit</th><th>EW_HA6562_fit_ERR</th><th>EW_HB4861_fit</th><th>EW_HB4861_fit_ERR</th><th>logU</th><th>logU_err</th><th>AV</th><th>AV_ERR</th><th>HA6562_LUM_CORR</th></tr></thead>\n",
       "<thead><tr><th>str32</th><th>float64</th><th>float64</th><th>float64</th><th>float64</th><th>float64</th><th>float64</th><th>float64</th><th>float64</th><th>float64</th><th>float64</th><th>float64</th><th>float64</th><th>float64</th><th>float64</th><th>float64</th><th>float64</th><th>float64</th><th>float64</th><th>float64</th><th>float64</th><th>float64</th><th>float64</th><th>float64</th><th>float64</th><th>float64</th><th>float64</th><th>float64</th><th>float64</th><th>float64</th><th>float64</th><th>float64</th><th>float64</th><th>float64</th><th>float64</th><th>float64</th><th>float64</th><th>float64</th><th>float64</th><th>float64</th><th>float64</th><th>float64</th><th>float64</th><th>float64</th><th>float64</th><th>float64</th><th>float64</th><th>float64</th><th>float64</th><th>float64</th><th>float64</th><th>float64</th><th>float64</th><th>float64</th><th>float64</th><th>float64</th><th>float64</th><th>float64</th><th>float64</th><th>float64</th><th>float64</th><th>float64</th><th>float64</th><th>float64</th><th>float64</th><th>float64</th><th>float64</th><th>float64</th><th>float64</th><th>float64</th><th>float64</th><th>float64</th><th>float64</th><th>float64</th></tr></thead>\n",
       "<tr><td>IC5332</td><td>1.0</td><td>353.6217889985926</td><td>-36.086205660984305</td><td>0.0</td><td>0.0</td><td>0.6454405340574735</td><td>32.0</td><td>1539.2341650021465</td><td>1219.0416061730582</td><td>4121.1986373108</td><td>1476.084225361972</td><td>792.9254230583941</td><td>553.7915648041692</td><td>0.0</td><td>409.1388314208345</td><td>72.04334579496953</td><td>67.78753986403167</td><td>63.36012574499638</td><td>42.45388074223228</td><td>43.89198739851983</td><td>42.96715942103822</td><td>52.852537047392694</td><td>45.25961484572321</td><td>29.355670183624387</td><td>20.60076596820052</td><td>1.0000000000004547</td><td>16.62758507329847</td><td>22.17945502633234</td><td>6.350641875665667</td><td>2.1354674718708075</td><td>4.301285069747231</td><td>336.6408968897181</td><td>1.1122747085471123</td><td>1.7740315531493769</td><td>5.761855482475623</td><td>1539.2341650021465</td><td>1219.0416061730582</td><td>4121.1986373108</td><td>1476.084225361972</td><td>792.9254230583941</td><td>553.7915648041692</td><td>0.0</td><td>409.1388314208345</td><td>72.04334579496953</td><td>67.78753986403167</td><td>63.36012574499638</td><td>42.45388074223228</td><td>43.89198739851983</td><td>42.96715942103822</td><td>nan</td><td>45.25961484572321</td><td>nan</td><td>nan</td><td>0.0</td><td>0.0</td><td>3.0</td><td>9.0</td><td>nan</td><td>0.3415751491467562</td><td>0.7527512481926566</td><td>6.860629680858027</td><td>0.21143634038481388</td><td>-1.3213760584367453</td><td>-0.40228188757079336</td><td>9.520132003761226</td><td>0.4556576542009083</td><td>3.263058487334211</td><td>0.3460152144937209</td><td>nan</td><td>nan</td><td>0.0</td><td>0.0</td><td>4.002986321046122e+35</td></tr>\n",
       "<tr><td>IC5332</td><td>2.0</td><td>353.6220839769834</td><td>-36.12298517170686</td><td>0.0</td><td>0.0</td><td>3.1430314809034154</td><td>30.0</td><td>2971.16135165289</td><td>0.0</td><td>11767.886277696742</td><td>177.89097938247303</td><td>568.4848741059337</td><td>448.33009305663313</td><td>0.0</td><td>304.2578829553127</td><td>76.31829329400553</td><td>45.715872080199546</td><td>82.95389957751453</td><td>35.15246251772309</td><td>35.367342635693554</td><td>35.78791264031514</td><td>38.21000194263814</td><td>33.13318787181186</td><td>105.02138505236137</td><td>27.113437433911812</td><td>1.0000000000004547</td><td>36.97313212960351</td><td>16.568530277047007</td><td>-15.393545817169487</td><td>1.0243705674981567</td><td>7.041511550500124</td><td>4.46662976546243e-14</td><td>0.9423574644351665</td><td>3.2837290437957396</td><td>8.322472509673083e-15</td><td>8423.199515503842</td><td>0.0</td><td>24093.228116320577</td><td>363.2978291923634</td><td>1142.8672790660721</td><td>899.8265115207142</td><td>0.0</td><td>643.3843758861905</td><td>749.9248669139744</td><td>nan</td><td>1422.4891311834986</td><td>74.86105301088647</td><td>96.52990610516578</td><td>88.25693388335675</td><td>nan</td><td>80.38925769131231</td><td>nan</td><td>nan</td><td>-1.0</td><td>-1.0</td><td>-1.0</td><td>9.0</td><td>nan</td><td>0.5034968633355311</td><td>1.1095886023431683</td><td>39.798272349087</td><td>0.45594507917029153</td><td>2.968920806852992</td><td>0.40770707886767193</td><td>41.690107905697566</td><td>2.2121216975076936</td><td>6.60450569902629</td><td>0.5214672641223538</td><td>nan</td><td>nan</td><td>0.9574486905172007</td><td>0.07832516526534104</td><td>2.340213881134546e+36</td></tr>\n",
       "<tr><td>IC5332</td><td>3.0</td><td>353.5993617626245</td><td>-36.083693581872964</td><td>0.0</td><td>0.0</td><td>5.940899821301457</td><td>65.0</td><td>10503.734762881732</td><td>3182.033751213841</td><td>54548.91485705733</td><td>460.34235979495827</td><td>513.48510203354</td><td>299.4557444575221</td><td>0.0</td><td>210.46772594975496</td><td>151.40239615861742</td><td>115.51930596331786</td><td>153.67845130638426</td><td>67.76151403144976</td><td>66.51241196165238</td><td>65.79274471737314</td><td>102.37449651670055</td><td>71.6407333897881</td><td>65.18376602426038</td><td>38.055425319285696</td><td>28.321720130647037</td><td>-1.9419037078944792</td><td>-24.099094369878916</td><td>-9.471845461049353</td><td>0.3140553102165154</td><td>11.620507001211012</td><td>11.351964400086118</td><td>0.26121225853123825</td><td>6.6936527733759</td><td>4.06201169154945</td><td>70873.11546469988</td><td>19953.964835204613</td><td>202741.4711923172</td><td>1703.1177765263078</td><td>1845.7564972157465</td><td>1073.167244303911</td><td>0.0</td><td>829.947981857344</td><td>3484.393269002597</td><td>1156.8101859797093</td><td>6577.822625393724</td><td>256.62706031349734</td><td>246.05098564868243</td><td>238.1827333932439</td><td>nan</td><td>283.8921658748294</td><td>nan</td><td>nan</td><td>0.0</td><td>-1.0</td><td>-1.0</td><td>9.0</td><td>nan</td><td>0.4672139341761448</td><td>1.029629564687653</td><td>35.51832172214641</td><td>0.15505796326079144</td><td>0.4479554591869424</td><td>0.15079189250589586</td><td>37.10257194114484</td><td>0.702962066355266</td><td>3.9624333678453034</td><td>0.14266894611670197</td><td>nan</td><td>nan</td><td>1.754182714409647</td><td>0.04318780519771046</td><td>1.969260419879168e+37</td></tr>\n",
       "<tr><td>IC5332</td><td>4.0</td><td>353.6188400354959</td><td>-36.08445020835999</td><td>0.0</td><td>0.0</td><td>0.47658926503805116</td><td>30.0</td><td>1634.504806375016</td><td>470.4181253623675</td><td>6014.605086495921</td><td>1454.4040777429684</td><td>1169.9174309818545</td><td>906.4618200347692</td><td>516.1414397323472</td><td>177.98928599079062</td><td>56.660460823922314</td><td>53.43989519260175</td><td>74.68146886758288</td><td>49.11021607257959</td><td>45.05743576982444</td><td>44.390435226508416</td><td>78.18712669372704</td><td>42.28280161463783</td><td>18.462856161202957</td><td>25.77761964916162</td><td>53.23477504900339</td><td>23.54368513616995</td><td>25.521906315289463</td><td>-5.0038822366869535</td><td>2.215330510463199</td><td>3.4813261344844633</td><td>14.49724828453282</td><td>0.8209055969170579</td><td>1.7406533449314903</td><td>10.211710140487245</td><td>3661.6879245953996</td><td>1021.7358396613428</td><td>10473.395699214021</td><td>2527.688688646426</td><td>2008.6554069119177</td><td>1554.3382438202018</td><td>712.8734414536265</td><td>317.7867438087969</td><td>449.78774001669575</td><td>163.9463414957518</td><td>858.616390290258</td><td>221.24166045523467</td><td>176.48713210683954</td><td>144.18898957054455</td><td>113.10516543471718</td><td>80.14659278110778</td><td>8.389683793005911</td><td>0.03737184323772001</td><td>0.0</td><td>0.0</td><td>-1.0</td><td>9.0</td><td>0.05537973768136517</td><td>0.3691051489419853</td><td>0.8134208892961394</td><td>16.38591032677142</td><td>0.34986423697297836</td><td>-0.3190186848214601</td><td>-0.40961294572354956</td><td>18.800886343090866</td><td>1.1413152001442604</td><td>4.4398517159737825</td><td>0.41260412806511426</td><td>-1.2530555756833621</td><td>0.12481434301336278</td><td>0.7411092238014467</td><td>0.10827729976705297</td><td>1.0172977186611461e+36</td></tr>\n",
       "<tr><td>IC5332</td><td>5.0</td><td>353.6167477073768</td><td>-36.077332343444404</td><td>0.0</td><td>0.0</td><td>0.34618428001620044</td><td>30.0</td><td>1451.165345338836</td><td>103.20778761230348</td><td>4936.629264725271</td><td>1348.8934188972526</td><td>868.4803952860765</td><td>819.443818414339</td><td>765.2389096223533</td><td>242.6191489926519</td><td>65.10951289630951</td><td>65.61638668365207</td><td>65.02286762335191</td><td>43.446636708460005</td><td>41.590884537830355</td><td>40.071789398544674</td><td>85.49317654206855</td><td>41.290142043788805</td><td>32.280000225859375</td><td>31.929805508195987</td><td>65.87605705340916</td><td>11.942837702883931</td><td>13.155797430986885</td><td>81.94639453063355</td><td>1.6553015699826195</td><td>3.4336580248430266</td><td>11.377014755793082</td><td>0.9455602356243953</td><td>1.862815663712167</td><td>10.388278066618946</td><td>2528.461548146622</td><td>176.0352309162228</td><td>7231.860266966839</td><td>1973.411242566005</td><td>1259.9682139811086</td><td>1187.783370843857</td><td>955.7390397219781</td><td>361.5942735355243</td><td>395.0253672917187</td><td>114.74915237718541</td><td>750.2806893686184</td><td>212.11547851812193</td><td>140.02719349993507</td><td>132.27455341425176</td><td>121.16127167102287</td><td>72.79580118915443</td><td>nan</td><td>nan</td><td>-1.0</td><td>-1.0</td><td>-1.0</td><td>9.0</td><td>nan</td><td>0.5225041988965944</td><td>1.1514762970544126</td><td>15.794391613340723</td><td>0.36825190924980367</td><td>-0.46894362553239977</td><td>-0.5285245980106982</td><td>18.334986987500947</td><td>1.2417368650995932</td><td>4.333850379403903</td><td>0.5003553202076881</td><td>nan</td><td>nan</td><td>0.5101717408751936</td><td>0.1375023823142445</td><td>7.024421842300542e+35</td></tr>\n",
       "<tr><td>IC5332</td><td>6.0</td><td>353.61060688550424</td><td>-36.0958870774218</td><td>0.0</td><td>0.0</td><td>6.005678910565806</td><td>28.0</td><td>2306.4934988880277</td><td>821.8175722985947</td><td>6543.68854686562</td><td>2680.3176341892968</td><td>2561.537756892454</td><td>1668.822093897669</td><td>0.0</td><td>415.2947038470895</td><td>80.81336960876544</td><td>83.91273868788997</td><td>94.65240590672626</td><td>68.73417868636405</td><td>65.44264767136076</td><td>61.78446197337061</td><td>91.44351653544928</td><td>59.76960549218507</td><td>17.717843611542882</td><td>28.885593126036404</td><td>53.24567429602465</td><td>-0.9087544016935075</td><td>-2.7090712748730117</td><td>-44.61088617282851</td><td>2.689546040670296</td><td>2.457130784306177</td><td>22.07818114681868</td><td>0.9313361752795636</td><td>1.2628382131564089</td><td>14.1452652128196</td><td>2306.4934988880277</td><td>821.8175722985947</td><td>6543.68854686562</td><td>2680.3176341892968</td><td>2561.537756892454</td><td>1668.822093897669</td><td>0.0</td><td>415.2947038470895</td><td>80.81336960876544</td><td>83.91273868788997</td><td>94.65240590672626</td><td>68.73417868636405</td><td>65.44264767136076</td><td>61.78446197337061</td><td>nan</td><td>59.76960549218507</td><td>8.454606803294977</td><td>0.013503077614773498</td><td>0.0</td><td>0.0</td><td>0.0</td><td>9.0</td><td>0.03084025838154858</td><td>0.134794874704409</td><td>0.29705618349923285</td><td>6.640294970399535</td><td>0.17609965315183604</td><td>-1.2215057322075291</td><td>-0.2705557285074914</td><td>8.451818535995104</td><td>0.3273516792014082</td><td>2.83277884592287</td><td>0.2236678318616543</td><td>nan</td><td>nan</td><td>0.0</td><td>0.0</td><td>6.355989615531316e+35</td></tr>\n",
       "<tr><td>...</td><td>...</td><td>...</td><td>...</td><td>...</td><td>...</td><td>...</td><td>...</td><td>...</td><td>...</td><td>...</td><td>...</td><td>...</td><td>...</td><td>...</td><td>...</td><td>...</td><td>...</td><td>...</td><td>...</td><td>...</td><td>...</td><td>...</td><td>...</td><td>...</td><td>...</td><td>...</td><td>...</td><td>...</td><td>...</td><td>...</td><td>...</td><td>...</td><td>...</td><td>...</td><td>...</td><td>...</td><td>...</td><td>...</td><td>...</td><td>...</td><td>...</td><td>...</td><td>...</td><td>...</td><td>...</td><td>...</td><td>...</td><td>...</td><td>...</td><td>...</td><td>...</td><td>...</td><td>...</td><td>...</td><td>...</td><td>...</td><td>...</td><td>...</td><td>...</td><td>...</td><td>...</td><td>...</td><td>...</td><td>...</td><td>...</td><td>...</td><td>...</td><td>...</td><td>...</td><td>...</td><td>...</td><td>...</td><td>...</td></tr>\n",
       "<tr><td>IC5332</td><td>105.0</td><td>353.5977635026869</td><td>-36.0893801109858</td><td>0.0</td><td>0.0</td><td>5.696986727789517</td><td>51.0</td><td>14126.849895337673</td><td>7555.5833793585625</td><td>44651.58588279481</td><td>11945.790994800049</td><td>8164.515540570302</td><td>5443.038443644641</td><td>3002.340846675096</td><td>875.1058688567591</td><td>119.53332919208573</td><td>95.1209038086471</td><td>158.43462588170505</td><td>91.15451605628566</td><td>86.25832787557428</td><td>79.91835383544635</td><td>95.8580188578337</td><td>56.02022694731532</td><td>17.739155844227017</td><td>20.633454184524627</td><td>1.0000000000004547</td><td>-18.56429312288915</td><td>-16.292100829251467</td><td>-12.351359361056403</td><td>0.5367963188599812</td><td>0.9379011655565053</td><td>43.75367831563633</td><td>0.20300333474426915</td><td>0.38658971965595545</td><td>1.0107344340061923</td><td>19454.616837704332</td><td>10278.101526779448</td><td>55642.24504724677</td><td>14874.714968426451</td><td>10117.333621045953</td><td>6741.509852328946</td><td>3412.721028064325</td><td>1101.3810295783903</td><td>594.5137172591151</td><td>317.76680054253615</td><td>1140.759471537518</td><td>320.10408291176566</td><td>225.97243234608226</td><td>165.26944791620437</td><td>116.11231234394894</td><td>74.23745503951962</td><td>8.4500428317042</td><td>0.008633446137784497</td><td>0.0</td><td>0.0</td><td>0.0</td><td>9.0</td><td>0.12190883576499445</td><td>0.38526508718297364</td><td>0.8490335903723346</td><td>77.98378532208221</td><td>0.6647348577186313</td><td>16.907000991769667</td><td>0.44300325311681443</td><td>80.49724956196428</td><td>3.9043576884600517</td><td>20.03872207560536</td><td>1.224443747244845</td><td>-1.2445285284878054</td><td>0.027622962757457334</td><td>0.2940303453053833</td><td>0.026980549537522523</td><td>5.40462048540728e+36</td></tr>\n",
       "<tr><td>IC5332</td><td>106.0</td><td>353.62574453152996</td><td>-36.10348091584304</td><td>0.0</td><td>0.0</td><td>2.099844437093615</td><td>48.0</td><td>1313.908103358468</td><td>637.9206986785009</td><td>5868.870960618656</td><td>1796.0024441692115</td><td>2197.455306582385</td><td>1213.0734779760576</td><td>187.93623053009836</td><td>152.4060940982433</td><td>114.22005127930015</td><td>117.78526425268183</td><td>157.54743810559071</td><td>116.61321866185563</td><td>114.78837153920682</td><td>112.4846611528246</td><td>166.92238358382068</td><td>100.81197383594025</td><td>33.78561729629695</td><td>59.36648745011674</td><td>71.52507439755595</td><td>7.233577907122814</td><td>21.062437977778824</td><td>-133.3450060115679</td><td>3.2455134259098664</td><td>5.103575513946798</td><td>21.844965171594325</td><td>1.8991081672214232</td><td>3.8815777173789137</td><td>18.717928311050482</td><td>5473.059734280061</td><td>2515.682510576854</td><td>15655.511005469976</td><td>4774.526603664996</td><td>5717.268525151192</td><td>3149.0188505906135</td><td>332.735296693089</td><td>424.9411980192183</td><td>1663.1268695182973</td><td>843.7608540053573</td><td>3162.6971493897545</td><td>1001.8176789861936</td><td>1154.8998756629778</td><td>679.0123471987756</td><td>298.06555501782464</td><td>294.8153348742915</td><td>8.37839994234861</td><td>nan</td><td>0.0</td><td>0.0</td><td>-1.0</td><td>9.0</td><td>-0.02404281812929554</td><td>0.19064377631480342</td><td>0.42013402011126</td><td>4.7419686198864355</td><td>0.2310129656930997</td><td>-1.8711630412842988</td><td>-0.33949251285933485</td><td>6.791410340653201</td><td>0.37893827677356184</td><td>1.683811926898686</td><td>0.24485948100223937</td><td>nan</td><td>nan</td><td>1.3110076598943048</td><td>0.2675388579861754</td><td>1.5206448880313256e+36</td></tr>\n",
       "<tr><td>IC5332</td><td>107.0</td><td>353.6186780267578</td><td>-36.08339343896859</td><td>0.0</td><td>0.0</td><td>0.4575740567012071</td><td>30.0</td><td>735.5285655956296</td><td>153.45908953800296</td><td>2466.56028139977</td><td>346.10534721930543</td><td>482.5016938179853</td><td>299.60205473569744</td><td>0.0</td><td>239.41053486719215</td><td>65.8890615716227</td><td>42.70989440442469</td><td>75.52072587059364</td><td>41.95981986629441</td><td>42.143035467976304</td><td>41.4952800304833</td><td>79.12812050534679</td><td>38.45429246697243</td><td>126.31924277557214</td><td>29.301342466873834</td><td>1.0000000000004547</td><td>10.748573645654798</td><td>27.92420869593369</td><td>34.33023082741389</td><td>5.622922765092941</td><td>8.437143951381696</td><td>1133.6420272513355</td><td>4.912308167778573</td><td>4.473638306182485</td><td>22.942581922152538</td><td>1224.1318384163133</td><td>250.45684161090787</td><td>3501.2214797904903</td><td>490.6868983363808</td><td>678.8208744657304</td><td>421.1638849649739</td><td>0.0</td><td>345.24762020442216</td><td>386.7512270546636</td><td>100.91358740589642</td><td>737.2782315929935</td><td>117.96940275065295</td><td>150.0378811812971</td><td>103.34615377726405</td><td>nan</td><td>93.41296348024545</td><td>nan</td><td>nan</td><td>-1.0</td><td>-1.0</td><td>-1.0</td><td>9.0</td><td>nan</td><td>0.39168906227168593</td><td>0.8631905197580525</td><td>4.96260186331022</td><td>0.23560142981881674</td><td>-1.0664741458967484</td><td>-0.3842373346529754</td><td>6.765439507811753</td><td>0.3937441925414852</td><td>2.2000440759274493</td><td>0.2797687135655486</td><td>nan</td><td>nan</td><td>0.468047028658911</td><td>0.2783793236757079</td><td>3.4007925664315e+35</td></tr>\n",
       "<tr><td>IC5332</td><td>108.0</td><td>353.6159457205695</td><td>-36.096894682358574</td><td>0.0</td><td>0.0</td><td>0.5309310416193257</td><td>137.0</td><td>85702.55766989777</td><td>10964.769700684566</td><td>282518.44935869524</td><td>81829.53007548724</td><td>37142.00488157295</td><td>25831.18472887889</td><td>15408.061656826161</td><td>2358.9731313605007</td><td>344.1994164275993</td><td>215.78122676181016</td><td>463.37598880353545</td><td>254.55041131639928</td><td>203.80069776685605</td><td>194.5051018663561</td><td>321.6608918538225</td><td>177.8458105224587</td><td>13.7610488486044</td><td>21.951907253305368</td><td>4.100501903922154</td><td>12.567365691347572</td><td>13.442883543001427</td><td>22.649249151009588</td><td>0.2989505799478371</td><td>0.4114678963745831</td><td>9.55926220530976</td><td>0.09188006506600464</td><td>0.17673943503753578</td><td>1.0417536351124488</td><td>135025.07871952548</td><td>16976.38817312379</td><td>386191.8467867183</td><td>111735.67748100357</td><td>50369.3986629102</td><td>35005.26781994464</td><td>18483.622396997453</td><td>3270.3983770383647</td><td>1951.5254338162888</td><td>403.71530755670125</td><td>3741.071663983324</td><td>1118.418189351254</td><td>544.0758410535487</td><td>418.39653655129626</td><td>399.3106003816669</td><td>248.70917357386304</td><td>8.524834454246152</td><td>0.003416911198324388</td><td>0.0</td><td>0.0</td><td>0.0</td><td>9.0</td><td>0.08555860783707736</td><td>0.09417462477197222</td><td>0.2075387115317326</td><td>49.63970535017827</td><td>0.1447011821454171</td><td>9.458899115686608</td><td>0.1189869991108451</td><td>51.544001941104426</td><td>0.704340178930536</td><td>12.99894851368601</td><td>0.2466628285115914</td><td>-1.1954976317220742</td><td>0.01681821295008514</td><td>0.41767714830533786</td><td>0.012756807307076179</td><td>3.7511433348321462e+37</td></tr>\n",
       "<tr><td>IC5332</td><td>109.0</td><td>353.608725552696</td><td>-36.08126684738434</td><td>0.0</td><td>0.0</td><td>0.038620416882084355</td><td>31.0</td><td>1214.2438334868948</td><td>647.4093747866607</td><td>3675.622925203469</td><td>740.4580693449534</td><td>956.2378246278622</td><td>706.9439722159121</td><td>156.13660688716257</td><td>278.54835231109087</td><td>62.78451256674151</td><td>60.834389616820715</td><td>68.67466742904394</td><td>45.22580616187819</td><td>47.011007386058246</td><td>46.49792216785892</td><td>100.20060816184598</td><td>45.48138892885189</td><td>22.60889738454863</td><td>30.586834162711643</td><td>92.53293957156218</td><td>1.8390931751004391</td><td>10.032999289770952</td><td>-22.69861027996411</td><td>2.940605846107871</td><td>4.908509455774572</td><td>19.35977040901868</td><td>1.2623301573190369</td><td>2.5772023982106442</td><td>13.642358600825519</td><td>1456.2087765686501</td><td>771.0254451074466</td><td>4164.843846698228</td><td>838.6457918757725</td><td>1080.0718038660277</td><td>798.2645594432352</td><td>167.91911672629124</td><td>317.4061589423243</td><td>267.05716049895886</td><td>149.2257739455455</td><td>509.89096089155004</td><td>113.34994626069602</td><td>137.9818433117333</td><td>107.58604486182801</td><td>108.40930423327372</td><td>65.55011776886381</td><td>8.27971214550968</td><td>0.06327097512030916</td><td>0.0</td><td>0.0</td><td>0.0</td><td>9.0</td><td>-0.022835037854489926</td><td>0.4522792413706411</td><td>0.9967170162226981</td><td>11.240891694722604</td><td>0.37194335271767337</td><td>1.1346254925504455</td><td>0.5431934741758763</td><td>13.463362543977142</td><td>0.989807767413255</td><td>4.269257171513696</td><td>0.4908502280438941</td><td>nan</td><td>nan</td><td>0.16696396540106945</td><td>0.16166887949373757</td><td>4.0453796127878355e+35</td></tr>\n",
       "<tr><td>IC5332</td><td>110.0</td><td>353.60415481927197</td><td>-36.090374588037555</td><td>0.0</td><td>0.0</td><td>5.890586250833624</td><td>32.0</td><td>2137.8840046609835</td><td>319.33457327772334</td><td>6446.5885129542685</td><td>1580.1328827620719</td><td>2001.3370883694413</td><td>1254.2733040816227</td><td>0.0</td><td>375.14888156220775</td><td>60.7451065357085</td><td>51.089450506945084</td><td>79.53137227711865</td><td>54.02121270338082</td><td>51.138430973192364</td><td>48.20678708300692</td><td>73.29368013143329</td><td>46.506838552670764</td><td>7.188354072528288</td><td>23.545408039851136</td><td>1.0000000000004547</td><td>-11.960002324963698</td><td>-9.66482771026558</td><td>31.244049941776495</td><td>4.821649964936285</td><td>3.039823142978834</td><td>858.367394715645</td><td>0.7405630478437871</td><td>1.329262373303123</td><td>12.288188503567094</td><td>2532.373289009728</td><td>375.8094684412969</td><td>7242.72818605779</td><td>1774.5534880937537</td><td>2241.8444040117947</td><td>1404.6271126428394</td><td>0.0</td><td>423.6978322584751</td><td>261.1564485040454</td><td>69.98948388456249</td><td>501.7612456132213</td><td>134.95484077062272</td><td>159.57488275823044</td><td>107.61740924054918</td><td>nan</td><td>60.581520765429985</td><td>8.293510353821482</td><td>0.03428274450645009</td><td>0.0</td><td>0.0</td><td>0.0</td><td>9.0</td><td>-0.06797276693330012</td><td>0.29792074189334583</td><td>0.6565472074970711</td><td>11.143633200359155</td><td>0.2419885329245359</td><td>1.1480229471842744</td><td>0.32213405622276325</td><td>13.306217376314354</td><td>0.624597984380503</td><td>4.465462918742147</td><td>0.32122609443235434</td><td>nan</td><td>nan</td><td>0.1555940290212473</td><td>0.09108822094740565</td><td>7.034978026383846e+35</td></tr>\n",
       "<tr><td>IC5332</td><td>111.0</td><td>353.60716120813896</td><td>-36.12315980899339</td><td>0.0</td><td>0.0</td><td>3.6786889785206633</td><td>52.0</td><td>11664.022299893071</td><td>3172.380760237278</td><td>37068.532883421714</td><td>7238.28820731411</td><td>9305.685782594619</td><td>6395.596831053666</td><td>1459.731059350261</td><td>943.5120395156925</td><td>91.24883630262391</td><td>69.36860090925525</td><td>123.11645650168101</td><td>65.59960497555115</td><td>61.19263391887411</td><td>57.14380452528112</td><td>86.03261322564794</td><td>48.276222872544544</td><td>18.479456361051362</td><td>27.049906165808434</td><td>37.97757672630354</td><td>-23.158571368415075</td><td>-21.446245878761367</td><td>-22.084162501829137</td><td>0.479100247882504</td><td>0.637266946425719</td><td>4.340358078294288</td><td>0.19046686572006688</td><td>0.32538804676647054</td><td>2.217105897359993</td><td>16345.422167828048</td><td>4388.440207826706</td><td>46749.71552755586</td><td>9121.310414938458</td><td>11666.950917020997</td><td>8014.163691518587</td><td>1670.877219138879</td><td>1202.4443761376015</td><td>462.61425572070283</td><td>149.61170030709087</td><td>888.0794974255094</td><td>189.03989937885615</td><td>226.07917040930514</td><td>162.3773613211574</td><td>100.14382731879705</td><td>65.86176453961302</td><td>8.270625669225046</td><td>0.00863786935999449</td><td>0.0</td><td>0.0</td><td>0.0</td><td>9.0</td><td>-0.016395617440421617</td><td>0.492942955626473</td><td>1.0863302733308013</td><td>55.81173494033552</td><td>0.35152632040491144</td><td>7.629702280130256</td><td>0.2175410399410516</td><td>58.1426297698302</td><td>1.821968569737769</td><td>11.824878164308936</td><td>0.4210564109520387</td><td>-1.8785238414931706</td><td>0.044930366112607444</td><td>0.31004692559376884</td><td>0.024991739533940113</td><td>4.5408748337283933e+36</td></tr>\n",
       "</table></div>"
      ],
      "text/plain": [
       "<Table length=111>\n",
       "gal_name region_ID ...        AV_ERR           HA6562_LUM_CORR    \n",
       " str32    float64  ...       float64               float64        \n",
       "-------- --------- ... -------------------- ----------------------\n",
       "  IC5332       1.0 ...                  0.0  4.002986321046122e+35\n",
       "  IC5332       2.0 ...  0.07832516526534104  2.340213881134546e+36\n",
       "  IC5332       3.0 ...  0.04318780519771046  1.969260419879168e+37\n",
       "  IC5332       4.0 ...  0.10827729976705297 1.0172977186611461e+36\n",
       "  IC5332       5.0 ...   0.1375023823142445  7.024421842300542e+35\n",
       "  IC5332       6.0 ...                  0.0  6.355989615531316e+35\n",
       "     ...       ... ...                  ...                    ...\n",
       "  IC5332     105.0 ... 0.026980549537522523   5.40462048540728e+36\n",
       "  IC5332     106.0 ...   0.2675388579861754 1.5206448880313256e+36\n",
       "  IC5332     107.0 ...   0.2783793236757079    3.4007925664315e+35\n",
       "  IC5332     108.0 ... 0.012756807307076179 3.7511433348321462e+37\n",
       "  IC5332     109.0 ...  0.16166887949373757 4.0453796127878355e+35\n",
       "  IC5332     110.0 ...  0.09108822094740565  7.034978026383846e+35\n",
       "  IC5332     111.0 ... 0.024991739533940113 4.5408748337283933e+36"
      ]
     },
     "execution_count": 9,
     "metadata": {},
     "output_type": "execute_result"
    }
   ],
   "source": [
    "# prep line width and BPT columns\n",
    "hdu = pyfits.open('../Data/0.Nebulae_catalogue_public.fits')\n",
    "header = hdu[1].header\n",
    "neb = Table(hdu[1].data)\n",
    "neb[0:111]"
   ]
  },
  {
   "cell_type": "code",
   "execution_count": 10,
   "metadata": {},
   "outputs": [],
   "source": [
    "# prep nebular columns, match on region ID\n",
    "bpt_nii, bpt_sii, bpt_oi, met,r25 = [],[],[],[],[]\n",
    "for i in range(len(muse_join)):\n",
    "    idxID = np.where(neb[\"region_ID\"] == muse_join[\"hii_val\"][i]) # find unique region index\n",
    "    idxGal = np.where(neb[\"gal_name\"] == muse_join[\"Galaxy\"][i])  # for just the one galaxy\n",
    "    idx = np.intersect1d(idxID, idxGal)\n",
    "    if len(idx) > 0:\n",
    "        bpt_nii.append(neb[\"BPT_NII\"][idx][0])\n",
    "        bpt_sii.append(neb[\"BPT_SII\"][idx][0])\n",
    "        bpt_oi.append(neb[\"BPT_OI\"][idx][0])\n",
    "#         met.append(str(round(neb[\"met_scal\"][idx][0],2)))\n",
    "        met.append(str(round(muse_join[\"met_theory\"][i],2)) + \" (\"+ str(round(neb[\"met_scal\"][idx][0],2)) + \")\")\n",
    "        r25.append(round(neb[\"deproj_r_R25\"][idx][0],2))\n",
    "    else:\n",
    "        bpt_nii.append(\"-\")\n",
    "        bpt_sii.append(\"-\")\n",
    "        bpt_oi.append(\"-\")\n",
    "        met.append(str(round(muse_join[\"met_theory\"][i],2)))\n",
    "        r25.append(\"-\")\n"
   ]
  },
  {
   "cell_type": "code",
   "execution_count": 11,
   "metadata": {},
   "outputs": [],
   "source": [
    "# make column for HII region identifier\n",
    "hii_id = []\n",
    "for i in range(len(muse_join)):\n",
    "    hii_str = muse_join[\"in_HII\"][i] + \" (\" + str(muse_join[\"hii_val\"][i]) + \")\"\n",
    "    hii_id.append(hii_str)\n",
    "    "
   ]
  },
  {
   "cell_type": "code",
   "execution_count": 12,
   "metadata": {},
   "outputs": [],
   "source": [
    "# make Table for Latex Table\n",
    "texTable = Table({\"Galaxy\"    : data[\"Galaxy\"],\n",
    "                  \"Supernova\" : data[\"Supernova\"],\n",
    "                  \"Type\"      : data[\"Type\"],\n",
    "                  \"Ra\"        : ra,\n",
    "                  \"Dec\"       : dec,\n",
    "                  \"In Sample\" : inSample,\n",
    "                  \"Reference\" : paper})"
   ]
  },
  {
   "cell_type": "code",
   "execution_count": 13,
   "metadata": {},
   "outputs": [],
   "source": [
    "ascii.write(texTable, '../Data/2.SNeHa_objects_table.tex', format='latex', fast_writer=False, overwrite = True)  "
   ]
  },
  {
   "cell_type": "code",
   "execution_count": 14,
   "metadata": {},
   "outputs": [],
   "source": [
    "snr = np.empty(len(muse_join),dtype=str)\n",
    "snr.fill(\"-\")\n",
    "\n",
    "texTable = Table({\"Supernova\"  : muse_join[\"Supernova\"],\n",
    "                  \"Type\"       : muse_join[\"Type\"],\n",
    "                  \"NatRes\"     : nat_res,\n",
    "                  \"Halpha\"     : int_nat,\n",
    "                  \"lineWidth\"  : lws,\n",
    "                  \"A_v\"        : a_v,\n",
    "                  \"HII\"        : hii_id,\n",
    "                  \"BPT_NII\"    : bpt_nii,\n",
    "                  \"BPT_SII\"    : bpt_sii,\n",
    "                  \"BPT_OI\"     : bpt_oi,\n",
    "#                   \"SNR\"        : snr,\n",
    "                  \"CO\"         : muse_join[\"co\"],\n",
    "                  \"Metal\"      : met,\n",
    "                  \"R_gal\"      : r_kpc,\n",
    "                  \"R_eff\"      : r_eff})\n",
    "\n",
    "ascii.write(texTable, '../Data/2.SNeHa_measurements_table.tex', format='latex', fast_writer=False, overwrite = True)  \n"
   ]
  },
  {
   "cell_type": "code",
   "execution_count": 15,
   "metadata": {},
   "outputs": [
    {
     "data": {
      "text/html": [
       "<div><i>Table length=33</i>\n",
       "<table id=\"table5074033232\" class=\"table-striped table-bordered table-condensed\">\n",
       "<thead><tr><th>Supernova</th><th>Type</th><th>NatRes</th><th>Halpha</th><th>lineWidth</th><th>A_v</th><th>HII</th><th>BPT_NII</th><th>BPT_SII</th><th>BPT_OI</th><th>CO</th><th>Metal</th><th>R_gal</th><th>R_eff</th></tr></thead>\n",
       "<thead><tr><th>str11</th><th>str12</th><th>str10</th><th>int64</th><th>int64</th><th>float64</th><th>str10</th><th>str32</th><th>str32</th><th>str32</th><th>str3</th><th>str11</th><th>float64</th><th>float64</th></tr></thead>\n",
       "<tr><td>ASASSN-14ha</td><td>II</td><td>0.8 (80)</td><td>621</td><td>57</td><td>0.86</td><td>Yes (877)</td><td>0.0</td><td>0.0</td><td>0.0</td><td>Yes</td><td>8.56 (8.61)</td><td>0.05</td><td>1.31</td></tr>\n",
       "<tr><td>SN1901B</td><td>I</td><td>1.16 (43)</td><td>211</td><td>53</td><td>0.92</td><td>No (-1)</td><td>-</td><td>-</td><td>-</td><td>Yes</td><td>8.38</td><td>0.57</td><td>7.67</td></tr>\n",
       "<tr><td>SN1926A</td><td>II</td><td>0.78 (73)</td><td>82</td><td>67</td><td>0.0</td><td>No (-1)</td><td>-</td><td>-</td><td>-</td><td>No</td><td>8.34</td><td>0.35</td><td>8.42</td></tr>\n",
       "<tr><td>SN1957C</td><td>Unclassified</td><td>1.15 (76)</td><td>294</td><td>63</td><td>0.38</td><td>No (-1)</td><td>-</td><td>-</td><td>-</td><td>No</td><td>8.52</td><td>0.81</td><td>43.17</td></tr>\n",
       "<tr><td>SN1959E</td><td>I</td><td>1.16 (43)</td><td>361</td><td>55</td><td>1.07</td><td>No (-1)</td><td>-</td><td>-</td><td>-</td><td>Yes</td><td>8.48</td><td>0.3</td><td>3.98</td></tr>\n",
       "<tr><td>SN1961I</td><td>II</td><td>0.78 (73)</td><td>415</td><td>58</td><td>0.35</td><td>Yes (373)</td><td>0.0</td><td>0.0</td><td>0.0</td><td>No</td><td>8.3 (8.56)</td><td>0.4</td><td>9.73</td></tr>\n",
       "<tr><td>...</td><td>...</td><td>...</td><td>...</td><td>...</td><td>...</td><td>...</td><td>...</td><td>...</td><td>...</td><td>...</td><td>...</td><td>...</td><td>...</td></tr>\n",
       "<tr><td>SN2017gax</td><td>Ib/c</td><td>0.96 (104)</td><td>419</td><td>501</td><td>0.0</td><td>Yes (429)</td><td>-1.0</td><td>-1.0</td><td>-1.0</td><td>Yes</td><td>8.44 (nan)</td><td>0.36</td><td>9.98</td></tr>\n",
       "<tr><td>SN2019ehk</td><td>Ib</td><td>1.16 (43)</td><td>104</td><td>76</td><td>1.47</td><td>Yes (1722)</td><td>1.0</td><td>0.0</td><td>0.0</td><td>No</td><td>8.55 (nan)</td><td>0.12</td><td>1.59</td></tr>\n",
       "<tr><td>SN2020jfo</td><td>II P</td><td>0.78 (73)</td><td>220</td><td>57</td><td>0.92</td><td>No (-1)</td><td>-</td><td>-</td><td>-</td><td>No</td><td>8.35</td><td>0.35</td><td>8.37</td></tr>\n",
       "<tr><td>SN2020oi</td><td>Ic</td><td>1.16 (43)</td><td>5473</td><td>66</td><td>1.01</td><td>Yes (1693)</td><td>0.0</td><td>0.0</td><td>0.0</td><td>Yes</td><td>8.58 (8.58)</td><td>0.02</td><td>0.28</td></tr>\n",
       "<tr><td>SN2021aefx</td><td>Ia</td><td>0.8 (80)</td><td>13</td><td>73</td><td>0.0</td><td>No (-1)</td><td>-</td><td>-</td><td>-</td><td>No</td><td>8.26</td><td>0.35</td><td>9.59</td></tr>\n",
       "<tr><td>SN2022aau</td><td>II</td><td>0.96 (104)</td><td>9695</td><td>76</td><td>2.35</td><td>Yes (803)</td><td>0.0</td><td>0.0</td><td>0.0</td><td>Yes</td><td>8.55 (8.61)</td><td>0.05</td><td>1.32</td></tr>\n",
       "<tr><td>SN2022acko</td><td>II</td><td>0.89 (83)</td><td>34</td><td>66</td><td>0.3</td><td>No (-1)</td><td>-</td><td>-</td><td>-</td><td>No</td><td>8.19</td><td>0.38</td><td>5.35</td></tr>\n",
       "</table></div>"
      ],
      "text/plain": [
       "<Table length=33>\n",
       " Supernova      Type       NatRes   Halpha ...  CO     Metal     R_gal   R_eff \n",
       "   str11       str12       str10    int64  ... str3    str11    float64 float64\n",
       "----------- ------------ ---------- ------ ... ---- ----------- ------- -------\n",
       "ASASSN-14ha           II   0.8 (80)    621 ...  Yes 8.56 (8.61)    0.05    1.31\n",
       "    SN1901B            I  1.16 (43)    211 ...  Yes        8.38    0.57    7.67\n",
       "    SN1926A           II  0.78 (73)     82 ...   No        8.34    0.35    8.42\n",
       "    SN1957C Unclassified  1.15 (76)    294 ...   No        8.52    0.81   43.17\n",
       "    SN1959E            I  1.16 (43)    361 ...  Yes        8.48     0.3    3.98\n",
       "    SN1961I           II  0.78 (73)    415 ...   No  8.3 (8.56)     0.4    9.73\n",
       "        ...          ...        ...    ... ...  ...         ...     ...     ...\n",
       "  SN2017gax         Ib/c 0.96 (104)    419 ...  Yes  8.44 (nan)    0.36    9.98\n",
       "  SN2019ehk           Ib  1.16 (43)    104 ...   No  8.55 (nan)    0.12    1.59\n",
       "  SN2020jfo         II P  0.78 (73)    220 ...   No        8.35    0.35    8.37\n",
       "   SN2020oi           Ic  1.16 (43)   5473 ...  Yes 8.58 (8.58)    0.02    0.28\n",
       " SN2021aefx           Ia   0.8 (80)     13 ...   No        8.26    0.35    9.59\n",
       "  SN2022aau           II 0.96 (104)   9695 ...  Yes 8.55 (8.61)    0.05    1.32\n",
       " SN2022acko           II  0.89 (83)     34 ...   No        8.19    0.38    5.35"
      ]
     },
     "execution_count": 15,
     "metadata": {},
     "output_type": "execute_result"
    }
   ],
   "source": [
    "texTable"
   ]
  },
  {
   "cell_type": "code",
   "execution_count": null,
   "metadata": {},
   "outputs": [],
   "source": []
  },
  {
   "cell_type": "code",
   "execution_count": null,
   "metadata": {},
   "outputs": [],
   "source": []
  }
 ],
 "metadata": {
  "kernelspec": {
   "display_name": "Python 3 (ipykernel)",
   "language": "python",
   "name": "python3"
  },
  "language_info": {
   "codemirror_mode": {
    "name": "ipython",
    "version": 3
   },
   "file_extension": ".py",
   "mimetype": "text/x-python",
   "name": "python",
   "nbconvert_exporter": "python",
   "pygments_lexer": "ipython3",
   "version": "3.11.5"
  }
 },
 "nbformat": 4,
 "nbformat_minor": 2
}
