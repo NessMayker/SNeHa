{
 "cells": [
  {
   "cell_type": "raw",
   "metadata": {},
   "source": [
    "This notebook reads in the full SN catalog (1.FullCatalog.csv') and searches through MUSE map images, looking for OSC objects that have gone off in their footprint. \n",
    "\n",
    "It then converts the ra & dec coordinates to map pixels and measures the pixel intensity there and plots them."
   ]
  },
  {
   "cell_type": "code",
   "execution_count": 1,
   "metadata": {},
   "outputs": [],
   "source": [
    "import warnings\n",
    "warnings.filterwarnings('ignore')"
   ]
  },
  {
   "cell_type": "code",
   "execution_count": 1,
   "metadata": {},
   "outputs": [],
   "source": [
    "#import packages and formatting statements\n",
    "import numpy as np\n",
    "import matplotlib.pyplot as plt\n",
    "import math\n",
    "from astropy import table\n",
    "from astropy.table import Table, join, unique, Column\n",
    "from astropy.io import ascii\n",
    "import astropy.io.fits as pyfits\n",
    "from astropy.wcs import WCS\n",
    "import os\n",
    "\n",
    "plt.rc('text',usetex=False)\n",
    "fontsize=20\n",
    "plt.rc('xtick',labelsize=fontsize)\n",
    "plt.rc('ytick',labelsize=fontsize)"
   ]
  },
  {
   "cell_type": "code",
   "execution_count": 4,
   "metadata": {},
   "outputs": [
    {
     "name": "stdout",
     "output_type": "stream",
     "text": [
      "NGC0628\n",
      "NGC0628\n",
      "NGC1087\n",
      "NGC1300\n",
      "NGC1365\n",
      "NGC1365\n",
      "NGC1365\n",
      "NGC1365\n",
      "NGC1433\n",
      "NGC1566\n",
      "NGC1566\n",
      "NGC1566\n",
      "NGC1672\n",
      "NGC1672\n",
      "NGC3627\n",
      "NGC3627\n",
      "NGC3627\n",
      "NGC3627\n",
      "NGC3627\n",
      "NGC4254\n",
      "NGC4254\n",
      "NGC4254\n",
      "NGC4254\n",
      "NGC4303\n",
      "NGC4303\n",
      "NGC4303\n",
      "NGC4303\n",
      "NGC4303\n",
      "NGC4303\n",
      "NGC4303\n",
      "NGC4321\n",
      "NGC4321\n",
      "NGC4321\n",
      "NGC4321\n",
      "NGC4321\n",
      "NGC4321\n",
      "NGC4321\n"
     ]
    }
   ],
   "source": [
    "# Compile galaxy and OSC objects\n",
    "DataFile = '../Data/2.MUSEMasterCat.csv'\n",
    "Data = Table.read(DataFile, format='csv') \n",
    "Data[0:5]\n",
    "for i in range(len(Data)):\n",
    "    print(Data[\"Galaxy\"][i])\n"
   ]
  },
  {
   "cell_type": "code",
   "execution_count": null,
   "metadata": {},
   "outputs": [],
   "source": [
    "I think we want to get distances and scalebar stuff set up first. \n",
    "Add distances up the pipeline to the fist notebook \n",
    "Add the scalebars to the second notebook and then come back to this."
   ]
  },
  {
   "cell_type": "code",
   "execution_count": null,
   "metadata": {},
   "outputs": [],
   "source": [
    "Plot Zooms"
   ]
  }
 ],
 "metadata": {
  "kernelspec": {
   "display_name": "Python 3 (ipykernel)",
   "language": "python",
   "name": "python3"
  },
  "language_info": {
   "codemirror_mode": {
    "name": "ipython",
    "version": 3
   },
   "file_extension": ".py",
   "mimetype": "text/x-python",
   "name": "python",
   "nbconvert_exporter": "python",
   "pygments_lexer": "ipython3",
   "version": "3.9.13"
  }
 },
 "nbformat": 4,
 "nbformat_minor": 2
}
