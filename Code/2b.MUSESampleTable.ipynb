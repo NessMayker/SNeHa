{
 "cells": [
  {
   "cell_type": "markdown",
   "metadata": {},
   "source": [
    "This notebook makes the latex table for the SNeHa sample"
   ]
  },
  {
   "cell_type": "code",
   "execution_count": 1,
   "metadata": {},
   "outputs": [],
   "source": [
    "#import packages and formatting statements\n",
    "\n",
    "import numpy as np\n",
    "from matplotlib import pyplot as plt\n",
    "import astropy.io.fits as pyfits\n",
    "from astropy.table import Table, join\n",
    "from astropy.wcs import WCS\n",
    "from astropy.io import ascii\n",
    "import os\n",
    "\n",
    "import warnings\n",
    "warnings.filterwarnings('ignore')\n"
   ]
  },
  {
   "cell_type": "code",
   "execution_count": 2,
   "metadata": {
    "scrolled": true
   },
   "outputs": [
    {
     "data": {
      "text/html": [
       "<i>Table length=2</i>\n",
       "<table id=\"table140268129463408\" class=\"table-striped table-bordered table-condensed\">\n",
       "<thead><tr><th>Galaxy</th><th>Supernova</th><th>Type</th><th>Ra</th><th>Dec</th><th>MUSERes</th><th>MUSENatMap</th><th>MUSE150pcMap</th><th>MUSE150pcInt</th><th>InSample</th></tr></thead>\n",
       "<thead><tr><th>str7</th><th>str11</th><th>str12</th><th>float64</th><th>float64</th><th>float64</th><th>str80</th><th>str78</th><th>float64</th><th>str5</th></tr></thead>\n",
       "<tr><td>NGC0628</td><td>SN2013ej</td><td>II</td><td>24.200670833333334</td><td>15.758611111111112</td><td>0.92</td><td>/data/fourier/sun.1608/PHANGS/MUSE/DR2.2/MUSEDAP/copt/NGC0628-0.92asec_MAPS.fits</td><td>/data/fourier/sun.1608/PHANGS/MUSE/DR2.2/MUSEDAP/150pc/NGC0628-150pc_MAPS.fits</td><td>nan</td><td>False</td></tr>\n",
       "<tr><td>NGC0628</td><td>SN2019krl</td><td>IIn/LBV</td><td>24.2067875</td><td>15.77946388888889</td><td>0.92</td><td>/data/fourier/sun.1608/PHANGS/MUSE/DR2.2/MUSEDAP/copt/NGC0628-0.92asec_MAPS.fits</td><td>/data/fourier/sun.1608/PHANGS/MUSE/DR2.2/MUSEDAP/150pc/NGC0628-150pc_MAPS.fits</td><td>88.1635392637121</td><td>False</td></tr>\n",
       "</table>"
      ],
      "text/plain": [
       "<Table length=2>\n",
       " Galaxy Supernova   Type  ...   MUSE150pcInt   InSample\n",
       "  str7    str11    str12  ...     float64        str5  \n",
       "------- --------- ------- ... ---------------- --------\n",
       "NGC0628  SN2013ej      II ...              nan    False\n",
       "NGC0628 SN2019krl IIn/LBV ... 88.1635392637121    False"
      ]
     },
     "execution_count": 2,
     "metadata": {},
     "output_type": "execute_result"
    }
   ],
   "source": [
    "# Compile galaxy and OSC objects\n",
    "\n",
    "dataFile = '../Data/2.MUSEMasterCat.csv'\n",
    "data = Table.read(dataFile, format = \"csv\")\n",
    "\n",
    "data[0:2]"
   ]
  },
  {
   "cell_type": "code",
   "execution_count": 14,
   "metadata": {},
   "outputs": [],
   "source": [
    "# make Table for Latex Table\n",
    "ra   = [float(x) for x in data[\"Ra\"]]\n",
    "ra   = [round(x,4) for x in ra]\n",
    "dec  = [float(x) for x in data[\"Dec\"]]\n",
    "dec  = [round(x,4) for x in dec]\n",
    "int150  = [float(x) for x in data[\"MUSE150pcInt\"]]\n",
    "int150  = [round(x,0) for x in int150]\n",
    "\n",
    "inSample, inESO, inMUSE, paper = [],[],[],[]\n",
    "for i in range(len(data[\"InSample\"])):\n",
    "    paper.append(\"?\")\n",
    "    if data[\"InSample\"][i] == \"True\":\n",
    "        inSample.append(\"\\checkmark\")\n",
    "    else: \n",
    "        inSample.append(\"-\")      \n",
    "\n",
    "texTable = Table({\"Galaxy\"    : data[\"Galaxy\"],\n",
    "                  \"Supernova\" : data[\"Supernova\"],\n",
    "                  \"Type\"      : data[\"Type\"],\n",
    "                  \"Ra\"        : ra,\n",
    "                  \"Dec\"       : dec,\n",
    "                  \"In Sample\" : inSample,\n",
    "                  \"150pc Intensity\": int150,\n",
    "                  \"Reference\" : paper})"
   ]
  },
  {
   "cell_type": "code",
   "execution_count": 15,
   "metadata": {},
   "outputs": [],
   "source": [
    "ascii.write(texTable, '../Data/2.SNeHaMaster.tex', format='latex', fast_writer=False, overwrite = True)  "
   ]
  },
  {
   "cell_type": "code",
   "execution_count": 20,
   "metadata": {},
   "outputs": [
    {
     "data": {
      "text/plain": [
       "[Text(0.5, 1.0, 'Intensity Values')]"
      ]
     },
     "execution_count": 20,
     "metadata": {},
     "output_type": "execute_result"
    },
    {
     "data": {
      "image/png": "[encoded data removed]",
      "text/plain": [
       "<Figure size 432x288 with 1 Axes>"
      ]
     },
     "metadata": {
      "needs_background": "light"
     },
     "output_type": "display_data"
    }
   ],
   "source": [
    "import seaborn as sns\n",
    "\n",
    "sns.histplot(int150).set(title = \"Intensity Values\")"
   ]
  },
  {
   "cell_type": "code",
   "execution_count": null,
   "metadata": {},
   "outputs": [],
   "source": []
  }
 ],
 "metadata": {
  "kernelspec": {
   "display_name": "Python 3",
   "language": "python",
   "name": "python3"
  },
  "language_info": {
   "codemirror_mode": {
    "name": "ipython",
    "version": 3
   },
   "file_extension": ".py",
   "mimetype": "text/x-python",
   "name": "python",
   "nbconvert_exporter": "python",
   "pygments_lexer": "ipython3",
   "version": "3.8.10"
  }
 },
 "nbformat": 4,
 "nbformat_minor": 2
}
