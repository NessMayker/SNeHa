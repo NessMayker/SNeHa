{
 "cells": [
  {
   "cell_type": "raw",
   "metadata": {},
   "source": [
    "This notebook measures and saves intensities at SN sites for native, 150pc and 1kpc maps.\n",
    "We are using the \"HA_FLUX\" extension for this section (Figure 4) so that we can compare across resolutions. "
   ]
  },
  {
   "cell_type": "code",
   "execution_count": 1,
   "metadata": {},
   "outputs": [],
   "source": [
    "#import global packages\n",
    "import numpy as np\n",
    "from matplotlib import pyplot as plt\n",
    "import astropy.io.fits as pyfits\n",
    "from astropy.table import Table, join, Column\n",
    "from astropy.wcs import WCS\n",
    "from astropy.io import ascii\n",
    "\n",
    "# import local packages\n",
    "import os, sys\n",
    "sys.path.append('./Python')\n",
    "from getMapValue import getValue\n",
    "\n",
    "#H-alpha attenuation corrected flux extension\n",
    "ext = \"HA_FLUX_CORR\""
   ]
  },
  {
   "cell_type": "code",
   "execution_count": 2,
   "metadata": {},
   "outputs": [
    {
     "data": {
      "text/html": [
       "<div><i>Table length=1</i>\n",
       "<table id=\"table5061262736\" class=\"table-striped table-bordered table-condensed\">\n",
       "<thead><tr><th>col0</th><th>galaxy</th><th>distance</th><th>gal_ra</th><th>gal_dec</th><th>pos_ang</th><th>incl</th><th>nat_res</th><th>maps_nat</th><th>maps_150</th><th>maps_1kpc</th><th>maps_HII</th><th>maps_irac</th><th>maps_CO21</th><th>maps_eCO21</th><th>sn_name</th><th>sn_type</th><th>sn_ra</th><th>sn_dec</th></tr></thead>\n",
       "<thead><tr><th>int64</th><th>str7</th><th>float64</th><th>float64</th><th>float64</th><th>float64</th><th>float64</th><th>float64</th><th>str58</th><th>str64</th><th>str63</th><th>str50</th><th>str40</th><th>str72</th><th>str73</th><th>str82</th><th>str50</th><th>str127</th><th>str132</th></tr></thead>\n",
       "<tr><td>0</td><td>NGC1087</td><td>15.85</td><td>41.60492</td><td>-0.498717</td><td>359.1</td><td>42.9</td><td>0.92</td><td>../../GalaxyFiles/MUSELargeFiles/SFR/copt/NGC1087_sfr.fits</td><td>../../GalaxyFiles/MUSELargeFiles/SFR/copt/NGC1087_sfr_150pc.fits</td><td>../../GalaxyFiles/MUSELargeFiles/SFR/copt/NGC1087_sfr_1kpc.fits</td><td>../Data/HII_reg_masks/NGC1087_nebulae_mask_V2.fits</td><td>../Data/IRAC/ngc1087_irac1_atGauss4.fits</td><td>../../GalaxyFiles/ALMACO2-1/ngc1087_12m+7m+tp_co21_150pc_broad_mom0.fits</td><td>../../GalaxyFiles/ALMACO2-1/ngc1087_12m+7m+tp_co21_150pc_broad_emom0.fits</td><td>[&apos;SN1995V&apos;]</td><td>[&apos;II&apos;]</td><td>[41.61152777777777]</td><td>[-0.4987861111111111]</td></tr>\n",
       "</table></div>"
      ],
      "text/plain": [
       "<Table length=1>\n",
       " col0  galaxy distance ... sn_type        sn_ra                sn_dec       \n",
       "int64   str7  float64  ...  str50         str127               str132       \n",
       "----- ------- -------- ... ------- ------------------- ---------------------\n",
       "    0 NGC1087    15.85 ...  ['II'] [41.61152777777777] [-0.4987861111111111]"
      ]
     },
     "execution_count": 2,
     "metadata": {},
     "output_type": "execute_result"
    }
   ],
   "source": [
    "# Compile galaxy and sne data\n",
    "data = Table.read('../Data/1.GroupedSampleData.csv', format='csv')\n",
    "\n",
    "data[0:1]"
   ]
  },
  {
   "cell_type": "code",
   "execution_count": 3,
   "metadata": {},
   "outputs": [],
   "source": [
    "# prepare lists for getValue method\n",
    "\n",
    "centerCoords = [(float(data[\"gal_ra\"][i]), float(data[\"gal_dec\"][i])) for i in range(len(data))] \n",
    "    \n",
    "sn_ras, sn_decs, sn_names = [],[],[]\n",
    "for i in range(len(data)):\n",
    "    sn_ras.append(data[\"sn_ra\"][i][1:-1].replace(\",\",\"\").split(\" \"))\n",
    "    sn_decs.append(data[\"sn_dec\"][i][1:-1].replace(\",\",\"\").split(\" \"))\n",
    "    sn_names.append(data[\"sn_name\"][i][1:-1].replace(\",\",\"\").replace(\"'\",\"\").split(\" \"))\n",
    "\n",
    "for i in range(len(sn_ras)):\n",
    "    sn_ras[i] = [float(ele) for ele in sn_ras[i]]\n",
    "    sn_decs[i] = [float(ele) for ele in sn_decs[i]]\n",
    "    \n",
    "sn_name = np.hstack(sn_names)"
   ]
  },
  {
   "cell_type": "code",
   "execution_count": 4,
   "metadata": {},
   "outputs": [
    {
     "name": "stdout",
     "output_type": "stream",
     "text": [
      "Native Intensities\n",
      "-------------------\n",
      "[8.839672735197591e+39, 3.445745101042276e+38, 8.904660571183651e+37, 1.3530435354080875e+39, 1.4845660990817182e+40, 2.938518960212585e+39, 2.4790371281538853e+38, 1.263977781860364e+38, 3.8272402829093126e+38, 6.206906305070956e+39, 9.694817596411935e+40, 4.185157273316843e+39, 1.1176985848142032e+40, 1.2565095465358724e+40, 5.177867242845618e+39, 3.0814818947082474e+40, 9.927623759273137e+38, 1.4346514342074687e+40, 3.6180321930942297e+39, 5.1524628176390714e+39, 3.366146687872796e+40, 1.2852723829328137e+40, 8.237240338373292e+38, 4.150635721869112e+39, 2.9303903692530505e+38, 2.199480578104416e+39, 3.314915130256522e+39, 8.951255433113478e+38, 3.664262269436105e+38, 3.606657809150872e+39, 2.1120944464704693e+39, 5.473226299514552e+40, 1.0400343563277594e+39]\n",
      "\n",
      "150pc Intensities\n",
      "-------------------\n",
      "[9.098356574390131e+39, 5.543860583782077e+38, 9.61137910255348e+37, 1.8635576999760546e+39, 1.2147806235754843e+40, 3.591077078009263e+39, 2.5539187987566293e+38, 1.6517725129681728e+38, 7.612922852139554e+38, 1.2762259220392566e+40, 1.0642714910585425e+41, 5.875525325021214e+39, 9.38490903118108e+39, 2.2486133848057684e+40, 6.214955247532292e+39, 3.1356728600308767e+40, 8.718512596314148e+38, 1.240779377010253e+40, 4.0058221740563716e+39, 8.87915540700291e+39, 4.551894303728355e+40, 2.698822794975705e+40, 1.3527879572025055e+39, 5.616622648974493e+39, 5.915877208248966e+38, 1.7369472115878387e+39, 5.0060971152955296e+39, 1.2104713775083824e+39, 5.360398338175515e+38, 4.5106692808882e+39, 1.906234489817827e+39, 5.423781627640945e+40, 7.554060685290443e+38]\n",
      "\n",
      "1kpc Intensities\n",
      "-------------------\n",
      "[5.626363456901733e+39, 7.868984950864679e+38, 2.866850419201407e+38, 4.641739419198077e+39, 1.5745029644344602e+39, 4.5113659318499504e+39, 3.5918628424433485e+38, 2.6011293280284877e+38, 4.093381793956729e+39, 5.346720109001179e+39, 1.028422574762654e+41, 3.198043337942508e+39, 9.346342680785747e+39, 2.951569447621463e+40, 5.856808668725864e+39, 3.6211288248182755e+40, 1.0788403299448137e+39, 1.3336822700075117e+40, 2.255988672668333e+39, 1.1674103958803707e+40, 1.778240111870612e+40, 1.3659059125568437e+40, 2.5296318481363346e+39, 2.4358662684650992e+39, 1.0700036848511285e+39, 3.04301857351049e+39, 9.40643826722596e+39, 5.085551358668022e+39, 1.2127521789045132e+39, 8.596318696254096e+39, 4.6543019931292686e+39, 3.678375945878026e+40, 1.3650434603830136e+39]\n",
      "\n",
      "A_V\n",
      "-------------------\n",
      "[1.2788075992834158, 0.3049447396212661, 0.0, 0.17916425772905134, 0.9452981371543961, 0.3792970400406018, 0.23807412216935414, 0.0, 0.2583469600901398, 0.8637144049713334, 2.3533109304351405, 0.0, 1.174365603892914, 0.8105934792037327, 1.3588176996109647, 1.0336519588638895, 0.7841303040183983, 1.6514610239153436, 0.7766379130010229, 0.5184795746619125, 1.469457784883008, 0.41227280120707366, 0.0, 0.3528427329786138, 0.0, 0.9232910293667482, 0.32560772737337573, 0.27866560361769, 0.5388520283027971, 1.0740332476125958, 0.9233767955195454, 1.012613925156846, 1.4739685371415991]\n",
      "\n"
     ]
    }
   ],
   "source": [
    "# get intensity and extinction values for each SN\n",
    "\n",
    "int_nat, int_150, int_1kpc, a_v = [],[],[],[]\n",
    "for i in range(len(sn_ras)):\n",
    "    if len(sn_ras[i]) < 1:\n",
    "        int_nat.append(getValue(data[\"maps_nat\"][i], ext, sn_ras[i], sn_decs[i]))\n",
    "        int_150.append(getValue(data[\"maps_150\"][i], ext, sn_ras[i], sn_decs[i]))\n",
    "        int_1kpc.append(getValue(data[\"maps_1kpc\"][i], ext, sn_ras[i], sn_decs[i]))\n",
    "        a_v.append(3.1 * (getValue(data[\"maps_nat\"][i], \"EBV\", sn_ras[i], sn_decs[i])))\n",
    "\n",
    "    else:\n",
    "        for j in range(len(sn_ras[i])):\n",
    "            int_nat.append(getValue(data[\"maps_nat\"][i], ext, sn_ras[i][j], sn_decs[i][j]))\n",
    "            int_150.append(getValue(data[\"maps_150\"][i], ext, sn_ras[i][j], sn_decs[i][j]))\n",
    "            int_1kpc.append(getValue(data[\"maps_1kpc\"][i], ext, sn_ras[i][j], sn_decs[i][j]))\n",
    "            a_v.append(3.1 * (getValue(data[\"maps_nat\"][i], \"EBV\", sn_ras[i][j], sn_decs[i][j])))\n",
    "\n",
    "\n",
    "print(\"Native Intensities\")\n",
    "print(\"-------------------\")\n",
    "print(int_nat)\n",
    "print()\n",
    "print(\"150pc Intensities\")\n",
    "print(\"-------------------\")\n",
    "print(int_150)\n",
    "print()\n",
    "print(\"1kpc Intensities\")\n",
    "print(\"-------------------\")\n",
    "print(int_1kpc)\n",
    "print()\n",
    "print(\"A_V\")\n",
    "print(\"-------------------\")\n",
    "print(a_v)\n",
    "print()"
   ]
  },
  {
   "cell_type": "code",
   "execution_count": 5,
   "metadata": {},
   "outputs": [],
   "source": [
    "intensities = Table({\"Supernova\": sn_name,\n",
    "                    \"int_nat\" : int_nat,\n",
    "                    \"int_150\" : int_150,\n",
    "                    \"int_1kpc\": int_1kpc,\n",
    "                    \"a_v\"     : a_v})\n",
    "\n",
    "intensities.write(\"../Data/1.sn_ints_exts.csv\", format = \"csv\", overwrite = True)"
   ]
  },
  {
   "cell_type": "code",
   "execution_count": null,
   "metadata": {},
   "outputs": [],
   "source": []
  }
 ],
 "metadata": {
  "kernelspec": {
   "display_name": "Python 3 (ipykernel)",
   "language": "python",
   "name": "python3"
  },
  "language_info": {
   "codemirror_mode": {
    "name": "ipython",
    "version": 3
   },
   "file_extension": ".py",
   "mimetype": "text/x-python",
   "name": "python",
   "nbconvert_exporter": "python",
   "pygments_lexer": "ipython3",
   "version": "3.11.5"
  }
 },
 "nbformat": 4,
 "nbformat_minor": 2
}
