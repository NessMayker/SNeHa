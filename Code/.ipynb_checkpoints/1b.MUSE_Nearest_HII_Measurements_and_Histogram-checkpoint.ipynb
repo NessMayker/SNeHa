{
 "cells": [
  {
   "cell_type": "raw",
   "metadata": {},
   "source": [
    "This notebook finds the nearest HII region to each SN and makes histogram."
   ]
  },
  {
   "cell_type": "code",
   "execution_count": 1,
   "metadata": {},
   "outputs": [],
   "source": [
    "#import packages and formatting statements\n",
    "\n",
    "import numpy as np\n",
    "import math\n",
    "import seaborn as sns\n",
    "import matplotlib as mpl\n",
    "from matplotlib import pyplot as plt\n",
    "from astropy.table import Table\n",
    "import os, sys\n",
    "sys.path.append('./Python')\n",
    "from FindNearestHIIRegion import nearestHII\n",
    "\n",
    "plt.rc('text',usetex=False)\n",
    "fontsize=10\n",
    "plt.rc('xtick',labelsize=fontsize)\n",
    "plt.rc('ytick',labelsize=fontsize)"
   ]
  },
  {
   "cell_type": "code",
   "execution_count": 2,
   "metadata": {},
   "outputs": [
    {
     "data": {
      "text/html": [
       "<div><i>Table length=1</i>\n",
       "<table id=\"table10862918096\" class=\"table-striped table-bordered table-condensed\">\n",
       "<thead><tr><th>col0</th><th>galaxy</th><th>distance</th><th>gal_ra</th><th>gal_dec</th><th>pos_ang</th><th>incl</th><th>nat_res</th><th>maps_nat</th><th>maps_150</th><th>maps_1kpc</th><th>maps_HII</th><th>maps_irac</th><th>maps_CO21</th><th>maps_eCO21</th><th>sn_name</th><th>sn_type</th><th>sn_ra</th><th>sn_dec</th></tr></thead>\n",
       "<thead><tr><th>int64</th><th>str7</th><th>float64</th><th>float64</th><th>float64</th><th>float64</th><th>float64</th><th>float64</th><th>str58</th><th>str64</th><th>str63</th><th>str50</th><th>str40</th><th>str72</th><th>str73</th><th>str82</th><th>str50</th><th>str127</th><th>str132</th></tr></thead>\n",
       "<tr><td>0</td><td>NGC1087</td><td>15.85</td><td>41.60492</td><td>-0.498717</td><td>359.1</td><td>42.9</td><td>0.92</td><td>../../GalaxyFiles/MUSELargeFiles/SFR/copt/NGC1087_sfr.fits</td><td>../../GalaxyFiles/MUSELargeFiles/SFR/copt/NGC1087_sfr_150pc.fits</td><td>../../GalaxyFiles/MUSELargeFiles/SFR/copt/NGC1087_sfr_1kpc.fits</td><td>../Data/HII_reg_masks/NGC1087_nebulae_mask_V2.fits</td><td>../Data/IRAC/ngc1087_irac1_atGauss4.fits</td><td>../../GalaxyFiles/ALMACO2-1/ngc1087_12m+7m+tp_co21_150pc_broad_mom0.fits</td><td>../../GalaxyFiles/ALMACO2-1/ngc1087_12m+7m+tp_co21_150pc_broad_emom0.fits</td><td>[&apos;SN1995V&apos;]</td><td>[&apos;II&apos;]</td><td>[41.61152777777777]</td><td>[-0.4987861111111111]</td></tr>\n",
       "</table></div>"
      ],
      "text/plain": [
       "<Table length=1>\n",
       " col0  galaxy distance ... sn_type        sn_ra                sn_dec       \n",
       "int64   str7  float64  ...  str50         str127               str132       \n",
       "----- ------- -------- ... ------- ------------------- ---------------------\n",
       "    0 NGC1087    15.85 ...  ['II'] [41.61152777777777] [-0.4987861111111111]"
      ]
     },
     "execution_count": 2,
     "metadata": {},
     "output_type": "execute_result"
    }
   ],
   "source": [
    "# Compile galaxy and sne data\n",
    "data = Table.read('../Data/1.GroupedSampleData.csv', format='csv')\n",
    "\n",
    "data[0:1]\n"
   ]
  },
  {
   "cell_type": "code",
   "execution_count": 3,
   "metadata": {},
   "outputs": [],
   "source": [
    "# prepare lists for nearest HII method\n",
    "\n",
    "centerCoords = [(float(data[\"gal_ra\"][i]), float(data[\"gal_dec\"][i])) for i in range(len(data))] \n",
    "    \n",
    "sn_ras, sn_decs, sn_names = [],[],[]\n",
    "for i in range(len(data)):\n",
    "    sn_ras.append(data[\"sn_ra\"][i][1:-1].replace(\",\",\"\").split(\" \"))\n",
    "    sn_decs.append(data[\"sn_dec\"][i][1:-1].replace(\",\",\"\").split(\" \"))\n",
    "    sn_names.append(data[\"sn_name\"][i][1:-1].replace(\",\",\"\").replace(\"'\",\"\").split(\" \"))\n",
    "\n",
    "for i in range(len(sn_ras)):\n",
    "    sn_ras[i] = [float(ele) for ele in sn_ras[i]]\n",
    "    sn_decs[i] = [float(ele) for ele in sn_decs[i]]\n",
    "    \n",
    "# manually clean names array to group peculiar SNe into specified classes.    \n",
    "sn_types = ['II', 'II', 'Ia', 'II', 'SESNe', 'Unclassified', 'II', 'Ia', 'Ia', 'II', 'II', 'SESNe', 'II', 'Ia', 'II', 'II', 'II', 'II', 'II', 'II', 'SESNe', 'II', 'II', 'II', 'II', 'II', 'II', 'Ia', 'Ia', 'Unclassified', 'Unclassified', 'SESNe', 'SESNe']\n"
   ]
  },
  {
   "cell_type": "code",
   "execution_count": 4,
   "metadata": {},
   "outputs": [],
   "source": [
    "# Find nearest HII region for each SN\n",
    "in_HII, nearHII, HIIra, HIIdec, sn_hii_name, hii_vals = [],[],[],[],[],[]\n",
    "\n",
    "for i in range(len(data[\"galaxy\"])):\n",
    "    if os.path.isfile(data[\"maps_nat\"][i]) and os.path.isfile(data[\"maps_HII\"][i]):\n",
    "\n",
    "        # find nearest HII regions to each SN in galaxy\n",
    "        inHII, near, ra, dec, hii_val = nearestHII(data[\"galaxy\"][i], data[\"maps_HII\"][i], 0, centerCoords[i], float(data[\"pos_ang\"][i]), \n",
    "                                   float(data[\"incl\"][i]), float(data[\"distance\"][i]), sn_ras[i], sn_decs[i])\n",
    "\n",
    "    for j in range(len(near)):\n",
    "        sn_hii_name.append(sn_names[i][j])\n",
    "        in_HII.append(inHII[j])\n",
    "        nearHII.append(near[j])\n",
    "        HIIra.append(ra[j])\n",
    "        HIIdec.append(dec[j])\n",
    "        hii_vals.append(hii_val[j])\n",
    "\n",
    "\n",
    "# print(nearHII, HIIra, HIIdec)\n"
   ]
  },
  {
   "cell_type": "code",
   "execution_count": 5,
   "metadata": {},
   "outputs": [
    {
     "data": {
      "text/plain": [
       "[731,\n",
       " -1,\n",
       " -1,\n",
       " -1,\n",
       " 385,\n",
       " -1,\n",
       " -1,\n",
       " -1,\n",
       " -1,\n",
       " 877,\n",
       " 803,\n",
       " 429,\n",
       " 433,\n",
       " 390,\n",
       " -1,\n",
       " 396,\n",
       " 961,\n",
       " -1,\n",
       " -1,\n",
       " -1,\n",
       " 1309,\n",
       " 58,\n",
       " -1,\n",
       " 373,\n",
       " -1,\n",
       " -1,\n",
       " -1,\n",
       " -1,\n",
       " -1,\n",
       " -1,\n",
       " -1,\n",
       " 1693,\n",
       " 1722]"
      ]
     },
     "execution_count": 5,
     "metadata": {},
     "output_type": "execute_result"
    }
   ],
   "source": [
    "hii_vals"
   ]
  },
  {
   "cell_type": "code",
   "execution_count": 6,
   "metadata": {},
   "outputs": [],
   "source": [
    "# clean up distances array and assign 0.1 in place of zero so we can plot in logscale\n",
    "hii_dists = []\n",
    "\n",
    "for i in range(len(nearHII)):\n",
    "    if nearHII[i] < 0.1:\n",
    "        val = 0.1\n",
    "    else:\n",
    "        val = nearHII[i].item()\n",
    "    hii_dists.append(val)\n",
    "        "
   ]
  },
  {
   "cell_type": "code",
   "execution_count": 7,
   "metadata": {},
   "outputs": [],
   "source": [
    "# separate the SNe by type\n",
    "IInear, Ianear, Ibcnear, Uncnear = [],[],[],[]\n",
    "\n",
    "for i in range(len(sn_types)):\n",
    "        if \"Ia\" in sn_types[i]:\n",
    "            Ianear.append(nearHII[i])\n",
    "        elif \"II\" in sn_types[i]:\n",
    "            IInear.append(nearHII[i])\n",
    "        elif (\"SESNe\" in sn_types[i]):\n",
    "            Ibcnear.append(nearHII[i])\n",
    "        else:\n",
    "            Uncnear.append(nearHII[i])\n",
    "        \n",
    "# print(len(Ianear), len(IInear), len(Ibcnear), len(Uncnear))\n"
   ]
  },
  {
   "cell_type": "code",
   "execution_count": 8,
   "metadata": {},
   "outputs": [
    {
     "data": {
      "image/png": "[encoded data removed]",
      "text/plain": [
       "<Figure size 500x500 with 1 Axes>"
      ]
     },
     "metadata": {},
     "output_type": "display_data"
    }
   ],
   "source": [
    "\n",
    "f, ax = plt.subplots(figsize=(5, 5))\n",
    "sns.despine(f)\n",
    "\n",
    "sns.histplot(\n",
    "    x=hii_dists, hue=sn_types,\n",
    "    multiple=\"stack\",     \n",
    "    bins=8,\n",
    "    palette=\"rocket\",\n",
    "    edgecolor=\".3\",\n",
    "    kde=True,\n",
    "    linewidth=.5,\n",
    "    log_scale=True,\n",
    "    \n",
    ")\n",
    "ax.xaxis.set_major_formatter(mpl.ticker.ScalarFormatter())\n",
    "ax.set_xticks([1,10, 100, 1000])\n",
    "ax.axvspan(0.1,36.36,color='grey',alpha=0.1)\n",
    "ax.set_ylabel(\"Number of SNe\")\n",
    "ax.set_xlabel(\"Distance to nearest HII region [pc]\")\n",
    "plt.tight_layout()\n",
    "plt.savefig(\"../Figures/HIIdistHistKDE.png\", dpi=300)\n",
    "plt.show()\n",
    "plt.close()"
   ]
  },
  {
   "cell_type": "code",
   "execution_count": 9,
   "metadata": {},
   "outputs": [
    {
     "data": {
      "text/html": [
       "<div><i>Table length=1</i>\n",
       "<table id=\"table11738405328\" class=\"table-striped table-bordered table-condensed\">\n",
       "<thead><tr><th>sn_name</th><th>sn_type</th><th>in_HII</th><th>hii_dist</th><th>hii_val</th></tr></thead>\n",
       "<thead><tr><th>str11</th><th>str12</th><th>str3</th><th>float64</th><th>int32</th></tr></thead>\n",
       "<tr><td>SN1995V</td><td>II</td><td>Yes</td><td>0.1</td><td>731</td></tr>\n",
       "</table></div>"
      ],
      "text/plain": [
       "<Table length=1>\n",
       "sn_name sn_type in_HII hii_dist hii_val\n",
       " str11   str12   str3  float64   int32 \n",
       "------- ------- ------ -------- -------\n",
       "SN1995V      II    Yes      0.1     731"
      ]
     },
     "execution_count": 9,
     "metadata": {},
     "output_type": "execute_result"
    }
   ],
   "source": [
    "distances = Table({\"sn_name\"  : sn_hii_name,\n",
    "                    \"sn_type\" : sn_types,\n",
    "                    \"in_HII\"  : in_HII,\n",
    "                    \"hii_dist\": hii_dists,\n",
    "                    \"hii_val\" : hii_vals})\n",
    "\n",
    "distances.write(\"../Data/sn_hii_dists.csv\", format = \"csv\", overwrite = True)\n",
    "\n",
    "distances[0:1]\n"
   ]
  },
  {
   "cell_type": "code",
   "execution_count": null,
   "metadata": {},
   "outputs": [],
   "source": []
  }
 ],
 "metadata": {
  "kernelspec": {
   "display_name": "Python 3 (ipykernel)",
   "language": "python",
   "name": "python3"
  },
  "language_info": {
   "codemirror_mode": {
    "name": "ipython",
    "version": 3
   },
   "file_extension": ".py",
   "mimetype": "text/x-python",
   "name": "python",
   "nbconvert_exporter": "python",
   "pygments_lexer": "ipython3",
   "version": "3.11.5"
  }
 },
 "nbformat": 4,
 "nbformat_minor": 2
}
