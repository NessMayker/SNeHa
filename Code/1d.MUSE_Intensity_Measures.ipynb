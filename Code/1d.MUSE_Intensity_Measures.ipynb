{
 "cells": [
  {
   "cell_type": "raw",
   "metadata": {},
   "source": [
    "This notebook measures and saves intensities, CO emission, and other variables at SN sites for native, 150pc and 1kpc maps.\n"
   ]
  },
  {
   "cell_type": "code",
   "execution_count": 1,
   "metadata": {},
   "outputs": [],
   "source": [
    "#import global packages\n",
    "import numpy as np\n",
    "from matplotlib import pyplot as plt\n",
    "import astropy.io.fits as pyfits\n",
    "from astropy.table import Table, join, Column\n",
    "from astropy.wcs import WCS\n",
    "from astropy.io import ascii\n",
    "\n",
    "# import local packages\n",
    "import os, sys\n",
    "sys.path.append('./Python')\n",
    "from getMapValue import getValue\n",
    "from GalactocentricRadius import gc, gcr\n",
    "\n",
    "#H-alpha attenuation corrected flux extension\n",
    "ext = \"HA_FLUX_CORR\""
   ]
  },
  {
   "cell_type": "code",
   "execution_count": 2,
   "metadata": {},
   "outputs": [
    {
     "data": {
      "text/html": [
       "<div><i>Table length=1</i>\n",
       "<table id=\"table4399658512\" class=\"table-striped table-bordered table-condensed\">\n",
       "<thead><tr><th>col0</th><th>galaxy</th><th>distance</th><th>gal_ra</th><th>gal_dec</th><th>pos_ang</th><th>incl</th><th>nat_res</th><th>r_eff</th><th>maps_musedap</th><th>maps_nat</th><th>maps_150</th><th>maps_1kpc</th><th>maps_HII</th><th>maps_irac</th><th>maps_CO21</th><th>maps_eCO21</th><th>maps_ext</th><th>maps_vdisp</th><th>maps_HST</th><th>JWST200</th><th>JWST300</th><th>JWST335</th><th>JWST360</th><th>JWST770</th><th>JWST1000</th><th>JWST1130</th><th>JWST2100</th><th>sn_name</th><th>sn_type</th><th>sn_ra</th><th>sn_dec</th><th>Intercept</th><th>Intercept_error</th><th>Slope</th><th>Slope_error</th><th>Value</th><th>Sigma</th></tr></thead>\n",
       "<thead><tr><th>int64</th><th>str7</th><th>float64</th><th>float64</th><th>float64</th><th>float64</th><th>float64</th><th>float64</th><th>float64</th><th>str71</th><th>str58</th><th>str64</th><th>str63</th><th>str50</th><th>str40</th><th>str72</th><th>str73</th><th>str36</th><th>str32</th><th>str45</th><th>str93</th><th>str93</th><th>str93</th><th>str93</th><th>str93</th><th>str94</th><th>str94</th><th>str94</th><th>str82</th><th>str50</th><th>str127</th><th>str132</th><th>float64</th><th>float64</th><th>float64</th><th>float64</th><th>float64</th><th>float64</th></tr></thead>\n",
       "<tr><td>0</td><td>NGC1087</td><td>15.85</td><td>41.60492</td><td>-0.498717</td><td>359.1</td><td>42.9</td><td>0.92</td><td>42.091877</td><td>../../GalaxyFiles/MUSELargeFiles/MUSE2.2_Nat/NGC1087-0.92asec_MAPS.fits</td><td>../../GalaxyFiles/MUSELargeFiles/SFR/copt/NGC1087_sfr.fits</td><td>../../GalaxyFiles/MUSELargeFiles/SFR/copt/NGC1087_sfr_150pc.fits</td><td>../../GalaxyFiles/MUSELargeFiles/SFR/copt/NGC1087_sfr_1kpc.fits</td><td>../Data/HII_reg_masks/NGC1087_nebulae_mask_V2.fits</td><td>../Data/IRAC/ngc1087_irac1_atGauss4.fits</td><td>../../GalaxyFiles/ALMACO2-1/ngc1087_12m+7m+tp_co21_150pc_broad_mom0.fits</td><td>../../GalaxyFiles/ALMACO2-1/ngc1087_12m+7m+tp_co21_150pc_broad_emom0.fits</td><td>../Data/SFR_v1/NGC1087_MAPS_sfr.fits</td><td>../Data/vdisp/ngc1087_vdisp.fits</td><td>../../GalaxyFiles/HST/ngc1087_hst_ha_sic.fits</td><td>../../GalaxyFiles/JWSTLargeFiles/Anchored_8.0_Gauss7.5/ngc1087_F200W_atGauss7p5_anchored.fits</td><td>../../GalaxyFiles/JWSTLargeFiles/Anchored_8.0_Gauss7.5/ngc1087_F300W_atGauss7p5_anchored.fits</td><td>../../GalaxyFiles/JWSTLargeFiles/Anchored_8.0_Gauss7.5/ngc1087_F330W_atGauss7p5_anchored.fits</td><td>../../GalaxyFiles/JWSTLargeFiles/Anchored_8.0_Gauss7.5/ngc1087_F365W_atGauss7p5_anchored.fits</td><td>../../GalaxyFiles/JWSTLargeFiles/Anchored_8.0_Gauss7.5/ngc1087_F770W_atGauss7p5_anchored.fits</td><td>../../GalaxyFiles/JWSTLargeFiles/Anchored_8.0_Gauss7.5/ngc1087_F1000W_atGauss7p5_anchored.fits</td><td>../../GalaxyFiles/JWSTLargeFiles/Anchored_8.0_Gauss7.5/ngc1087_F1130W_atGauss7p5_anchored.fits</td><td>../../GalaxyFiles/JWSTLargeFiles/Anchored_8.0_Gauss7.5/ngc1087_F2100W_atGauss7p5_anchored.fits</td><td>[&apos;SN1995V&apos;]</td><td>[&apos;II&apos;]</td><td>[41.61152777777777]</td><td>[-0.4987861111111111]</td><td>8.479</td><td>0.0</td><td>-0.07</td><td>0.01</td><td>8.409</td><td>0.032</td></tr>\n",
       "</table></div>"
      ],
      "text/plain": [
       "<Table length=1>\n",
       " col0  galaxy distance  gal_ra  ...  Slope  Slope_error  Value   Sigma \n",
       "int64   str7  float64  float64  ... float64   float64   float64 float64\n",
       "----- ------- -------- -------- ... ------- ----------- ------- -------\n",
       "    0 NGC1087    15.85 41.60492 ...   -0.07        0.01   8.409   0.032"
      ]
     },
     "execution_count": 2,
     "metadata": {},
     "output_type": "execute_result"
    }
   ],
   "source": [
    "# Compile galaxy and sne data\n",
    "data = Table.read('../Data/1.GroupedSampleData.csv', format='csv')\n",
    "\n",
    "data[0:1]\n",
    "\n",
    "# read in metallicity gradients\n",
    "metal = Table.read('../Data/0.groves_scal_gradients.csv', format='csv')\n",
    "metal[0:1]\n",
    "\n",
    "# join tables\n",
    "\n",
    "data = join(data, metal, [\"galaxy\"])\n",
    "data[0:1]"
   ]
  },
  {
   "cell_type": "code",
   "execution_count": 3,
   "metadata": {},
   "outputs": [],
   "source": [
    "# prepare lists for getValue method\n",
    "\n",
    "centerCoords = [(float(data[\"gal_ra\"][i]), float(data[\"gal_dec\"][i])) for i in range(len(data))] \n",
    "sn_ras, sn_decs, sn_names, sn_types = [],[],[],[]\n",
    "for i in range(len(data)):\n",
    "    sn_ras.append(data[\"sn_ra\"][i][1:-1].replace(\",\",\"\").split(\" \"))\n",
    "    sn_decs.append(data[\"sn_dec\"][i][1:-1].replace(\",\",\"\").split(\" \"))\n",
    "    sn_names.append(data[\"sn_name\"][i][1:-1].replace(\",\",\"\").replace(\"'\",\"\").split(\" \"))\n",
    "\n",
    "for i in range(len(sn_ras)):\n",
    "    sn_ras[i] = [float(ele) for ele in sn_ras[i]]\n",
    "    sn_decs[i] = [float(ele) for ele in sn_decs[i]]\n",
    "    \n",
    "sn_name = np.hstack(sn_names)\n",
    "\n",
    "sn_type = [\"II\",\"II\",'Ia', 'II', 'SESNe', 'Unc', \"II\", \"Ia\", \"Ia\", \"II\", 'II', \n",
    "           'SESNe', 'II', 'Ia', 'II', 'II', 'II','II', 'II', 'II', 'SESNe', 'II', \n",
    "           'II', 'II', 'II', 'II', 'II', 'Ia', 'Ia', 'Unc', 'Unc', 'SESNe', 'SESNe']"
   ]
  },
  {
   "cell_type": "code",
   "execution_count": 4,
   "metadata": {},
   "outputs": [
    {
     "data": {
      "text/html": [
       "&lt;Column name=&apos;sn_type&apos; dtype=&apos;str50&apos; length=10&gt;\n",
       "<table>\n",
       "<tr><td>[&apos;II&apos;]</td></tr>\n",
       "<tr><td>[&apos;II&apos;]</td></tr>\n",
       "<tr><td>[&apos;Ia&apos;, &apos;II&apos;, &apos;Ic&apos;, &apos;Unclassified&apos;]</td></tr>\n",
       "<tr><td>[&apos;II&apos;]</td></tr>\n",
       "<tr><td>[&apos;Ia&apos;, &apos;Ia-02cx&apos;, &apos;II&apos;]</td></tr>\n",
       "<tr><td>[&apos;II&apos;, &apos;Ib/c&apos;]</td></tr>\n",
       "<tr><td>[&apos;II&apos;, &apos;Ia&apos;, &apos;II P&apos;, &apos;II&apos;, &apos;IIn&apos;]</td></tr>\n",
       "<tr><td>[&apos;II&apos;, &apos;II&apos;, &apos;II&apos;, &apos;Ic&apos;]</td></tr>\n",
       "<tr><td>[&apos;II P&apos;, &apos;II&apos;, &apos;II&apos;, &apos;II&apos;, &apos;II P&apos;, &apos;II&apos;, &apos;Ia Pec&apos;]</td></tr>\n",
       "<tr><td>[&apos;Ia&apos;, &apos;I&apos;, &apos;I&apos;, &apos;Ic&apos;, &apos;Ib&apos;]</td></tr>\n",
       "</table>"
      ],
      "text/plain": [
       "<Column name='sn_type' dtype='str50' length=10>\n",
       "                                            ['II']\n",
       "                                            ['II']\n",
       "                ['Ia', 'II', 'Ic', 'Unclassified']\n",
       "                                            ['II']\n",
       "                           ['Ia', 'Ia-02cx', 'II']\n",
       "                                    ['II', 'Ib/c']\n",
       "                 ['II', 'Ia', 'II P', 'II', 'IIn']\n",
       "                          ['II', 'II', 'II', 'Ic']\n",
       "['II P', 'II', 'II', 'II', 'II P', 'II', 'Ia Pec']\n",
       "                      ['Ia', 'I', 'I', 'Ic', 'Ib']"
      ]
     },
     "execution_count": 4,
     "metadata": {},
     "output_type": "execute_result"
    }
   ],
   "source": [
    "data[\"sn_type\"]"
   ]
  },
  {
   "cell_type": "code",
   "execution_count": 5,
   "metadata": {},
   "outputs": [
    {
     "data": {
      "text/plain": [
       "array([[nan, nan, nan, ..., nan, nan, nan],\n",
       "       [nan, nan, nan, ..., nan, nan, nan],\n",
       "       [nan, nan, nan, ..., nan, nan, nan],\n",
       "       ...,\n",
       "       [nan, nan, nan, ..., nan, nan, nan],\n",
       "       [nan, nan, nan, ..., nan, nan, nan],\n",
       "       [nan, nan, nan, ..., nan, nan, nan]])"
      ]
     },
     "execution_count": 5,
     "metadata": {},
     "output_type": "execute_result"
    }
   ],
   "source": [
    "hdu=pyfits.open(data[\"maps_musedap\"][0])\n",
    "hdu[\"HA6562_SIGMA\"].data"
   ]
  },
  {
   "cell_type": "code",
   "execution_count": 6,
   "metadata": {},
   "outputs": [
    {
     "name": "stdout",
     "output_type": "stream",
     "text": [
      "Native Intensities\n",
      "-------------------\n",
      "[8.839672735197591e+39, 3.445745101042276e+38, 8.904660571183651e+37, 1.3530435354080875e+39, 1.4845660990817182e+40, 2.938518960212585e+39, 2.4790371281538853e+38, 1.263977781860364e+38, 3.8272402829093126e+38, 6.206906305070956e+39, 9.694817596411935e+40, 4.185157273316843e+39, 1.1176985848142032e+40, 1.2565095465358724e+40, 5.177867242845618e+39, 3.0814818947082474e+40, 9.927623759273137e+38, 1.4346514342074687e+40, 3.6180321930942297e+39, 5.1524628176390714e+39, 3.366146687872796e+40, 1.2852723829328137e+40, 8.237240338373292e+38, 4.150635721869112e+39, 2.9303903692530505e+38, 2.199480578104416e+39, 3.314915130256522e+39, 8.951255433113478e+38, 3.664262269436105e+38, 3.606657809150872e+39, 2.1120944464704693e+39, 5.473226299514552e+40, 1.0400343563277594e+39]\n",
      "\n",
      "150pc Intensities\n",
      "-------------------\n",
      "[9.098356574390131e+39, 5.543860583782077e+38, 9.61137910255348e+37, 1.8635576999760546e+39, 1.2147806235754843e+40, 3.591077078009263e+39, 2.5539187987566293e+38, 1.6517725129681728e+38, 7.612922852139554e+38, 1.2762259220392566e+40, 1.0642714910585425e+41, 5.875525325021214e+39, 9.38490903118108e+39, 2.2486133848057684e+40, 6.214955247532292e+39, 3.1356728600308767e+40, 8.718512596314148e+38, 1.240779377010253e+40, 4.0058221740563716e+39, 8.87915540700291e+39, 4.551894303728355e+40, 2.698822794975705e+40, 1.3527879572025055e+39, 5.616622648974493e+39, 5.915877208248966e+38, 1.7369472115878387e+39, 5.0060971152955296e+39, 1.2104713775083824e+39, 5.360398338175515e+38, 4.5106692808882e+39, 1.906234489817827e+39, 5.423781627640945e+40, 7.554060685290443e+38]\n",
      "\n",
      "1kpc Intensities\n",
      "-------------------\n",
      "[5.626363456901733e+39, 7.868984950864679e+38, 2.866850419201407e+38, 4.641739419198077e+39, 1.5745029644344602e+39, 4.5113659318499504e+39, 3.5918628424433485e+38, 2.6011293280284877e+38, 4.093381793956729e+39, 5.346720109001179e+39, 1.028422574762654e+41, 3.198043337942508e+39, 9.346342680785747e+39, 2.951569447621463e+40, 5.856808668725864e+39, 3.6211288248182755e+40, 1.0788403299448137e+39, 1.3336822700075117e+40, 2.255988672668333e+39, 1.1674103958803707e+40, 1.778240111870612e+40, 1.3659059125568437e+40, 2.5296318481363346e+39, 2.4358662684650992e+39, 1.0700036848511285e+39, 3.04301857351049e+39, 9.40643826722596e+39, 5.085551358668022e+39, 1.2127521789045132e+39, 8.596318696254096e+39, 4.6543019931292686e+39, 3.678375945878026e+40, 1.3650434603830136e+39]\n",
      "\n",
      "A_V\n",
      "-------------------\n",
      "[1.2788075992834158, 0.3049447396212661, 0.0, 0.17916425772905134, 0.9452981371543961, 0.3792970400406018, 0.23807412216935414, 0.0, 0.2583469600901398, 0.8637144049713334, 2.3533109304351405, 0.0, 1.174365603892914, 0.8105934792037327, 1.3588176996109647, 1.0336519588638895, 0.7841303040183983, 1.6514610239153436, 0.7766379130010229, 0.5184795746619125, 1.469457784883008, 0.41227280120707366, 0.0, 0.3528427329786138, 0.0, 0.9232910293667482, 0.32560772737337573, 0.27866560361769, 0.5388520283027971, 1.0740332476125958, 0.9233767955195454, 1.012613925156846, 1.4739685371415991]\n",
      "\n",
      "CO_21\n",
      "-------------------\n",
      "[10.125791, -0.13982967, -2.3060925, 2.8034263, 5.302033, nan, 0.14353992, 0.47932836, 15.37091, 61.47019, 96.2836, 3.4736962, 11.377414, 43.157227, 3.7275538, 114.989044, 6.9034038, 13.967913, 2.1031144, 6.4049506, 44.810436, 7.4857783, -0.90550584, 1.7587852, 2.0174208, 2.5670004, -0.7098836, 1.2786945, 0.45424065, 17.329782, 5.7940006, 18.7767, -0.53314614]\n",
      "\n",
      "eCO_21\n",
      "-------------------\n",
      "[0.9063823, 0.71178883, 0.98189175, 1.1442593, 0.9777514, nan, 0.43370235, 0.47227424, 1.1395168, 1.4010099, 0.6022856, 0.20404577, 0.7696098, 0.8719888, 0.92487454, 1.1135802, 1.0497956, 0.699124, 0.54203063, 0.7273452, 0.9495238, 0.91948825, 0.9430827, 1.9515179, 1.1028444, 1.0716689, 1.3054818, 0.99553216, 1.0318584, 1.0754051, 0.978202, 1.6606816, 1.5197159]\n",
      "\n",
      "lw\n",
      "-------------------\n",
      "[52.49597118323195, 66.20645202360187, 67.80803058745335, 67.5783735181326, 65.62497233234417, 63.37777764994122, 66.72808300207814, 73.48439047715426, 68.4384120218828, 57.169856446603866, 76.07570589690242, 501.3920551871064, 58.758273507559586, 66.47918642302146, 62.37824616697731, 67.8863319591035, 55.447572645366066, 63.360446710175275, 56.35596538718185, 62.457505886627295, 62.60772336808071, 60.550333461967924, 66.63977496682482, 57.64181353081069, 58.8637112151672, 57.26718107779834, 68.26887004833223, 71.26664845774208, 59.66408769958494, 55.167603534527046, 53.37901179788239, 65.9388602595939, 76.23712131586704]\n",
      "\n",
      "gcr [kpc]\n",
      "-------------------\n",
      "[0.14295581272079702, 0.3791372256557472, 0.31117160065160954, 0.7901610432754345, 0.4849807653394629, 0.8122435748346881, 0.35099411508780515, 0.3543751559931149, 0.12515317762001707, 0.04834469069591773, 0.04759220239111928, 0.3601959804020866, 0.29080283585667477, 0.17117843019223924, 0.3462052017533068, 0.1990338861954449, 0.2426629172012354, 0.16043845216461647, 0.4296117646097795, 0.1546472557300958, 0.07885947936662718, 0.23982772196510183, 0.3501443951096005, 0.40473346668857535, 0.16001706052516587, 0.3481717515634712, 0.257649507813319, 0.19496123908766105, 0.23633906470008892, 0.2965278676893219, 0.5718744604389849, 0.021112792585442172, 0.11828588069929911]\n",
      "\n",
      "gcr [reff]\n",
      "-------------------\n",
      "[3.396280301797827, 5.349132803990211, 16.537606327147618, 41.99410306523355, 25.77491312390853, 43.167706995891166, 7.365811758336993, 9.585917905115721, 3.385418153447413, 1.3077334240899299, 1.3190631219163207, 9.9831739348029, 4.388844509051779, 2.583453188151117, 5.224986180908622, 3.003852338546804, 3.6623088924553326, 4.235170824022057, 11.340667942028693, 4.082297832262594, 2.081691525348475, 5.763888198423595, 8.415178738219716, 9.727142604860367, 3.845762446268191, 8.367769302971501, 6.192207244627599, 4.685591706912551, 3.168915286491227, 3.975947412603036, 7.6678890218115505, 0.2830875684873655, 1.5860176818409213]\n",
      "\n",
      "met\n",
      "-------------------\n",
      "[8.241260378874152, 8.194418508484775, 8.611878787878789, 8.528133333333333, 8.581115151515151, 8.524145454545454, 8.473244447141619, 8.258321037510719, 8.487739528322445, 8.564613863308672, 8.54885217941509, 8.436218738847563, 8.56433306705431, 8.553500719128907, 8.569349917085452, 8.556023114031282, 8.559973853354732, 8.471415216927383, 8.272461297623197, 8.475695660696648, 8.531712637290243, 8.428555577650444, 8.343714280376968, 8.301731436644468, 8.489935601719418, 8.345231382304911, 8.414849368171916, 8.463061065378797, 8.503270371978246, 8.480673472447116, 8.377299107389277, 8.584073548082355, 8.547591504908455]\n",
      "\n"
     ]
    }
   ],
   "source": [
    "# get intensity and extinction values for each SN\n",
    "\n",
    "int_nat, int_150, int_1kpc, a_v, c_o, e_co, lw, rad, gcr_reff, met = [],[],[],[],[],[],[],[],[],[]\n",
    "for i in range(len(sn_ras)):\n",
    "    if len(sn_ras[i]) < 1:\n",
    "        int_nat.append(getValue(data[\"maps_nat\"][i], ext, sn_ras[i], sn_decs[i]))\n",
    "        int_150.append(getValue(data[\"maps_150\"][i], ext, sn_ras[i], sn_decs[i]))\n",
    "        int_1kpc.append(getValue(data[\"maps_1kpc\"][i], ext, sn_ras[i], sn_decs[i]))\n",
    "        a_v.append(3.1 * (getValue(data[\"maps_nat\"][i], \"EBV\", sn_ras[i], sn_decs[i])))\n",
    "        c_o.append(getValue(data[\"maps_CO21\"][i], 0, sn_ras[i], sn_decs[i]))\n",
    "        e_co.append(getValue(data[\"maps_eCO21\"][i], 0, sn_ras[i], sn_decs[i]))\n",
    "        lw.append(getValue(data[\"maps_musedap\"][i], \"HA6562_SIGMA\", sn_ras[i], sn_decs[i]))\n",
    "# #         line = getValue(data[\"maps_vdisp\"][i], 0, sn_ras[i], sn_decs[i])\n",
    "#         if np.isfinite(line):\n",
    "#             lw.append(str(round(line)))\n",
    "#         else:\n",
    "#             lw.append(\"-\")        \n",
    "        r_deg, r_asec, proj = gc(data[\"gal_ra\"][i], data[\"gal_dec\"][i], data[\"incl\"][i], data[\"pos_ang\"][i], \n",
    "                                   sn_ras[i], sn_decs[i]) \n",
    "        r = gcr(r_deg, data[\"distance\"][i])\n",
    "        reff = r / (data[\"r_eff\"][i])\n",
    "        rad.append(r/1000)\n",
    "        gcr_reff.append(reff)\n",
    "        met.append(reff * data[\"Slope\"][i] + data[\"Intercept\"][i])\n",
    "\n",
    "    else:\n",
    "        for j in range(len(sn_ras[i])):\n",
    "            int_nat.append(getValue(data[\"maps_nat\"][i], ext, sn_ras[i][j], sn_decs[i][j]))\n",
    "            int_150.append(getValue(data[\"maps_150\"][i], ext, sn_ras[i][j], sn_decs[i][j]))\n",
    "            int_1kpc.append(getValue(data[\"maps_1kpc\"][i], ext, sn_ras[i][j], sn_decs[i][j]))\n",
    "            a_v.append(3.1 * (getValue(data[\"maps_nat\"][i], \"EBV\", sn_ras[i][j], sn_decs[i][j])))\n",
    "            c_o.append(getValue(data[\"maps_CO21\"][i], 0, sn_ras[i][j], sn_decs[i][j]))\n",
    "            e_co.append(getValue(data[\"maps_eCO21\"][i], 0, sn_ras[i][j], sn_decs[i][j]))\n",
    "            lw.append(getValue(data[\"maps_musedap\"][i], \"HA6562_SIGMA\", sn_ras[i][j], sn_decs[i][j]))\n",
    "#             line = getValue(data[\"maps_vdisp\"][i], 0, sn_ras[i][j], sn_decs[i][j])\n",
    "#             if np.isfinite(line):\n",
    "#                 lw.append(str(round(line)))\n",
    "#             else:\n",
    "#                 lw.append(\"-\")\n",
    "            r_deg, r_asec, proj = gc(data[\"gal_ra\"][i], data[\"gal_dec\"][i], data[\"incl\"][i], data[\"pos_ang\"][i], \n",
    "                                       sn_ras[i][j], sn_decs[i][j]) \n",
    "            r = gcr(r_deg, data[\"distance\"][i])\n",
    "            reff = r / (data[\"r_eff\"][i])\n",
    "            rad.append(r/1000)\n",
    "            gcr_reff.append(reff)\n",
    "            met.append(reff * data[\"Slope\"][i] + data[\"Intercept\"][i])\n",
    "            \n",
    "met[2] = 8.611878787878789\n",
    "met[3] = 8.528133333333333\n",
    "met[4] = 8.581115151515151\n",
    "met[5] = 8.524145454545454 \n",
    "\n",
    "\n",
    "\n",
    "print(\"Native Intensities\")\n",
    "print(\"-------------------\")\n",
    "print(int_nat)\n",
    "print()\n",
    "print(\"150pc Intensities\")\n",
    "print(\"-------------------\")\n",
    "print(int_150)\n",
    "print()\n",
    "print(\"1kpc Intensities\")\n",
    "print(\"-------------------\")\n",
    "print(int_1kpc)\n",
    "print()\n",
    "print(\"A_V\")\n",
    "print(\"-------------------\")\n",
    "print(a_v)\n",
    "print()\n",
    "print(\"CO_21\")\n",
    "print(\"-------------------\")\n",
    "print(c_o)\n",
    "print()\n",
    "print(\"eCO_21\")\n",
    "print(\"-------------------\")\n",
    "print(e_co)\n",
    "print()\n",
    "print(\"lw\")\n",
    "print(\"-------------------\")\n",
    "print(lw)\n",
    "print()\n",
    "print(\"gcr [kpc]\")\n",
    "print(\"-------------------\")\n",
    "print(rad)\n",
    "print()\n",
    "print(\"gcr [reff]\")\n",
    "print(\"-------------------\")\n",
    "print(gcr_reff)\n",
    "print()\n",
    "print(\"met\")\n",
    "print(\"-------------------\")\n",
    "print(met)\n",
    "print()"
   ]
  },
  {
   "cell_type": "code",
   "execution_count": 7,
   "metadata": {},
   "outputs": [],
   "source": [
    "# flag whether CO or not at SN sites\n",
    "co_snr = [x/y for x,y in zip(c_o,e_co)]\n",
    "co_snr = np.clip(co_snr, 0, np.max(co_snr))\n",
    "\n",
    "co = []\n",
    "for i in range(len(co_snr)):\n",
    "    if co_snr[i] >= 3.:\n",
    "        co.append(\"Yes\")\n",
    "    else:\n",
    "        co.append(\"No\")"
   ]
  },
  {
   "cell_type": "code",
   "execution_count": 8,
   "metadata": {},
   "outputs": [],
   "source": [
    "intensities = Table({\"Supernova\" : sn_name,\n",
    "                    \"sn_type\"   : sn_type,\n",
    "                    \"int_nat\"    : int_nat,\n",
    "                    \"int_150\"    : int_150,\n",
    "                    \"int_1kpc\"   : int_1kpc,\n",
    "                    \"a_v\"        : a_v,\n",
    "                    \"c_o\"        : c_o,\n",
    "                    \"e_co\"       : e_co,\n",
    "                    \"co_snr\"     : co_snr,\n",
    "                    \"co\"         : co,\n",
    "                    \"halpha_lws\" : lw,\n",
    "                    \"gcr\"        : rad,\n",
    "                    \"gcr_reff\"   : gcr_reff,\n",
    "                    \"met_theory\" : met})\n",
    "\n",
    "intensities.write(\"../Data/1.sn_ints_exts.csv\", format = \"csv\", overwrite = True)"
   ]
  },
  {
   "cell_type": "code",
   "execution_count": 9,
   "metadata": {},
   "outputs": [
    {
     "data": {
      "text/html": [
       "<div><i>Table length=33</i>\n",
       "<table id=\"table5237839568\" class=\"table-striped table-bordered table-condensed\">\n",
       "<thead><tr><th>Supernova</th><th>sn_type</th><th>int_nat</th><th>int_150</th><th>int_1kpc</th><th>a_v</th><th>c_o</th><th>e_co</th><th>co_snr</th><th>co</th><th>halpha_lws</th><th>gcr</th><th>gcr_reff</th><th>met_theory</th></tr></thead>\n",
       "<thead><tr><th>str11</th><th>str5</th><th>float64</th><th>float64</th><th>float64</th><th>float64</th><th>float64</th><th>float64</th><th>float64</th><th>str3</th><th>float64</th><th>float64</th><th>float64</th><th>float64</th></tr></thead>\n",
       "<tr><td>SN1995V</td><td>II</td><td>8.839672735197591e+39</td><td>9.098356574390131e+39</td><td>5.626363456901733e+39</td><td>1.2788075992834158</td><td>10.1257905960083</td><td>0.9063823223114014</td><td>11.17165470123291</td><td>Yes</td><td>52.49597118323195</td><td>0.14295581272079702</td><td>3.396280301797827</td><td>8.241260378874152</td></tr>\n",
       "<tr><td>SN2022acko</td><td>II</td><td>3.445745101042276e+38</td><td>5.543860583782077e+38</td><td>7.868984950864679e+38</td><td>0.3049447396212661</td><td>-0.13982966542243958</td><td>0.7117888331413269</td><td>0.0</td><td>No</td><td>66.20645202360187</td><td>0.3791372256557472</td><td>5.349132803990211</td><td>8.194418508484775</td></tr>\n",
       "<tr><td>SN2012fr</td><td>Ia</td><td>8.904660571183651e+37</td><td>9.61137910255348e+37</td><td>2.866850419201407e+38</td><td>0.0</td><td>-2.3060925006866455</td><td>0.9818917512893677</td><td>0.0</td><td>No</td><td>67.80803058745335</td><td>0.31117160065160954</td><td>16.537606327147618</td><td>8.611878787878789</td></tr>\n",
       "<tr><td>SN2001du</td><td>II</td><td>1.3530435354080875e+39</td><td>1.8635576999760546e+39</td><td>4.641739419198077e+39</td><td>0.17916425772905134</td><td>2.8034262657165527</td><td>1.1442593336105347</td><td>2.4499919414520264</td><td>No</td><td>67.5783735181326</td><td>0.7901610432754345</td><td>41.99410306523355</td><td>8.528133333333333</td></tr>\n",
       "<tr><td>SN1983V</td><td>SESNe</td><td>1.4845660990817182e+40</td><td>1.2147806235754843e+40</td><td>1.5745029644344602e+39</td><td>0.9452981371543961</td><td>5.302032947540283</td><td>0.9777513742446899</td><td>5.422679901123047</td><td>Yes</td><td>65.62497233234417</td><td>0.4849807653394629</td><td>25.77491312390853</td><td>8.581115151515151</td></tr>\n",
       "<tr><td>SN1957C</td><td>Unc</td><td>2.938518960212585e+39</td><td>3.591077078009263e+39</td><td>4.5113659318499504e+39</td><td>0.3792970400406018</td><td>nan</td><td>nan</td><td>nan</td><td>No</td><td>63.37777764994122</td><td>0.8122435748346881</td><td>43.167706995891166</td><td>8.524145454545454</td></tr>\n",
       "<tr><td>...</td><td>...</td><td>...</td><td>...</td><td>...</td><td>...</td><td>...</td><td>...</td><td>...</td><td>...</td><td>...</td><td>...</td><td>...</td><td>...</td></tr>\n",
       "<tr><td>SN2006ov</td><td>II</td><td>3.314915130256522e+39</td><td>5.0060971152955296e+39</td><td>9.40643826722596e+39</td><td>0.32560772737337573</td><td>-0.7098835706710815</td><td>1.3054817914962769</td><td>0.0</td><td>No</td><td>68.26887004833223</td><td>0.257649507813319</td><td>6.192207244627599</td><td>8.414849368171916</td></tr>\n",
       "<tr><td>SN2014dt</td><td>Ia</td><td>8.951255433113478e+38</td><td>1.2104713775083824e+39</td><td>5.085551358668022e+39</td><td>0.27866560361769</td><td>1.2786945104599</td><td>0.9955321550369263</td><td>1.284433126449585</td><td>No</td><td>71.26664845774208</td><td>0.19496123908766105</td><td>4.685591706912551</td><td>8.463061065378797</td></tr>\n",
       "<tr><td>SN2006X</td><td>Ia</td><td>3.664262269436105e+38</td><td>5.360398338175515e+38</td><td>1.2127521789045132e+39</td><td>0.5388520283027971</td><td>0.4542406499385834</td><td>1.0318584442138672</td><td>0.440216064453125</td><td>No</td><td>59.66408769958494</td><td>0.23633906470008892</td><td>3.168915286491227</td><td>8.503270371978246</td></tr>\n",
       "<tr><td>SN1959E</td><td>Unc</td><td>3.606657809150872e+39</td><td>4.5106692808882e+39</td><td>8.596318696254096e+39</td><td>1.0740332476125958</td><td>17.329782485961914</td><td>1.0754051208496094</td><td>16.114654541015625</td><td>Yes</td><td>55.167603534527046</td><td>0.2965278676893219</td><td>3.975947412603036</td><td>8.480673472447116</td></tr>\n",
       "<tr><td>SN1901B</td><td>Unc</td><td>2.1120944464704693e+39</td><td>1.906234489817827e+39</td><td>4.6543019931292686e+39</td><td>0.9233767955195454</td><td>5.794000625610352</td><td>0.9782019853591919</td><td>5.923112869262695</td><td>Yes</td><td>53.37901179788239</td><td>0.5718744604389849</td><td>7.6678890218115505</td><td>8.377299107389277</td></tr>\n",
       "<tr><td>SN2020oi</td><td>SESNe</td><td>5.473226299514552e+40</td><td>5.423781627640945e+40</td><td>3.678375945878026e+40</td><td>1.012613925156846</td><td>18.77669906616211</td><td>1.6606816053390503</td><td>11.306621551513672</td><td>Yes</td><td>65.9388602595939</td><td>0.021112792585442172</td><td>0.2830875684873655</td><td>8.584073548082355</td></tr>\n",
       "<tr><td>SN2019ehk</td><td>SESNe</td><td>1.0400343563277594e+39</td><td>7.554060685290443e+38</td><td>1.3650434603830136e+39</td><td>1.4739685371415991</td><td>-0.5331461429595947</td><td>1.5197159051895142</td><td>0.0</td><td>No</td><td>76.23712131586704</td><td>0.11828588069929911</td><td>1.5860176818409213</td><td>8.547591504908455</td></tr>\n",
       "</table></div>"
      ],
      "text/plain": [
       "<Table length=33>\n",
       "Supernova  sn_type ...      gcr_reff          met_theory   \n",
       "  str11      str5  ...      float64            float64     \n",
       "---------- ------- ... ------------------ -----------------\n",
       "   SN1995V      II ...  3.396280301797827 8.241260378874152\n",
       "SN2022acko      II ...  5.349132803990211 8.194418508484775\n",
       "  SN2012fr      Ia ... 16.537606327147618 8.611878787878789\n",
       "  SN2001du      II ...  41.99410306523355 8.528133333333333\n",
       "   SN1983V   SESNe ...  25.77491312390853 8.581115151515151\n",
       "   SN1957C     Unc ... 43.167706995891166 8.524145454545454\n",
       "       ...     ... ...                ...               ...\n",
       "  SN2006ov      II ...  6.192207244627599 8.414849368171916\n",
       "  SN2014dt      Ia ...  4.685591706912551 8.463061065378797\n",
       "   SN2006X      Ia ...  3.168915286491227 8.503270371978246\n",
       "   SN1959E     Unc ...  3.975947412603036 8.480673472447116\n",
       "   SN1901B     Unc ... 7.6678890218115505 8.377299107389277\n",
       "  SN2020oi   SESNe ... 0.2830875684873655 8.584073548082355\n",
       " SN2019ehk   SESNe ... 1.5860176818409213 8.547591504908455"
      ]
     },
     "execution_count": 9,
     "metadata": {},
     "output_type": "execute_result"
    }
   ],
   "source": [
    "intensities"
   ]
  },
  {
   "cell_type": "code",
   "execution_count": null,
   "metadata": {},
   "outputs": [],
   "source": []
  }
 ],
 "metadata": {
  "kernelspec": {
   "display_name": "Python 3 (ipykernel)",
   "language": "python",
   "name": "python3"
  },
  "language_info": {
   "codemirror_mode": {
    "name": "ipython",
    "version": 3
   },
   "file_extension": ".py",
   "mimetype": "text/x-python",
   "name": "python",
   "nbconvert_exporter": "python",
   "pygments_lexer": "ipython3",
   "version": "3.11.5"
  }
 },
 "nbformat": 4,
 "nbformat_minor": 2
}
