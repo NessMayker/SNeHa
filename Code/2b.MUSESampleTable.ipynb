{
 "cells": [
  {
   "cell_type": "markdown",
   "metadata": {},
   "source": [
    "This notebook makes the latex table for the SNeHa sample"
   ]
  },
  {
   "cell_type": "code",
   "execution_count": 1,
   "metadata": {},
   "outputs": [],
   "source": [
    "#import packages and formatting statements\n",
    "\n",
    "import numpy as np\n",
    "from matplotlib import pyplot as plt\n",
    "import astropy.io.fits as pyfits\n",
    "from astropy.table import Table, join\n",
    "from astropy.wcs import WCS\n",
    "from astropy.io import ascii\n",
    "import os\n",
    "\n",
    "import warnings\n",
    "warnings.filterwarnings('ignore')\n"
   ]
  },
  {
   "cell_type": "code",
   "execution_count": 2,
   "metadata": {
    "scrolled": true
   },
   "outputs": [
    {
     "data": {
      "text/html": [
       "<div><i>Table length=2</i>\n",
       "<table id=\"table140158726318208\" class=\"table-striped table-bordered table-condensed\">\n",
       "<thead><tr><th>Galaxy</th><th>Distance</th><th>Incl</th><th>Supernova</th><th>Type</th><th>Ra</th><th>Dec</th><th>MUSERes</th><th>MUSENatMap</th><th>MUSE150pcMap</th><th>MUSEHII</th><th>IRACfiles</th><th>Intensity</th><th>coptMap</th><th>CO21</th><th>eCO21</th><th>InSample</th></tr></thead>\n",
       "<thead><tr><th>str7</th><th>float64</th><th>float64</th><th>str11</th><th>str12</th><th>float64</th><th>float64</th><th>float64</th><th>str71</th><th>str70</th><th>str50</th><th>str40</th><th>float64</th><th>str58</th><th>str72</th><th>str73</th><th>str5</th></tr></thead>\n",
       "<tr><td>NGC0628</td><td>9.84</td><td>8.9</td><td>SN2013ej</td><td>II</td><td>24.200666666666667</td><td>15.758611111111112</td><td>0.92</td><td>../../GalaxyFiles/MUSELargeFiles/MUSE2.2_Nat/NGC0628-0.92asec_MAPS.fits</td><td>../../GalaxyFiles/MUSELargeFiles/MUSE2.2_150pc/NGC0628-150pc_MAPS.fits</td><td>../Data/HII_reg_masks/NGC0628_nebulae_mask_V2.fits</td><td>../Data/IRAC/ngc0628_irac1_atGauss4.fits</td><td>nan</td><td>../../GalaxyFiles/MUSELargeFiles/SFR/copt/NGC0628_sfr.fits</td><td>../../GalaxyFiles/ALMACO2-1/ngc0628_12m+7m+tp_co21_150pc_broad_mom0.fits</td><td>../../GalaxyFiles/ALMACO2-1/ngc0628_12m+7m+tp_co21_150pc_broad_emom0.fits</td><td>False</td></tr>\n",
       "<tr><td>NGC0628</td><td>9.84</td><td>8.9</td><td>SN2019krl</td><td>IIn/LBV</td><td>24.2067875</td><td>15.77946388888889</td><td>0.92</td><td>../../GalaxyFiles/MUSELargeFiles/MUSE2.2_Nat/NGC0628-0.92asec_MAPS.fits</td><td>../../GalaxyFiles/MUSELargeFiles/MUSE2.2_150pc/NGC0628-150pc_MAPS.fits</td><td>../Data/HII_reg_masks/NGC0628_nebulae_mask_V2.fits</td><td>../Data/IRAC/ngc0628_irac1_atGauss4.fits</td><td>5.692852417108771e+38</td><td>../../GalaxyFiles/MUSELargeFiles/SFR/copt/NGC0628_sfr.fits</td><td>../../GalaxyFiles/ALMACO2-1/ngc0628_12m+7m+tp_co21_150pc_broad_mom0.fits</td><td>../../GalaxyFiles/ALMACO2-1/ngc0628_12m+7m+tp_co21_150pc_broad_emom0.fits</td><td>False</td></tr>\n",
       "</table></div>"
      ],
      "text/plain": [
       "<Table length=2>\n",
       " Galaxy Distance ... InSample\n",
       "  str7  float64  ...   str5  \n",
       "------- -------- ... --------\n",
       "NGC0628     9.84 ...    False\n",
       "NGC0628     9.84 ...    False"
      ]
     },
     "execution_count": 2,
     "metadata": {},
     "output_type": "execute_result"
    }
   ],
   "source": [
    "# Compile galaxy and OSC objects\n",
    "\n",
    "dataFile = '../Data/2.MUSEMasterCat.csv'\n",
    "data = Table.read(dataFile, format = \"csv\")\n",
    "\n",
    "data[0:2]\n"
   ]
  },
  {
   "cell_type": "code",
   "execution_count": 3,
   "metadata": {},
   "outputs": [
    {
     "data": {
      "text/html": [
       "<div><i>Table length=2</i>\n",
       "<table id=\"table140158726316432\" class=\"table-striped table-bordered table-condensed\">\n",
       "<thead><tr><th>Supernova</th><th>Type</th><th>Int_native</th><th>Int_150</th><th>Int_1kpc</th></tr></thead>\n",
       "<thead><tr><th>str11</th><th>str12</th><th>float64</th><th>float64</th><th>float64</th></tr></thead>\n",
       "<tr><td>SN2013ej</td><td>II</td><td>nan</td><td>nan</td><td>nan</td></tr>\n",
       "<tr><td>SN2019krl</td><td>IIn/LBV</td><td>447.33069091690675</td><td>117.73639895611818</td><td>119.62957869932427</td></tr>\n",
       "</table></div>"
      ],
      "text/plain": [
       "<Table length=2>\n",
       "Supernova   Type      Int_native          Int_150            Int_1kpc     \n",
       "  str11    str12       float64            float64            float64      \n",
       "--------- ------- ------------------ ------------------ ------------------\n",
       " SN2013ej      II                nan                nan                nan\n",
       "SN2019krl IIn/LBV 447.33069091690675 117.73639895611818 119.62957869932427"
      ]
     },
     "execution_count": 3,
     "metadata": {},
     "output_type": "execute_result"
    }
   ],
   "source": [
    "# Compile intensities\n",
    "intsFile = '../Data/2.Intensities.csv'\n",
    "ints = Table.read(intsFile, format = \"csv\")\n",
    "\n",
    "ints[0:2]\n"
   ]
  },
  {
   "cell_type": "code",
   "execution_count": 9,
   "metadata": {},
   "outputs": [],
   "source": [
    "# make Table for Latex Table\n",
    "ra   = [float(x) for x in data[\"Ra\"]]\n",
    "ra   = [round(x,4) for x in ra]\n",
    "dec  = [float(x) for x in data[\"Dec\"]]\n",
    "dec  = [round(x,4) for x in dec]\n",
    "# int150  = [float(x) for x in data[\"MUSE150pcInt\"]]\n",
    "# int150  = [round(x,0) for x in int150]\n",
    "int_nat  = [float(x) for x in ints[\"Int_native\"]]\n",
    "int_nat  = [round(x,0) for x in int_nat]\n",
    "\n",
    "inSample, inESO, inMUSE, paper = [],[],[],[]\n",
    "for i in range(len(data[\"InSample\"])):\n",
    "    paper.append(\"?\")\n",
    "    if data[\"InSample\"][i] == \"True\":\n",
    "        inSample.append(\"\\checkmark\")\n",
    "    else: \n",
    "        inSample.append(\"-\")      \n",
    "\n",
    "texTable = Table({\"Galaxy\"    : data[\"Galaxy\"],\n",
    "                  \"Supernova\" : data[\"Supernova\"],\n",
    "                  \"Type\"      : data[\"Type\"],\n",
    "                  \"Ra\"        : ra,\n",
    "                  \"Dec\"       : dec,\n",
    "                  \"In Sample\" : inSample,\n",
    "                  \"Intensity\": int_nat,\n",
    "                  \"Resolution\": data[\"MUSERes\"],\n",
    "                  \"Reference\" : paper})"
   ]
  },
  {
   "cell_type": "code",
   "execution_count": 10,
   "metadata": {},
   "outputs": [],
   "source": [
    "ascii.write(texTable, '../Data/2.SNeHaMaster.tex', format='latex', fast_writer=False, overwrite = True)  "
   ]
  },
  {
   "cell_type": "code",
   "execution_count": 11,
   "metadata": {},
   "outputs": [
    {
     "data": {
      "text/plain": [
       "[Text(0.5, 1.0, 'Intensity Values')]"
      ]
     },
     "execution_count": 11,
     "metadata": {},
     "output_type": "execute_result"
    },
    {
     "data": {
      "image/png": "[encoded data removed]",
      "text/plain": [
       "<Figure size 640x480 with 1 Axes>"
      ]
     },
     "metadata": {},
     "output_type": "display_data"
    }
   ],
   "source": [
    "import seaborn as sns\n",
    "\n",
    "sns.histplot(int_nat).set(title = \"Intensity Values\")"
   ]
  },
  {
   "cell_type": "code",
   "execution_count": null,
   "metadata": {},
   "outputs": [],
   "source": []
  }
 ],
 "metadata": {
  "kernelspec": {
   "display_name": "Python 3 (ipykernel)",
   "language": "python",
   "name": "python3"
  },
  "language_info": {
   "codemirror_mode": {
    "name": "ipython",
    "version": 3
   },
   "file_extension": ".py",
   "mimetype": "text/x-python",
   "name": "python",
   "nbconvert_exporter": "python",
   "pygments_lexer": "ipython3",
   "version": "3.9.13"
  }
 },
 "nbformat": 4,
 "nbformat_minor": 2
}
